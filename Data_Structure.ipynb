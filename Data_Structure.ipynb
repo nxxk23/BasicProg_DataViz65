{
  "nbformat": 4,
  "nbformat_minor": 0,
  "metadata": {
    "colab": {
      "name": "Data Structure.ipynb",
      "provenance": [],
      "toc_visible": true,
      "authorship_tag": "ABX9TyO/auJJ95w2exDuaAwgBQR5",
      "include_colab_link": true
    },
    "kernelspec": {
      "name": "python3",
      "display_name": "Python 3"
    },
    "language_info": {
      "name": "python"
    }
  },
  "cells": [
    {
      "cell_type": "markdown",
      "metadata": {
        "id": "view-in-github",
        "colab_type": "text"
      },
      "source": [
        "<a href=\"https://colab.research.google.com/github/nxxk23/BasicProg_DataViz65/blob/main/Data_Structure.ipynb\" target=\"_parent\"><img src=\"https://colab.research.google.com/assets/colab-badge.svg\" alt=\"Open In Colab\"/></a>"
      ]
    },
    {
      "cell_type": "markdown",
      "source": [
        "#Data Structure(โครงสร้างข้อมูล)"
      ],
      "metadata": {
        "id": "ltInnplT1Dld"
      }
    },
    {
      "cell_type": "markdown",
      "source": [
        "การเก็บข้อมูลหลายๆตัวไว้ด้วยกันอย่างเป็นระเบียบ"
      ],
      "metadata": {
        "id": "864cCA9u1ObJ"
      }
    },
    {
      "cell_type": "markdown",
      "source": [
        "##```List()```\n",
        "\n",
        "*  เก็บอะไรก็ได้\n",
        "*  ลำดับในการเก็บมีความสำคัญ\n"
      ],
      "metadata": {
        "id": "jQwoRBdS1VJx"
      }
    },
    {
      "cell_type": "code",
      "source": [
        "list_a = [1,2,3,4,5,6] # [ ] square brackets"
      ],
      "metadata": {
        "id": "Z62wu3gt1eNu"
      },
      "execution_count": 1,
      "outputs": []
    },
    {
      "cell_type": "code",
      "source": [
        "list_a"
      ],
      "metadata": {
        "colab": {
          "base_uri": "https://localhost:8080/"
        },
        "id": "5GhPs8ll1s2l",
        "outputId": "48456a29-7533-4225-e1d9-005cf9e204eb"
      },
      "execution_count": 2,
      "outputs": [
        {
          "output_type": "execute_result",
          "data": {
            "text/plain": [
              "[1, 2, 3, 4, 5, 6]"
            ]
          },
          "metadata": {},
          "execution_count": 2
        }
      ]
    },
    {
      "cell_type": "code",
      "source": [
        "list_b = ['ab',2,3.14,list_a]"
      ],
      "metadata": {
        "id": "-Kn2Xjrn2RJZ"
      },
      "execution_count": 3,
      "outputs": []
    },
    {
      "cell_type": "code",
      "source": [
        "list_b"
      ],
      "metadata": {
        "colab": {
          "base_uri": "https://localhost:8080/"
        },
        "id": "oIsLUvOX2kfO",
        "outputId": "080cdfff-47ec-4c62-b81a-8edfddf3dbe7"
      },
      "execution_count": 4,
      "outputs": [
        {
          "output_type": "execute_result",
          "data": {
            "text/plain": [
              "['ab', 2, 3.14, [1, 2, 3, 4, 5, 6]]"
            ]
          },
          "metadata": {},
          "execution_count": 4
        }
      ]
    },
    {
      "cell_type": "markdown",
      "source": [
        "### indexing  การชี้สมาชิกใน list ด้วยเลขลำดับของ list"
      ],
      "metadata": {
        "id": "ubChPN1r27Nl"
      }
    },
    {
      "cell_type": "code",
      "source": [
        "list_a[3]"
      ],
      "metadata": {
        "colab": {
          "base_uri": "https://localhost:8080/"
        },
        "id": "0YTaKnu02p4G",
        "outputId": "7b25e37a-378f-4b1f-d2a3-9bf0935cd848"
      },
      "execution_count": 5,
      "outputs": [
        {
          "output_type": "execute_result",
          "data": {
            "text/plain": [
              "4"
            ]
          },
          "metadata": {},
          "execution_count": 5
        }
      ]
    },
    {
      "cell_type": "code",
      "source": [
        "list_b[3]"
      ],
      "metadata": {
        "colab": {
          "base_uri": "https://localhost:8080/"
        },
        "id": "lPMwvQ862rW0",
        "outputId": "195249a8-62f8-481e-f040-baf967906f69"
      },
      "execution_count": 6,
      "outputs": [
        {
          "output_type": "execute_result",
          "data": {
            "text/plain": [
              "[1, 2, 3, 4, 5, 6]"
            ]
          },
          "metadata": {},
          "execution_count": 6
        }
      ]
    },
    {
      "cell_type": "code",
      "source": [
        "list_b[3][4]"
      ],
      "metadata": {
        "colab": {
          "base_uri": "https://localhost:8080/"
        },
        "id": "bG4URrcn3br0",
        "outputId": "5935d431-c9cc-4fa9-af8e-ec2036d5bb03"
      },
      "execution_count": 7,
      "outputs": [
        {
          "output_type": "execute_result",
          "data": {
            "text/plain": [
              "5"
            ]
          },
          "metadata": {},
          "execution_count": 7
        }
      ]
    },
    {
      "cell_type": "code",
      "source": [
        "list_a[6]"
      ],
      "metadata": {
        "colab": {
          "base_uri": "https://localhost:8080/",
          "height": 165
        },
        "id": "Zzf4jWzN4495",
        "outputId": "35f7a054-fea9-40c4-b30f-6d22858266a0"
      },
      "execution_count": 8,
      "outputs": [
        {
          "output_type": "error",
          "ename": "IndexError",
          "evalue": "ignored",
          "traceback": [
            "\u001b[0;31m---------------------------------------------------------------------------\u001b[0m",
            "\u001b[0;31mIndexError\u001b[0m                                Traceback (most recent call last)",
            "\u001b[0;32m<ipython-input-8-d6b61775e813>\u001b[0m in \u001b[0;36m<module>\u001b[0;34m()\u001b[0m\n\u001b[0;32m----> 1\u001b[0;31m \u001b[0mlist_a\u001b[0m\u001b[0;34m[\u001b[0m\u001b[0;36m6\u001b[0m\u001b[0;34m]\u001b[0m\u001b[0;34m\u001b[0m\u001b[0;34m\u001b[0m\u001b[0m\n\u001b[0m",
            "\u001b[0;31mIndexError\u001b[0m: list index out of range"
          ]
        }
      ]
    },
    {
      "cell_type": "code",
      "source": [
        "list_a[-1] #index -1 คือตัวสุดท้ายของ list"
      ],
      "metadata": {
        "colab": {
          "base_uri": "https://localhost:8080/"
        },
        "id": "2hDIFteV49Pp",
        "outputId": "579a32b0-2492-4c21-a805-b15e857a5968"
      },
      "execution_count": 9,
      "outputs": [
        {
          "output_type": "execute_result",
          "data": {
            "text/plain": [
              "6"
            ]
          },
          "metadata": {},
          "execution_count": 9
        }
      ]
    },
    {
      "cell_type": "code",
      "source": [
        "list_a[-4]"
      ],
      "metadata": {
        "colab": {
          "base_uri": "https://localhost:8080/"
        },
        "id": "zWgCXk905H7y",
        "outputId": "b8695417-ac30-47cd-8c15-6efc4ab2f133"
      },
      "execution_count": 10,
      "outputs": [
        {
          "output_type": "execute_result",
          "data": {
            "text/plain": [
              "3"
            ]
          },
          "metadata": {},
          "execution_count": 10
        }
      ]
    },
    {
      "cell_type": "markdown",
      "source": [
        "###การสร้าง ```list()```"
      ],
      "metadata": {
        "id": "kvlh2P0i5Od8"
      }
    },
    {
      "cell_type": "code",
      "source": [
        "list_x1=[] #แบบที่ 1\n",
        "list_x2=list() #แบบที่ 2"
      ],
      "metadata": {
        "id": "fUAJnWOt5Y0c"
      },
      "execution_count": 11,
      "outputs": []
    },
    {
      "cell_type": "code",
      "source": [
        "print(list_x1)\n",
        "print(list_x2)"
      ],
      "metadata": {
        "colab": {
          "base_uri": "https://localhost:8080/"
        },
        "id": "b3V51L_I56KC",
        "outputId": "63ecbe14-f1aa-4746-91b6-3ede305cc45d"
      },
      "execution_count": 12,
      "outputs": [
        {
          "output_type": "stream",
          "name": "stdout",
          "text": [
            "[]\n",
            "[]\n"
          ]
        }
      ]
    },
    {
      "cell_type": "markdown",
      "source": [
        "###เพิ่มสมาชิกเข้าไปใน list ด้วย ```append()```"
      ],
      "metadata": {
        "id": "MV3fGnem6AUR"
      }
    },
    {
      "cell_type": "code",
      "source": [
        "list_x1.append(2)"
      ],
      "metadata": {
        "id": "sf5eeBDC6LwI"
      },
      "execution_count": 13,
      "outputs": []
    },
    {
      "cell_type": "code",
      "source": [
        "list_x1"
      ],
      "metadata": {
        "colab": {
          "base_uri": "https://localhost:8080/"
        },
        "id": "JswQOCT16pIi",
        "outputId": "ab56eef4-0eef-4f7c-fd97-7449d43de310"
      },
      "execution_count": 14,
      "outputs": [
        {
          "output_type": "execute_result",
          "data": {
            "text/plain": [
              "[2]"
            ]
          },
          "metadata": {},
          "execution_count": 14
        }
      ]
    },
    {
      "cell_type": "code",
      "source": [
        "list_x1.append(4)\n",
        "print(list_x1)"
      ],
      "metadata": {
        "colab": {
          "base_uri": "https://localhost:8080/"
        },
        "id": "-a7nkFLX6t-P",
        "outputId": "a68c577c-e4db-40c9-c767-c3a6346c6a8c"
      },
      "execution_count": 15,
      "outputs": [
        {
          "output_type": "stream",
          "name": "stdout",
          "text": [
            "[2, 4]\n"
          ]
        }
      ]
    },
    {
      "cell_type": "code",
      "source": [
        "list_x1[0]"
      ],
      "metadata": {
        "colab": {
          "base_uri": "https://localhost:8080/"
        },
        "id": "oSOc6tXy61uE",
        "outputId": "18d6c6c9-488b-4061-c7f5-35eb4b57b47f"
      },
      "execution_count": 16,
      "outputs": [
        {
          "output_type": "execute_result",
          "data": {
            "text/plain": [
              "2"
            ]
          },
          "metadata": {},
          "execution_count": 16
        }
      ]
    },
    {
      "cell_type": "code",
      "source": [
        "list_x1[-1]"
      ],
      "metadata": {
        "colab": {
          "base_uri": "https://localhost:8080/"
        },
        "id": "H5i8RcfQ64xy",
        "outputId": "d9c318f3-1b5a-4ed2-e3a2-7b15dccd2d17"
      },
      "execution_count": 17,
      "outputs": [
        {
          "output_type": "execute_result",
          "data": {
            "text/plain": [
              "4"
            ]
          },
          "metadata": {},
          "execution_count": 17
        }
      ]
    },
    {
      "cell_type": "code",
      "source": [
        "list_x2"
      ],
      "metadata": {
        "colab": {
          "base_uri": "https://localhost:8080/"
        },
        "id": "LS6az2qn7BgC",
        "outputId": "e7978bb4-c6aa-466b-820d-79769a2d117e"
      },
      "execution_count": 18,
      "outputs": [
        {
          "output_type": "execute_result",
          "data": {
            "text/plain": [
              "[]"
            ]
          },
          "metadata": {},
          "execution_count": 18
        }
      ]
    },
    {
      "cell_type": "markdown",
      "source": [
        "###ลบสมาชิกจาก list"
      ],
      "metadata": {
        "id": "aw8YAepd7eNM"
      }
    },
    {
      "cell_type": "code",
      "source": [
        "list_x1.append('ha')"
      ],
      "metadata": {
        "id": "j0WRT41T7G2D"
      },
      "execution_count": 19,
      "outputs": []
    },
    {
      "cell_type": "code",
      "source": [
        "list_x1"
      ],
      "metadata": {
        "colab": {
          "base_uri": "https://localhost:8080/"
        },
        "id": "4fzM8kp87NXP",
        "outputId": "10847bbb-9b19-4804-9d08-a0ad66d2c9b8"
      },
      "execution_count": 20,
      "outputs": [
        {
          "output_type": "execute_result",
          "data": {
            "text/plain": [
              "[2, 4, 'ha']"
            ]
          },
          "metadata": {},
          "execution_count": 20
        }
      ]
    },
    {
      "cell_type": "code",
      "source": [
        "list_x1.pop()\n",
        "print(list_x1)"
      ],
      "metadata": {
        "colab": {
          "base_uri": "https://localhost:8080/"
        },
        "id": "ooBnJDwO7ROM",
        "outputId": "cdd4561a-96a1-4bf3-9a8e-197eba35a03b"
      },
      "execution_count": 21,
      "outputs": [
        {
          "output_type": "stream",
          "name": "stdout",
          "text": [
            "[2, 4]\n"
          ]
        }
      ]
    },
    {
      "cell_type": "markdown",
      "source": [
        "###```len()``` ตรวจสอบจำนวนสมาชิกของ list"
      ],
      "metadata": {
        "id": "U4ERDTzW7vQV"
      }
    },
    {
      "cell_type": "code",
      "source": [
        "print(list_b)\n",
        "print(len(list_b))"
      ],
      "metadata": {
        "colab": {
          "base_uri": "https://localhost:8080/"
        },
        "id": "5afOcUOc8L_6",
        "outputId": "8e35c0e2-553c-45e5-d906-5c08a4ef1b1b"
      },
      "execution_count": 22,
      "outputs": [
        {
          "output_type": "stream",
          "name": "stdout",
          "text": [
            "['ab', 2, 3.14, [1, 2, 3, 4, 5, 6]]\n",
            "4\n"
          ]
        }
      ]
    },
    {
      "cell_type": "code",
      "source": [
        "len(list_a)"
      ],
      "metadata": {
        "colab": {
          "base_uri": "https://localhost:8080/"
        },
        "id": "tC1C2qua8ZJB",
        "outputId": "03e3516c-3936-42b3-f202-384fa4ef6918"
      },
      "execution_count": 23,
      "outputs": [
        {
          "output_type": "execute_result",
          "data": {
            "text/plain": [
              "6"
            ]
          },
          "metadata": {},
          "execution_count": 23
        }
      ]
    },
    {
      "cell_type": "markdown",
      "source": [
        "###String is a list of characters สตริงเป็นลิสของคาแรคเตอร์"
      ],
      "metadata": {
        "id": "4Lcu50Vb8nAm"
      }
    },
    {
      "cell_type": "code",
      "source": [
        "st_stat = 'Depertment of Statistics, Faculty of Science'"
      ],
      "metadata": {
        "id": "eiwN8rD48uHN"
      },
      "execution_count": 24,
      "outputs": []
    },
    {
      "cell_type": "code",
      "source": [
        "st_stat[10]"
      ],
      "metadata": {
        "colab": {
          "base_uri": "https://localhost:8080/",
          "height": 36
        },
        "id": "r8P-JJta85bH",
        "outputId": "f9993399-8cee-4ff3-ea5e-5cc2d6115d29"
      },
      "execution_count": 25,
      "outputs": [
        {
          "output_type": "execute_result",
          "data": {
            "text/plain": [
              "' '"
            ],
            "application/vnd.google.colaboratory.intrinsic+json": {
              "type": "string"
            }
          },
          "metadata": {},
          "execution_count": 25
        }
      ]
    },
    {
      "cell_type": "code",
      "source": [
        "len(st_stat)"
      ],
      "metadata": {
        "colab": {
          "base_uri": "https://localhost:8080/"
        },
        "id": "TRqWJbWQ887Z",
        "outputId": "9882f62d-cb07-47a2-9ee1-8f5ae93385b8"
      },
      "execution_count": 26,
      "outputs": [
        {
          "output_type": "execute_result",
          "data": {
            "text/plain": [
              "44"
            ]
          },
          "metadata": {},
          "execution_count": 26
        }
      ]
    },
    {
      "cell_type": "markdown",
      "source": [
        "### List Slicing `:` การเฉือน list "
      ],
      "metadata": {
        "id": "SBUSttIi9g3O"
      }
    },
    {
      "cell_type": "markdown",
      "source": [
        "`list [จุดเริ่มต้น:จุดสุดท้าย]`\n",
        "\n",
        "`list [จุดเริ่มต้น:จุดสุดท้าย:step]`"
      ],
      "metadata": {
        "id": "W8ZNDtwc-G1U"
      }
    },
    {
      "cell_type": "markdown",
      "source": [
        "![9.webp](data:image/webp;base64,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)"
      ],
      "metadata": {
        "id": "RMuZprnNBjjc"
      }
    },
    {
      "cell_type": "code",
      "source": [
        "list_a"
      ],
      "metadata": {
        "colab": {
          "base_uri": "https://localhost:8080/"
        },
        "id": "JrrLsmxg9gAr",
        "outputId": "0c732c74-ff9a-4e5e-a740-db5a414256e3"
      },
      "execution_count": 27,
      "outputs": [
        {
          "output_type": "execute_result",
          "data": {
            "text/plain": [
              "[1, 2, 3, 4, 5, 6]"
            ]
          },
          "metadata": {},
          "execution_count": 27
        }
      ]
    },
    {
      "cell_type": "code",
      "source": [
        "list_a[2] #ดูตัวที่ 2"
      ],
      "metadata": {
        "colab": {
          "base_uri": "https://localhost:8080/"
        },
        "id": "ioJSpdmL9v6i",
        "outputId": "45063e1e-ffbf-4082-e352-2729a763826e"
      },
      "execution_count": 28,
      "outputs": [
        {
          "output_type": "execute_result",
          "data": {
            "text/plain": [
              "3"
            ]
          },
          "metadata": {},
          "execution_count": 28
        }
      ]
    },
    {
      "cell_type": "markdown",
      "source": [
        "#### `:` colon"
      ],
      "metadata": {
        "id": "Pt4LSo9QB6SE"
      }
    },
    {
      "cell_type": "code",
      "source": [
        "list_a[-3:] # : colon #เฉือน list แล้วเลือก 3 ตัวสุดท้าย"
      ],
      "metadata": {
        "id": "nuyN2Puz9v9J",
        "outputId": "b2c7e5da-2d79-44bf-a280-b2ed4f0f2a07",
        "colab": {
          "base_uri": "https://localhost:8080/"
        }
      },
      "execution_count": 29,
      "outputs": [
        {
          "output_type": "execute_result",
          "data": {
            "text/plain": [
              "[4, 5, 6]"
            ]
          },
          "metadata": {},
          "execution_count": 29
        }
      ]
    },
    {
      "cell_type": "code",
      "source": [
        "list_a[:4] #จุดสุดท้ายนับลง 1 ตัว "
      ],
      "metadata": {
        "id": "y1iSM_j_9v_o"
      },
      "execution_count": null,
      "outputs": []
    },
    {
      "cell_type": "code",
      "source": [
        "list_a[1:4] #list[จุดเริ่มต้น (ทึบ) : จุดสุดท้าย (โปร่ง)] ~ จุดสุดท้ายจะถัดลงมา 1 ตัว"
      ],
      "metadata": {
        "id": "V3j1zC0N9wCA",
        "outputId": "8650849b-eb5d-4912-f70e-03a4e9167677",
        "colab": {
          "base_uri": "https://localhost:8080/"
        }
      },
      "execution_count": 31,
      "outputs": [
        {
          "output_type": "execute_result",
          "data": {
            "text/plain": [
              "[2, 3, 4]"
            ]
          },
          "metadata": {},
          "execution_count": 31
        }
      ]
    },
    {
      "cell_type": "code",
      "source": [
        "list_a[:] #เอาทุกตัว"
      ],
      "metadata": {
        "id": "CnQ2jjUQCHqm",
        "outputId": "8fcc5398-48ec-4f00-99bf-40cfc66f67ed",
        "colab": {
          "base_uri": "https://localhost:8080/"
        }
      },
      "execution_count": 32,
      "outputs": [
        {
          "output_type": "execute_result",
          "data": {
            "text/plain": [
              "[1, 2, 3, 4, 5, 6]"
            ]
          },
          "metadata": {},
          "execution_count": 32
        }
      ]
    },
    {
      "cell_type": "markdown",
      "source": [
        "#### step"
      ],
      "metadata": {
        "id": "LHj_MmZsCKSs"
      }
    },
    {
      "cell_type": "code",
      "source": [
        "list_c = [1,2,3,4,5,6,7,8,9,10,11,12,13]"
      ],
      "metadata": {
        "id": "H6awnXnwCLFC"
      },
      "execution_count": 33,
      "outputs": []
    },
    {
      "cell_type": "code",
      "source": [
        "list_c[:10:] "
      ],
      "metadata": {
        "id": "t-kt2HX1CM5a",
        "outputId": "13e7f056-2a62-4fd4-e56f-16cea2db6a81",
        "colab": {
          "base_uri": "https://localhost:8080/"
        }
      },
      "execution_count": 34,
      "outputs": [
        {
          "output_type": "execute_result",
          "data": {
            "text/plain": [
              "[1, 2, 3, 4, 5, 6, 7, 8, 9, 10]"
            ]
          },
          "metadata": {},
          "execution_count": 34
        }
      ]
    },
    {
      "cell_type": "code",
      "source": [
        "list_c[:10:2] #step ไป 2 ขั้น"
      ],
      "metadata": {
        "id": "zuCPh9I9COvc",
        "outputId": "9ef115f3-dc3f-403d-f8a4-c713a253d712",
        "colab": {
          "base_uri": "https://localhost:8080/"
        }
      },
      "execution_count": 36,
      "outputs": [
        {
          "output_type": "execute_result",
          "data": {
            "text/plain": [
              "[1, 3, 5, 7, 9]"
            ]
          },
          "metadata": {},
          "execution_count": 36
        }
      ]
    },
    {
      "cell_type": "code",
      "source": [
        "list_c[: : -1] #step จากหลังมาหน้า "
      ],
      "metadata": {
        "id": "2FT5ZllICSXg",
        "outputId": "e7c6dcfd-8599-4caa-9230-872d21e21278",
        "colab": {
          "base_uri": "https://localhost:8080/"
        }
      },
      "execution_count": 37,
      "outputs": [
        {
          "output_type": "execute_result",
          "data": {
            "text/plain": [
              "[13, 12, 11, 10, 9, 8, 7, 6, 5, 4, 3, 2, 1]"
            ]
          },
          "metadata": {},
          "execution_count": 37
        }
      ]
    },
    {
      "cell_type": "markdown",
      "source": [
        "### `range()` เรียงจำนวนกี่ตัวก็ได้ วนลูป"
      ],
      "metadata": {
        "id": "-kGzVWS6CUvM"
      }
    },
    {
      "cell_type": "code",
      "source": [
        "range(21)"
      ],
      "metadata": {
        "id": "Eskg4GDmCVd4",
        "outputId": "e4b826b9-7732-4880-db87-1770052e5410",
        "colab": {
          "base_uri": "https://localhost:8080/"
        }
      },
      "execution_count": 38,
      "outputs": [
        {
          "output_type": "execute_result",
          "data": {
            "text/plain": [
              "range(0, 21)"
            ]
          },
          "metadata": {},
          "execution_count": 38
        }
      ]
    },
    {
      "cell_type": "code",
      "source": [
        "a = list(range(21)) #เรียงตัวเลข 21 ตัว 0-21"
      ],
      "metadata": {
        "id": "v4OPGkL9CYzB"
      },
      "execution_count": 39,
      "outputs": []
    },
    {
      "cell_type": "code",
      "source": [
        "a"
      ],
      "metadata": {
        "id": "Rs2Y-RrKCaha",
        "outputId": "695619ae-0812-4b0e-d497-3bc35a0e5e2c",
        "colab": {
          "base_uri": "https://localhost:8080/"
        }
      },
      "execution_count": 40,
      "outputs": [
        {
          "output_type": "execute_result",
          "data": {
            "text/plain": [
              "[0, 1, 2, 3, 4, 5, 6, 7, 8, 9, 10, 11, 12, 13, 14, 15, 16, 17, 18, 19, 20]"
            ]
          },
          "metadata": {},
          "execution_count": 40
        }
      ]
    },
    {
      "cell_type": "code",
      "source": [
        "list(range(1,21)) #เรียงตัวเลขเอาตั้งแต่เลข 1-21"
      ],
      "metadata": {
        "id": "OG8nUSyFCdwG",
        "outputId": "a02a508b-0b0f-4b7b-bc3e-596ad1d8a56e",
        "colab": {
          "base_uri": "https://localhost:8080/"
        }
      },
      "execution_count": 41,
      "outputs": [
        {
          "output_type": "execute_result",
          "data": {
            "text/plain": [
              "[1, 2, 3, 4, 5, 6, 7, 8, 9, 10, 11, 12, 13, 14, 15, 16, 17, 18, 19, 20]"
            ]
          },
          "metadata": {},
          "execution_count": 41
        }
      ]
    }
  ]
}