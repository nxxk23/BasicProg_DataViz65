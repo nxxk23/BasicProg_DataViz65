{
  "nbformat": 4,
  "nbformat_minor": 0,
  "metadata": {
    "colab": {
      "name": "Data Structure.ipynb",
      "provenance": [],
      "toc_visible": true,
      "include_colab_link": true
    },
    "kernelspec": {
      "name": "python3",
      "display_name": "Python 3"
    },
    "language_info": {
      "name": "python"
    }
  },
  "cells": [
    {
      "cell_type": "markdown",
      "metadata": {
        "id": "view-in-github",
        "colab_type": "text"
      },
      "source": [
        "<a href=\"https://colab.research.google.com/github/nxxk23/BasicProg_DataViz65/blob/main/Data_Structure.ipynb\" target=\"_parent\"><img src=\"https://colab.research.google.com/assets/colab-badge.svg\" alt=\"Open In Colab\"/></a>"
      ]
    },
    {
      "cell_type": "markdown",
      "source": [
        "#Data Structure(โครงสร้างข้อมูล)"
      ],
      "metadata": {
        "id": "ltInnplT1Dld"
      }
    },
    {
      "cell_type": "markdown",
      "source": [
        "การเก็บข้อมูลหลายๆตัวไว้ด้วยกันอย่างเป็นระเบียบ"
      ],
      "metadata": {
        "id": "864cCA9u1ObJ"
      }
    },
    {
      "cell_type": "markdown",
      "source": [
        "##```List()```\n",
        "\n",
        "*  เก็บอะไรก็ได้\n",
        "*  ลำดับในการเก็บมีความสำคัญ\n"
      ],
      "metadata": {
        "id": "jQwoRBdS1VJx"
      }
    },
    {
      "cell_type": "code",
      "source": [
        "list_a = [1,2,3,4,5,6] # [ ] square brackets"
      ],
      "metadata": {
        "id": "Z62wu3gt1eNu"
      },
      "execution_count": 1,
      "outputs": []
    },
    {
      "cell_type": "code",
      "source": [
        "list_a"
      ],
      "metadata": {
        "colab": {
          "base_uri": "https://localhost:8080/"
        },
        "id": "5GhPs8ll1s2l",
        "outputId": "ebb4d0ef-eaa4-4b8d-fab1-0e686ad25c01"
      },
      "execution_count": 2,
      "outputs": [
        {
          "output_type": "execute_result",
          "data": {
            "text/plain": [
              "[1, 2, 3, 4, 5, 6]"
            ]
          },
          "metadata": {},
          "execution_count": 2
        }
      ]
    },
    {
      "cell_type": "code",
      "source": [
        "list_b = ['ab',2,3.14,list_a]"
      ],
      "metadata": {
        "id": "-Kn2Xjrn2RJZ"
      },
      "execution_count": 3,
      "outputs": []
    },
    {
      "cell_type": "code",
      "source": [
        "list_b"
      ],
      "metadata": {
        "colab": {
          "base_uri": "https://localhost:8080/"
        },
        "id": "oIsLUvOX2kfO",
        "outputId": "df5c5acb-f16e-423c-fc7b-e1d2e9a335c8"
      },
      "execution_count": 4,
      "outputs": [
        {
          "output_type": "execute_result",
          "data": {
            "text/plain": [
              "['ab', 2, 3.14, [1, 2, 3, 4, 5, 6]]"
            ]
          },
          "metadata": {},
          "execution_count": 4
        }
      ]
    },
    {
      "cell_type": "markdown",
      "source": [
        "### indexing  การชี้สมาชิกใน list ด้วยเลขลำดับของ list"
      ],
      "metadata": {
        "id": "ubChPN1r27Nl"
      }
    },
    {
      "cell_type": "code",
      "source": [
        "list_a[3]"
      ],
      "metadata": {
        "colab": {
          "base_uri": "https://localhost:8080/"
        },
        "id": "0YTaKnu02p4G",
        "outputId": "3fbbed4c-2ce6-474c-f188-87f2d3480413"
      },
      "execution_count": 5,
      "outputs": [
        {
          "output_type": "execute_result",
          "data": {
            "text/plain": [
              "4"
            ]
          },
          "metadata": {},
          "execution_count": 5
        }
      ]
    },
    {
      "cell_type": "code",
      "source": [
        "list_b[3]"
      ],
      "metadata": {
        "colab": {
          "base_uri": "https://localhost:8080/"
        },
        "id": "lPMwvQ862rW0",
        "outputId": "cc57a7c7-c2d3-4c2b-a9a9-1070bbd03264"
      },
      "execution_count": 6,
      "outputs": [
        {
          "output_type": "execute_result",
          "data": {
            "text/plain": [
              "[1, 2, 3, 4, 5, 6]"
            ]
          },
          "metadata": {},
          "execution_count": 6
        }
      ]
    },
    {
      "cell_type": "code",
      "source": [
        "list_b[3][4]"
      ],
      "metadata": {
        "colab": {
          "base_uri": "https://localhost:8080/"
        },
        "id": "bG4URrcn3br0",
        "outputId": "a25154dc-1be8-4c80-f841-dacaed5cfce1"
      },
      "execution_count": 7,
      "outputs": [
        {
          "output_type": "execute_result",
          "data": {
            "text/plain": [
              "5"
            ]
          },
          "metadata": {},
          "execution_count": 7
        }
      ]
    },
    {
      "cell_type": "code",
      "source": [
        "list_a[6]"
      ],
      "metadata": {
        "colab": {
          "base_uri": "https://localhost:8080/",
          "height": 165
        },
        "id": "Zzf4jWzN4495",
        "outputId": "7f71792c-83f4-424f-aafa-eb507d03a0d0"
      },
      "execution_count": 8,
      "outputs": [
        {
          "output_type": "error",
          "ename": "IndexError",
          "evalue": "ignored",
          "traceback": [
            "\u001b[0;31m---------------------------------------------------------------------------\u001b[0m",
            "\u001b[0;31mIndexError\u001b[0m                                Traceback (most recent call last)",
            "\u001b[0;32m<ipython-input-8-d6b61775e813>\u001b[0m in \u001b[0;36m<module>\u001b[0;34m()\u001b[0m\n\u001b[0;32m----> 1\u001b[0;31m \u001b[0mlist_a\u001b[0m\u001b[0;34m[\u001b[0m\u001b[0;36m6\u001b[0m\u001b[0;34m]\u001b[0m\u001b[0;34m\u001b[0m\u001b[0;34m\u001b[0m\u001b[0m\n\u001b[0m",
            "\u001b[0;31mIndexError\u001b[0m: list index out of range"
          ]
        }
      ]
    },
    {
      "cell_type": "code",
      "source": [
        "list_a[-1] #index -1 คือตัวสุดท้ายของ list"
      ],
      "metadata": {
        "colab": {
          "base_uri": "https://localhost:8080/"
        },
        "id": "2hDIFteV49Pp",
        "outputId": "5ab22c16-7269-4645-e571-3611f5e95816"
      },
      "execution_count": 9,
      "outputs": [
        {
          "output_type": "execute_result",
          "data": {
            "text/plain": [
              "6"
            ]
          },
          "metadata": {},
          "execution_count": 9
        }
      ]
    },
    {
      "cell_type": "code",
      "source": [
        "list_a[-4]"
      ],
      "metadata": {
        "colab": {
          "base_uri": "https://localhost:8080/"
        },
        "id": "zWgCXk905H7y",
        "outputId": "b8be4094-11fc-4d48-afe6-94fa0e47deb9"
      },
      "execution_count": 10,
      "outputs": [
        {
          "output_type": "execute_result",
          "data": {
            "text/plain": [
              "3"
            ]
          },
          "metadata": {},
          "execution_count": 10
        }
      ]
    },
    {
      "cell_type": "markdown",
      "source": [
        "###การสร้าง ```list()```"
      ],
      "metadata": {
        "id": "kvlh2P0i5Od8"
      }
    },
    {
      "cell_type": "code",
      "source": [
        "list_x1=[] #แบบที่ 1\n",
        "list_x2=list() #แบบที่ 2"
      ],
      "metadata": {
        "id": "fUAJnWOt5Y0c"
      },
      "execution_count": 11,
      "outputs": []
    },
    {
      "cell_type": "code",
      "source": [
        "print(list_x1)\n",
        "print(list_x2)"
      ],
      "metadata": {
        "colab": {
          "base_uri": "https://localhost:8080/"
        },
        "id": "b3V51L_I56KC",
        "outputId": "5cd89eff-6aca-4f02-a0e1-c6e600df47c7"
      },
      "execution_count": 12,
      "outputs": [
        {
          "output_type": "stream",
          "name": "stdout",
          "text": [
            "[]\n",
            "[]\n"
          ]
        }
      ]
    },
    {
      "cell_type": "markdown",
      "source": [
        "###เพิ่มสมาชิกเข้าไปใน list ด้วย ```append()```"
      ],
      "metadata": {
        "id": "MV3fGnem6AUR"
      }
    },
    {
      "cell_type": "code",
      "source": [
        "list_x1.append(2)"
      ],
      "metadata": {
        "id": "sf5eeBDC6LwI"
      },
      "execution_count": 13,
      "outputs": []
    },
    {
      "cell_type": "code",
      "source": [
        "list_x1"
      ],
      "metadata": {
        "colab": {
          "base_uri": "https://localhost:8080/"
        },
        "id": "JswQOCT16pIi",
        "outputId": "98ff4c65-6ea4-4160-c9e6-f796b2888ffe"
      },
      "execution_count": 14,
      "outputs": [
        {
          "output_type": "execute_result",
          "data": {
            "text/plain": [
              "[2]"
            ]
          },
          "metadata": {},
          "execution_count": 14
        }
      ]
    },
    {
      "cell_type": "code",
      "source": [
        "list_x1.append(4)\n",
        "print(list_x1)"
      ],
      "metadata": {
        "colab": {
          "base_uri": "https://localhost:8080/"
        },
        "id": "-a7nkFLX6t-P",
        "outputId": "7fc21fcd-f3f7-4c46-f876-d8d6bf9fc0e1"
      },
      "execution_count": 15,
      "outputs": [
        {
          "output_type": "stream",
          "name": "stdout",
          "text": [
            "[2, 4]\n"
          ]
        }
      ]
    },
    {
      "cell_type": "code",
      "source": [
        "list_x1[0]"
      ],
      "metadata": {
        "colab": {
          "base_uri": "https://localhost:8080/"
        },
        "id": "oSOc6tXy61uE",
        "outputId": "3efa031d-d837-4c33-e952-aba676c49e38"
      },
      "execution_count": 16,
      "outputs": [
        {
          "output_type": "execute_result",
          "data": {
            "text/plain": [
              "2"
            ]
          },
          "metadata": {},
          "execution_count": 16
        }
      ]
    },
    {
      "cell_type": "code",
      "source": [
        "list_x1[-1]"
      ],
      "metadata": {
        "colab": {
          "base_uri": "https://localhost:8080/"
        },
        "id": "H5i8RcfQ64xy",
        "outputId": "c0bd2850-cec9-4c71-c82b-00f0e44cfa9b"
      },
      "execution_count": 17,
      "outputs": [
        {
          "output_type": "execute_result",
          "data": {
            "text/plain": [
              "4"
            ]
          },
          "metadata": {},
          "execution_count": 17
        }
      ]
    },
    {
      "cell_type": "code",
      "source": [
        "list_x2"
      ],
      "metadata": {
        "colab": {
          "base_uri": "https://localhost:8080/"
        },
        "id": "LS6az2qn7BgC",
        "outputId": "38268c2e-53d7-4ede-fd3e-4c47ed934cd6"
      },
      "execution_count": 18,
      "outputs": [
        {
          "output_type": "execute_result",
          "data": {
            "text/plain": [
              "[]"
            ]
          },
          "metadata": {},
          "execution_count": 18
        }
      ]
    },
    {
      "cell_type": "markdown",
      "source": [
        "###ลบสมาชิกจาก list"
      ],
      "metadata": {
        "id": "aw8YAepd7eNM"
      }
    },
    {
      "cell_type": "code",
      "source": [
        "list_x1.append('ha')"
      ],
      "metadata": {
        "id": "j0WRT41T7G2D"
      },
      "execution_count": 19,
      "outputs": []
    },
    {
      "cell_type": "code",
      "source": [
        "list_x1"
      ],
      "metadata": {
        "colab": {
          "base_uri": "https://localhost:8080/"
        },
        "id": "4fzM8kp87NXP",
        "outputId": "68e2fcf8-e682-40ca-d6de-64867c93f481"
      },
      "execution_count": 20,
      "outputs": [
        {
          "output_type": "execute_result",
          "data": {
            "text/plain": [
              "[2, 4, 'ha']"
            ]
          },
          "metadata": {},
          "execution_count": 20
        }
      ]
    },
    {
      "cell_type": "code",
      "source": [
        "list_x1.pop()\n",
        "print(list_x1)"
      ],
      "metadata": {
        "colab": {
          "base_uri": "https://localhost:8080/"
        },
        "id": "ooBnJDwO7ROM",
        "outputId": "1ef07620-85da-45de-a4a7-6c619671f32b"
      },
      "execution_count": 21,
      "outputs": [
        {
          "output_type": "stream",
          "name": "stdout",
          "text": [
            "[2, 4]\n"
          ]
        }
      ]
    },
    {
      "cell_type": "markdown",
      "source": [
        "###```len()``` ตรวจสอบจำนวนสมาชิกของ list"
      ],
      "metadata": {
        "id": "U4ERDTzW7vQV"
      }
    },
    {
      "cell_type": "code",
      "source": [
        "print(list_b)\n",
        "print(len(list_b))"
      ],
      "metadata": {
        "colab": {
          "base_uri": "https://localhost:8080/"
        },
        "id": "5afOcUOc8L_6",
        "outputId": "13069899-6c43-4bda-f172-b06829061e23"
      },
      "execution_count": 22,
      "outputs": [
        {
          "output_type": "stream",
          "name": "stdout",
          "text": [
            "['ab', 2, 3.14, [1, 2, 3, 4, 5, 6]]\n",
            "4\n"
          ]
        }
      ]
    },
    {
      "cell_type": "code",
      "source": [
        "len(list_a)"
      ],
      "metadata": {
        "colab": {
          "base_uri": "https://localhost:8080/"
        },
        "id": "tC1C2qua8ZJB",
        "outputId": "ed6db700-fe98-4a96-fadb-4433812b20a8"
      },
      "execution_count": 23,
      "outputs": [
        {
          "output_type": "execute_result",
          "data": {
            "text/plain": [
              "6"
            ]
          },
          "metadata": {},
          "execution_count": 23
        }
      ]
    },
    {
      "cell_type": "markdown",
      "source": [
        "###String is a list of characters สตริงเป็นลิสของคาแรคเตอร์"
      ],
      "metadata": {
        "id": "4Lcu50Vb8nAm"
      }
    },
    {
      "cell_type": "code",
      "source": [
        "st_stat = 'Depertment of Statistics, Faculty of Science'"
      ],
      "metadata": {
        "id": "eiwN8rD48uHN"
      },
      "execution_count": 24,
      "outputs": []
    },
    {
      "cell_type": "code",
      "source": [
        "st_stat[10]"
      ],
      "metadata": {
        "colab": {
          "base_uri": "https://localhost:8080/",
          "height": 0
        },
        "id": "r8P-JJta85bH",
        "outputId": "6829551d-b85b-4a85-b174-5ce06a5456ad"
      },
      "execution_count": 25,
      "outputs": [
        {
          "output_type": "execute_result",
          "data": {
            "text/plain": [
              "' '"
            ],
            "application/vnd.google.colaboratory.intrinsic+json": {
              "type": "string"
            }
          },
          "metadata": {},
          "execution_count": 25
        }
      ]
    },
    {
      "cell_type": "code",
      "source": [
        "len(st_stat)"
      ],
      "metadata": {
        "colab": {
          "base_uri": "https://localhost:8080/"
        },
        "id": "TRqWJbWQ887Z",
        "outputId": "ec6d8eba-2c47-4529-e191-668e3b48c2c2"
      },
      "execution_count": 26,
      "outputs": [
        {
          "output_type": "execute_result",
          "data": {
            "text/plain": [
              "44"
            ]
          },
          "metadata": {},
          "execution_count": 26
        }
      ]
    },
    {
      "cell_type": "markdown",
      "source": [
        "### List Slicing `:` การเฉือน list "
      ],
      "metadata": {
        "id": "SBUSttIi9g3O"
      }
    },
    {
      "cell_type": "markdown",
      "source": [
        "`list [จุดเริ่มต้น:จุดสุดท้าย]`\n",
        "\n",
        "`list [จุดเริ่มต้น:จุดสุดท้าย:step]`"
      ],
      "metadata": {
        "id": "W8ZNDtwc-G1U"
      }
    },
    {
      "cell_type": "markdown",
      "source": [
        "![9.webp](data:image/webp;base64,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)"
      ],
      "metadata": {
        "id": "RMuZprnNBjjc"
      }
    },
    {
      "cell_type": "code",
      "source": [
        "list_a"
      ],
      "metadata": {
        "colab": {
          "base_uri": "https://localhost:8080/"
        },
        "id": "JrrLsmxg9gAr",
        "outputId": "99f6da99-e91c-4162-adbe-d018a59577b5"
      },
      "execution_count": 41,
      "outputs": [
        {
          "output_type": "execute_result",
          "data": {
            "text/plain": [
              "[1, 2, 3, 4, 5, 6]"
            ]
          },
          "metadata": {},
          "execution_count": 41
        }
      ]
    },
    {
      "cell_type": "code",
      "source": [
        "list_a[2] #ดูตัวที่ 2"
      ],
      "metadata": {
        "colab": {
          "base_uri": "https://localhost:8080/"
        },
        "id": "ioJSpdmL9v6i",
        "outputId": "021191dd-941f-4a70-d097-bc482e4a81bf"
      },
      "execution_count": 42,
      "outputs": [
        {
          "output_type": "execute_result",
          "data": {
            "text/plain": [
              "3"
            ]
          },
          "metadata": {},
          "execution_count": 42
        }
      ]
    },
    {
      "cell_type": "markdown",
      "source": [
        "#### `:` colon"
      ],
      "metadata": {
        "id": "Pt4LSo9QB6SE"
      }
    },
    {
      "cell_type": "code",
      "source": [
        "list_a[-3:] # : colon #เฉือน list แล้วเลือก 3 ตัวสุดท้าย"
      ],
      "metadata": {
        "id": "nuyN2Puz9v9J",
        "outputId": "8af1af9c-a50c-4da9-e4f0-8e360167a68e",
        "colab": {
          "base_uri": "https://localhost:8080/"
        }
      },
      "execution_count": 43,
      "outputs": [
        {
          "output_type": "execute_result",
          "data": {
            "text/plain": [
              "[4, 5, 6]"
            ]
          },
          "metadata": {},
          "execution_count": 43
        }
      ]
    },
    {
      "cell_type": "code",
      "source": [
        "list_a[:4] #จุดสุดท้ายนับลง 1 ตัว "
      ],
      "metadata": {
        "id": "y1iSM_j_9v_o",
        "outputId": "d8dce5f0-2409-4aca-c39a-3802c240a229",
        "colab": {
          "base_uri": "https://localhost:8080/"
        }
      },
      "execution_count": 44,
      "outputs": [
        {
          "output_type": "execute_result",
          "data": {
            "text/plain": [
              "[1, 2, 3, 4]"
            ]
          },
          "metadata": {},
          "execution_count": 44
        }
      ]
    },
    {
      "cell_type": "code",
      "source": [
        "list_a[1:4] #list[จุดเริ่มต้น (ทึบ) : จุดสุดท้าย (โปร่ง)] ~ จุดสุดท้ายจะถัดลงมา 1 ตัว"
      ],
      "metadata": {
        "id": "V3j1zC0N9wCA",
        "outputId": "e20e2060-dfda-434f-a9e4-368e24bc7f9a",
        "colab": {
          "base_uri": "https://localhost:8080/"
        }
      },
      "execution_count": 45,
      "outputs": [
        {
          "output_type": "execute_result",
          "data": {
            "text/plain": [
              "[2, 3, 4]"
            ]
          },
          "metadata": {},
          "execution_count": 45
        }
      ]
    },
    {
      "cell_type": "code",
      "source": [
        "list_a[:] #เอาทุกตัว"
      ],
      "metadata": {
        "id": "CnQ2jjUQCHqm",
        "outputId": "b42a45a4-f845-4e94-ad0f-5a4a074a8103",
        "colab": {
          "base_uri": "https://localhost:8080/"
        }
      },
      "execution_count": 46,
      "outputs": [
        {
          "output_type": "execute_result",
          "data": {
            "text/plain": [
              "[1, 2, 3, 4, 5, 6]"
            ]
          },
          "metadata": {},
          "execution_count": 46
        }
      ]
    },
    {
      "cell_type": "markdown",
      "source": [
        "#### step"
      ],
      "metadata": {
        "id": "LHj_MmZsCKSs"
      }
    },
    {
      "cell_type": "code",
      "source": [
        "list_c = [1,2,3,4,5,6,7,8,9,10,11,12,13]"
      ],
      "metadata": {
        "id": "H6awnXnwCLFC"
      },
      "execution_count": 47,
      "outputs": []
    },
    {
      "cell_type": "code",
      "source": [
        "list_c[:10:] "
      ],
      "metadata": {
        "id": "t-kt2HX1CM5a",
        "outputId": "f7bb866d-d05a-4b16-f23e-a62ea81101b4",
        "colab": {
          "base_uri": "https://localhost:8080/"
        }
      },
      "execution_count": 48,
      "outputs": [
        {
          "output_type": "execute_result",
          "data": {
            "text/plain": [
              "[1, 2, 3, 4, 5, 6, 7, 8, 9, 10]"
            ]
          },
          "metadata": {},
          "execution_count": 48
        }
      ]
    },
    {
      "cell_type": "code",
      "source": [
        "list_c[:10:2] #step ไป 2 ขั้น"
      ],
      "metadata": {
        "id": "zuCPh9I9COvc",
        "outputId": "3207757f-671b-485e-8cb6-6a7b01fb70d1",
        "colab": {
          "base_uri": "https://localhost:8080/"
        }
      },
      "execution_count": 49,
      "outputs": [
        {
          "output_type": "execute_result",
          "data": {
            "text/plain": [
              "[1, 3, 5, 7, 9]"
            ]
          },
          "metadata": {},
          "execution_count": 49
        }
      ]
    },
    {
      "cell_type": "code",
      "source": [
        "list_c[: : -1] #step จากหลังมาหน้า "
      ],
      "metadata": {
        "id": "2FT5ZllICSXg",
        "outputId": "f9dc7fa9-7531-460b-8756-39ff409f2387",
        "colab": {
          "base_uri": "https://localhost:8080/"
        }
      },
      "execution_count": 50,
      "outputs": [
        {
          "output_type": "execute_result",
          "data": {
            "text/plain": [
              "[13, 12, 11, 10, 9, 8, 7, 6, 5, 4, 3, 2, 1]"
            ]
          },
          "metadata": {},
          "execution_count": 50
        }
      ]
    },
    {
      "cell_type": "markdown",
      "source": [
        "### `range()` เรียงจำนวนกี่ตัวก็ได้ วนลูป"
      ],
      "metadata": {
        "id": "-kGzVWS6CUvM"
      }
    },
    {
      "cell_type": "code",
      "source": [
        "range(21)"
      ],
      "metadata": {
        "id": "Eskg4GDmCVd4",
        "outputId": "afe4ef1f-472f-493d-93a3-21eabbbf524e",
        "colab": {
          "base_uri": "https://localhost:8080/"
        }
      },
      "execution_count": 51,
      "outputs": [
        {
          "output_type": "execute_result",
          "data": {
            "text/plain": [
              "range(0, 21)"
            ]
          },
          "metadata": {},
          "execution_count": 51
        }
      ]
    },
    {
      "cell_type": "code",
      "source": [
        "a = list(range(21)) #เรียงตัวเลข 21 ตัว 0-21"
      ],
      "metadata": {
        "id": "v4OPGkL9CYzB"
      },
      "execution_count": 52,
      "outputs": []
    },
    {
      "cell_type": "code",
      "source": [
        "a"
      ],
      "metadata": {
        "id": "Rs2Y-RrKCaha",
        "outputId": "52dbca85-c7a4-4833-ef9c-36d10a9f6aeb",
        "colab": {
          "base_uri": "https://localhost:8080/"
        }
      },
      "execution_count": 53,
      "outputs": [
        {
          "output_type": "execute_result",
          "data": {
            "text/plain": [
              "[0, 1, 2, 3, 4, 5, 6, 7, 8, 9, 10, 11, 12, 13, 14, 15, 16, 17, 18, 19, 20]"
            ]
          },
          "metadata": {},
          "execution_count": 53
        }
      ]
    },
    {
      "cell_type": "code",
      "source": [
        "list(range(1,21)) #เรียงตัวเลขเอาตั้งแต่เลข 1-21"
      ],
      "metadata": {
        "id": "OG8nUSyFCdwG",
        "outputId": "d2af25d5-6258-432a-a462-4170763d839f",
        "colab": {
          "base_uri": "https://localhost:8080/"
        }
      },
      "execution_count": 54,
      "outputs": [
        {
          "output_type": "execute_result",
          "data": {
            "text/plain": [
              "[1, 2, 3, 4, 5, 6, 7, 8, 9, 10, 11, 12, 13, 14, 15, 16, 17, 18, 19, 20]"
            ]
          },
          "metadata": {},
          "execution_count": 54
        }
      ]
    },
    {
      "cell_type": "markdown",
      "source": [
        "## Dictionary"
      ],
      "metadata": {
        "id": "BCzJ8krF2z3c"
      }
    },
    {
      "cell_type": "markdown",
      "source": [
        "- คล้าย list ()\n",
        "- index เป็นอะไรก็ได้ ไม่จำเป็นต้องเป็นตัวเลขลำดับ\n",
        "- ลำดับไม่มีความสำคัญ"
      ],
      "metadata": {
        "id": "BXBpUh1M26Gw"
      }
    },
    {
      "cell_type": "markdown",
      "source": [
        "### การสร้าง Dictionary"
      ],
      "metadata": {
        "id": "qZpel03T29so"
      }
    },
    {
      "cell_type": "code",
      "source": [
        "dict_a = {1: 'Happy','N': 'New', '2022' : 'Year'} # {} curly brackets"
      ],
      "metadata": {
        "id": "x5DBJne03BPw"
      },
      "execution_count": 55,
      "outputs": []
    },
    {
      "cell_type": "markdown",
      "source": [
        "### การชี้สมาชิกใน Dictionary"
      ],
      "metadata": {
        "id": "OYdeH-0f3GiR"
      }
    },
    {
      "cell_type": "code",
      "source": [
        "dict_a[1]"
      ],
      "metadata": {
        "id": "pLIn72oz3Kqu",
        "outputId": "5b0314c8-6f08-49ed-fdb4-cb735dd34af4",
        "colab": {
          "base_uri": "https://localhost:8080/",
          "height": 0
        }
      },
      "execution_count": 60,
      "outputs": [
        {
          "output_type": "execute_result",
          "data": {
            "text/plain": [
              "'Happy'"
            ],
            "application/vnd.google.colaboratory.intrinsic+json": {
              "type": "string"
            }
          },
          "metadata": {},
          "execution_count": 60
        }
      ]
    },
    {
      "cell_type": "code",
      "source": [
        "dict_a['N']"
      ],
      "metadata": {
        "id": "H4J3Jz4e3M8D",
        "outputId": "b282adb0-0a03-48b3-f50d-3985d6ce782e",
        "colab": {
          "base_uri": "https://localhost:8080/",
          "height": 0
        }
      },
      "execution_count": 61,
      "outputs": [
        {
          "output_type": "execute_result",
          "data": {
            "text/plain": [
              "'New'"
            ],
            "application/vnd.google.colaboratory.intrinsic+json": {
              "type": "string"
            }
          },
          "metadata": {},
          "execution_count": 61
        }
      ]
    },
    {
      "cell_type": "code",
      "source": [
        "dict_a.keys() #ดู key ของตัวแปรว่ากำหนด key อะไรไว้"
      ],
      "metadata": {
        "id": "PDOSWKk23PQN",
        "outputId": "ea957bdc-b6ba-4c28-b844-bde7094a835b",
        "colab": {
          "base_uri": "https://localhost:8080/"
        }
      },
      "execution_count": 62,
      "outputs": [
        {
          "output_type": "execute_result",
          "data": {
            "text/plain": [
              "dict_keys([1, 'N', '2022'])"
            ]
          },
          "metadata": {},
          "execution_count": 62
        }
      ]
    },
    {
      "cell_type": "code",
      "source": [
        "dict_a.values() #ดูค่าที่กำหนดใน key "
      ],
      "metadata": {
        "id": "pDEN2bA93RPb",
        "outputId": "cf040761-4424-481d-ee9f-671c13978c4d",
        "colab": {
          "base_uri": "https://localhost:8080/"
        }
      },
      "execution_count": 63,
      "outputs": [
        {
          "output_type": "execute_result",
          "data": {
            "text/plain": [
              "dict_values(['Happy', 'New', 'Year'])"
            ]
          },
          "metadata": {},
          "execution_count": 63
        }
      ]
    },
    {
      "cell_type": "markdown",
      "source": [
        "### การเพิ่มสมาชิกลงไปใน Dictionary"
      ],
      "metadata": {
        "id": "vNX0UK2f3UjZ"
      }
    },
    {
      "cell_type": "code",
      "source": [
        "dict_a[7] = 3.14 #สร้างkey เป็น 7 ตัวที่กำหนดใน key เป็น 3.14"
      ],
      "metadata": {
        "id": "gj5kkKD13X22"
      },
      "execution_count": 64,
      "outputs": []
    },
    {
      "cell_type": "code",
      "source": [
        "dict_a"
      ],
      "metadata": {
        "id": "9yBGglTZ3Y0g",
        "outputId": "e6908649-96d5-4135-c2eb-ea5405710a84",
        "colab": {
          "base_uri": "https://localhost:8080/"
        }
      },
      "execution_count": 65,
      "outputs": [
        {
          "output_type": "execute_result",
          "data": {
            "text/plain": [
              "{1: 'Happy', '2022': 'Year', 7: 3.14, 'N': 'New'}"
            ]
          },
          "metadata": {},
          "execution_count": 65
        }
      ]
    },
    {
      "cell_type": "code",
      "source": [
        "dict_a['N'] = 'NNNNEEEWWW' #ถ้ากำหนดkeyซ้ำ ค่าในคีย์นั้นจะอัพเดทไปด้วย"
      ],
      "metadata": {
        "id": "kgfRHEE23aN7"
      },
      "execution_count": 66,
      "outputs": []
    },
    {
      "cell_type": "code",
      "source": [
        "dict_a"
      ],
      "metadata": {
        "id": "1-sQu05s3exi",
        "outputId": "f66266e6-9e0e-4fc7-b1e9-407ff16f0e15",
        "colab": {
          "base_uri": "https://localhost:8080/"
        }
      },
      "execution_count": 67,
      "outputs": [
        {
          "output_type": "execute_result",
          "data": {
            "text/plain": [
              "{1: 'Happy', '2022': 'Year', 7: 3.14, 'N': 'NNNNEEEWWW'}"
            ]
          },
          "metadata": {},
          "execution_count": 67
        }
      ]
    },
    {
      "cell_type": "markdown",
      "source": [
        "## Numpy Array\n",
        "\n",
        "\n",
        "  ![image.png](data:image/png;base64,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)\n"
      ],
      "metadata": {
        "id": "0hsR9DIC3mQI"
      }
    },
    {
      "cell_type": "markdown",
      "source": [
        "- เก็บได้แต่ตัวเลข\n",
        "- อ้างอิงโดยใช้พิกัด (2 มิติ ก็มองเป็น Matrix)"
      ],
      "metadata": {
        "id": "iuxhgxap5qG9"
      }
    },
    {
      "cell_type": "markdown",
      "source": [
        "### 1D array (1 มิติ)"
      ],
      "metadata": {
        "id": "3gqG5o_m5tV_"
      }
    },
    {
      "cell_type": "code",
      "source": [
        "import numpy"
      ],
      "metadata": {
        "id": "V6k5mBG15vkK"
      },
      "execution_count": 68,
      "outputs": []
    },
    {
      "cell_type": "code",
      "source": [
        "list_A = [1,2,3,4,5]"
      ],
      "metadata": {
        "id": "WC2Y29lc5wPo"
      },
      "execution_count": 69,
      "outputs": []
    },
    {
      "cell_type": "code",
      "source": [
        "arr_a = numpy.array([list_A]) # มีคุณสมที่เป็นเมทริกซ์"
      ],
      "metadata": {
        "id": "JKQ-8ylk5yaZ"
      },
      "execution_count": 70,
      "outputs": []
    },
    {
      "cell_type": "code",
      "source": [
        "arr_a"
      ],
      "metadata": {
        "id": "OHLQaH5z50la",
        "outputId": "50a12d36-7133-413e-87c3-1629e30612e9",
        "colab": {
          "base_uri": "https://localhost:8080/"
        }
      },
      "execution_count": 71,
      "outputs": [
        {
          "output_type": "execute_result",
          "data": {
            "text/plain": [
              "array([[1, 2, 3, 4, 5]])"
            ]
          },
          "metadata": {},
          "execution_count": 71
        }
      ]
    },
    {
      "cell_type": "code",
      "source": [
        "list_A"
      ],
      "metadata": {
        "id": "s-mo4MWa54gd",
        "outputId": "09b43c90-a8a3-40e8-8481-9838da4e0e23",
        "colab": {
          "base_uri": "https://localhost:8080/"
        }
      },
      "execution_count": 72,
      "outputs": [
        {
          "output_type": "execute_result",
          "data": {
            "text/plain": [
              "[1, 2, 3, 4, 5]"
            ]
          },
          "metadata": {},
          "execution_count": 72
        }
      ]
    },
    {
      "cell_type": "code",
      "source": [
        "arr_a[0]"
      ],
      "metadata": {
        "id": "hFZtcWyn56Kj",
        "outputId": "344c52f6-ea7a-4e6f-d8b4-c780b37c9647",
        "colab": {
          "base_uri": "https://localhost:8080/"
        }
      },
      "execution_count": 73,
      "outputs": [
        {
          "output_type": "execute_result",
          "data": {
            "text/plain": [
              "array([1, 2, 3, 4, 5])"
            ]
          },
          "metadata": {},
          "execution_count": 73
        }
      ]
    },
    {
      "cell_type": "code",
      "source": [
        "list_A[0]"
      ],
      "metadata": {
        "id": "kGW6MID658Js",
        "outputId": "b163c90c-b483-4ec9-8252-a1b188e601ae",
        "colab": {
          "base_uri": "https://localhost:8080/"
        }
      },
      "execution_count": 74,
      "outputs": [
        {
          "output_type": "execute_result",
          "data": {
            "text/plain": [
              "1"
            ]
          },
          "metadata": {},
          "execution_count": 74
        }
      ]
    },
    {
      "cell_type": "code",
      "source": [
        "5 * arr_a # Matrix (scalar multiplication) *คูณแบบ array เมทริกซ์*"
      ],
      "metadata": {
        "id": "_bq5xM3E5-nF",
        "outputId": "6cd623e0-8855-4d31-8071-d903dd2d78ab",
        "colab": {
          "base_uri": "https://localhost:8080/"
        }
      },
      "execution_count": 75,
      "outputs": [
        {
          "output_type": "execute_result",
          "data": {
            "text/plain": [
              "array([[ 5, 10, 15, 20, 25]])"
            ]
          },
          "metadata": {},
          "execution_count": 75
        }
      ]
    },
    {
      "cell_type": "code",
      "source": [
        "5* list_A #duplicate *ทำซ้ำมา 5 รอบ*"
      ],
      "metadata": {
        "id": "RiTqNvUo6Amf",
        "outputId": "b4064726-430d-43bf-d250-994f4946b808",
        "colab": {
          "base_uri": "https://localhost:8080/"
        }
      },
      "execution_count": 76,
      "outputs": [
        {
          "output_type": "execute_result",
          "data": {
            "text/plain": [
              "[1, 2, 3, 4, 5, 1, 2, 3, 4, 5, 1, 2, 3, 4, 5, 1, 2, 3, 4, 5, 1, 2, 3, 4, 5]"
            ]
          },
          "metadata": {},
          "execution_count": 76
        }
      ]
    },
    {
      "cell_type": "code",
      "source": [
        "arr_b = numpy.array([10,20,30,40,50])"
      ],
      "metadata": {
        "id": "AJk6Kxxw6DL4"
      },
      "execution_count": 77,
      "outputs": []
    },
    {
      "cell_type": "code",
      "source": [
        "print(arr_a)"
      ],
      "metadata": {
        "id": "CQVkYoUE6FYc",
        "outputId": "4890d34c-0bcf-4cdf-e06d-d4d5dcea3fa1",
        "colab": {
          "base_uri": "https://localhost:8080/"
        }
      },
      "execution_count": 78,
      "outputs": [
        {
          "output_type": "stream",
          "name": "stdout",
          "text": [
            "[[1 2 3 4 5]]\n"
          ]
        }
      ]
    },
    {
      "cell_type": "code",
      "source": [
        "arr_a + arr_b # บวกเมทริกซ์"
      ],
      "metadata": {
        "id": "cc1LDH5r6Jcq",
        "outputId": "36e7acc1-b9ae-4eab-dc29-e6be917e3471",
        "colab": {
          "base_uri": "https://localhost:8080/"
        }
      },
      "execution_count": 79,
      "outputs": [
        {
          "output_type": "execute_result",
          "data": {
            "text/plain": [
              "array([[11, 22, 33, 44, 55]])"
            ]
          },
          "metadata": {},
          "execution_count": 79
        }
      ]
    },
    {
      "cell_type": "code",
      "source": [
        "arr_a.shape  #ดูลักษณะเมทริกซ์ กี่แถวกี่หลัก"
      ],
      "metadata": {
        "id": "PcnGoVkp6KJR",
        "outputId": "b58fb9da-b1bf-4257-99a0-024fcfc3f6f3",
        "colab": {
          "base_uri": "https://localhost:8080/"
        }
      },
      "execution_count": 80,
      "outputs": [
        {
          "output_type": "execute_result",
          "data": {
            "text/plain": [
              "(1, 5)"
            ]
          },
          "metadata": {},
          "execution_count": 80
        }
      ]
    },
    {
      "cell_type": "markdown",
      "source": [
        "### 2D array (2 มิติ)"
      ],
      "metadata": {
        "id": "Gd-xcMOG6N88"
      }
    },
    {
      "cell_type": "code",
      "source": [
        "import numpy as np # import numpy เป็น np (สั้นๆ)"
      ],
      "metadata": {
        "id": "JcZ6Y2OZ6Okd"
      },
      "execution_count": 81,
      "outputs": []
    },
    {
      "cell_type": "code",
      "source": [
        "arr2_z = np.array([[1,2,3],[4,5,6]]) #สร้างเมทริกซ์ 2*3"
      ],
      "metadata": {
        "id": "ylmalw6S6RfV"
      },
      "execution_count": 82,
      "outputs": []
    },
    {
      "cell_type": "code",
      "source": [
        "arr2_z"
      ],
      "metadata": {
        "id": "EdZsh4e26TBC",
        "outputId": "4baab3d4-f46a-4be0-be00-47b022af58c4",
        "colab": {
          "base_uri": "https://localhost:8080/"
        }
      },
      "execution_count": 83,
      "outputs": [
        {
          "output_type": "execute_result",
          "data": {
            "text/plain": [
              "array([[1, 2, 3],\n",
              "       [4, 5, 6]])"
            ]
          },
          "metadata": {},
          "execution_count": 83
        }
      ]
    },
    {
      "cell_type": "code",
      "source": [
        "arr2_z.shape #ดูลักษณะเมทริกซ์ กี่แถวกี่หลัก"
      ],
      "metadata": {
        "id": "X9Q2vWDB6VA0",
        "outputId": "0a35ac8f-75df-4d58-aa4b-cb8a14aac152",
        "colab": {
          "base_uri": "https://localhost:8080/"
        }
      },
      "execution_count": 84,
      "outputs": [
        {
          "output_type": "execute_result",
          "data": {
            "text/plain": [
              "(2, 3)"
            ]
          },
          "metadata": {},
          "execution_count": 84
        }
      ]
    },
    {
      "cell_type": "markdown",
      "source": [
        " ### `np.zeros() `"
      ],
      "metadata": {
        "id": "6_jcCgwt6Yay"
      }
    },
    {
      "cell_type": "code",
      "source": [
        "arr2_3_5_0 = np.zeros((3,5)) #เมทริกซ์ 0 ทั้งหมด ที่เป็น 3 แถว 5 หลัก"
      ],
      "metadata": {
        "id": "IK9O-7We6ZA0"
      },
      "execution_count": 85,
      "outputs": []
    },
    {
      "cell_type": "code",
      "source": [
        "arr2_3_5_0"
      ],
      "metadata": {
        "id": "Wp1Ff4qZ6cpd",
        "outputId": "ee22511b-be41-4851-dfea-1655b8bcd658",
        "colab": {
          "base_uri": "https://localhost:8080/"
        }
      },
      "execution_count": 86,
      "outputs": [
        {
          "output_type": "execute_result",
          "data": {
            "text/plain": [
              "array([[0., 0., 0., 0., 0.],\n",
              "       [0., 0., 0., 0., 0.],\n",
              "       [0., 0., 0., 0., 0.]])"
            ]
          },
          "metadata": {},
          "execution_count": 86
        }
      ]
    },
    {
      "cell_type": "code",
      "source": [
        "arr2_3_5_0[1,2] = 9 # กำหนดค่าให้เลข 9 ในแถวที่ 1 หลักที่ 2 *นับจาก 0*"
      ],
      "metadata": {
        "id": "RTz33UgH6e8s"
      },
      "execution_count": 87,
      "outputs": []
    },
    {
      "cell_type": "code",
      "source": [
        "arr2_3_5_0 "
      ],
      "metadata": {
        "id": "dXDsbK1G6gmJ",
        "outputId": "fa744e4b-bccf-479f-db66-90e7f7fa2816",
        "colab": {
          "base_uri": "https://localhost:8080/"
        }
      },
      "execution_count": 88,
      "outputs": [
        {
          "output_type": "execute_result",
          "data": {
            "text/plain": [
              "array([[0., 0., 0., 0., 0.],\n",
              "       [0., 0., 9., 0., 0.],\n",
              "       [0., 0., 0., 0., 0.]])"
            ]
          },
          "metadata": {},
          "execution_count": 88
        }
      ]
    },
    {
      "cell_type": "code",
      "source": [
        "arr2_3_5_0[1,2] #ชี้ค่า เลขในแถวที่ 1 หลักที่ 2"
      ],
      "metadata": {
        "id": "I7nuL5w06jiu",
        "outputId": "3dce6bc5-4a8e-418a-f140-610c63a76711",
        "colab": {
          "base_uri": "https://localhost:8080/"
        }
      },
      "execution_count": 89,
      "outputs": [
        {
          "output_type": "execute_result",
          "data": {
            "text/plain": [
              "9.0"
            ]
          },
          "metadata": {},
          "execution_count": 89
        }
      ]
    },
    {
      "cell_type": "code",
      "source": [
        "print(list_A) # เปลี่ยนค่าใน list()\n",
        "list_A[-1] = 'Christmas'\n",
        "print(list_A)"
      ],
      "metadata": {
        "id": "pcUlvrsn6lZe",
        "outputId": "a061270a-c15f-4a2c-bbc0-033897bb4d40",
        "colab": {
          "base_uri": "https://localhost:8080/"
        }
      },
      "execution_count": 90,
      "outputs": [
        {
          "output_type": "stream",
          "name": "stdout",
          "text": [
            "[1, 2, 3, 4, 5]\n",
            "[1, 2, 3, 4, 'Christmas']\n"
          ]
        }
      ]
    },
    {
      "cell_type": "markdown",
      "source": [
        " ### `np.ones() `"
      ],
      "metadata": {
        "id": "HnDCUx-06oc2"
      }
    },
    {
      "cell_type": "code",
      "source": [
        "arr2_4_5_1 = np.ones((4,5)) #เมทริกซ์ 1 ทั้งหมด ที่เป็น 4 แถว 5 หลัก"
      ],
      "metadata": {
        "id": "Eh4UBWtP6pKl"
      },
      "execution_count": 91,
      "outputs": []
    },
    {
      "cell_type": "code",
      "source": [
        "arr2_4_5_1"
      ],
      "metadata": {
        "id": "iAt5T63G6pY8",
        "outputId": "f2829024-72ed-4df5-b23b-f4f10f844626",
        "colab": {
          "base_uri": "https://localhost:8080/"
        }
      },
      "execution_count": 92,
      "outputs": [
        {
          "output_type": "execute_result",
          "data": {
            "text/plain": [
              "array([[1., 1., 1., 1., 1.],\n",
              "       [1., 1., 1., 1., 1.],\n",
              "       [1., 1., 1., 1., 1.],\n",
              "       [1., 1., 1., 1., 1.]])"
            ]
          },
          "metadata": {},
          "execution_count": 92
        }
      ]
    },
    {
      "cell_type": "code",
      "source": [
        "arr2_4_5_200 = 200*np.ones((4,5))"
      ],
      "metadata": {
        "id": "KuC7PS4V6vLJ"
      },
      "execution_count": 93,
      "outputs": []
    },
    {
      "cell_type": "code",
      "source": [
        "arr2_4_5_200"
      ],
      "metadata": {
        "id": "0X6tCXpT6xLT",
        "outputId": "bb2b2d6e-7899-4725-de66-7591e6198a39",
        "colab": {
          "base_uri": "https://localhost:8080/"
        }
      },
      "execution_count": 94,
      "outputs": [
        {
          "output_type": "execute_result",
          "data": {
            "text/plain": [
              "array([[200., 200., 200., 200., 200.],\n",
              "       [200., 200., 200., 200., 200.],\n",
              "       [200., 200., 200., 200., 200.],\n",
              "       [200., 200., 200., 200., 200.]])"
            ]
          },
          "metadata": {},
          "execution_count": 94
        }
      ]
    },
    {
      "cell_type": "markdown",
      "source": [
        "### Matrix Operation"
      ],
      "metadata": {
        "id": "SrVlr14660Ea"
      }
    },
    {
      "cell_type": "markdown",
      "source": [
        "#### การบวก ลบ Matrix $M \\pm N$ บวกลบตัวที่อยู่ตำแหน่งเดียวกัน"
      ],
      "metadata": {
        "id": "9aG6j4rr66xZ"
      }
    },
    {
      "cell_type": "code",
      "source": [
        "arr2_4_5_200 + arr2_3_5_0  #การบวก ลบ Matrix Shape ต้องเท่ากัน"
      ],
      "metadata": {
        "id": "QSsnGKKA60rR"
      },
      "execution_count": null,
      "outputs": []
    },
    {
      "cell_type": "code",
      "source": [
        "arr2_4_5_200 + arr2_4_5_1"
      ],
      "metadata": {
        "id": "vXjngLP26-y0"
      },
      "execution_count": null,
      "outputs": []
    },
    {
      "cell_type": "markdown",
      "source": [
        "#### การคูณ Matrix \n",
        "\n",
        "- $aM$ Scalar คูณ Matrix (Scalar คูณกระจายเข้าไปทุกตัว Matrix)\n",
        "- $M \\times N$ Matrix คูณ Matrix (แถวคูณหลัก)"
      ],
      "metadata": {
        "id": "MyJSJSju7Fd3"
      }
    },
    {
      "cell_type": "markdown",
      "source": [
        "$aM$"
      ],
      "metadata": {
        "id": "EGSiI1Ry7OG6"
      }
    },
    {
      "cell_type": "code",
      "source": [
        "5 * arr_a # Matrix (scalar multiplication) *คูณแบบ array เมทริกซ์*"
      ],
      "metadata": {
        "id": "L9QMxep67Pj1",
        "outputId": "40c72658-f38b-4dce-930f-4138b468fe3d",
        "colab": {
          "base_uri": "https://localhost:8080/"
        }
      },
      "execution_count": 96,
      "outputs": [
        {
          "output_type": "execute_result",
          "data": {
            "text/plain": [
              "array([[ 5, 10, 15, 20, 25]])"
            ]
          },
          "metadata": {},
          "execution_count": 96
        }
      ]
    },
    {
      "cell_type": "markdown",
      "source": [
        "$M \\times N$ (dot product)\n",
        "- (m,n) $\\times$ (n,o) = (m,o) (Shape)\n",
        "\n",
        "![image.png](data:image/png;base64,iVBORw0KGgoAAAANSUhEUgAAAUIAAABvCAIAAAAWil6XAAAgAElEQVR4nOy92a9kV3bm91t7OENMN+6QN2cymSSrWINKY2lqW2gBggx5BNxAwwb8Yhj2owE/+N32i/8CA35xG2gbNuwXA25YbrjbsixI7S7NNbCqOGaSOd+8cwwnzjl77+WHc+IOJIvFkqokqsiFRNzIeyNO7LP3XtO3vr1CVJXPjCgJYqIxRPCiJQoKAglgdRSLqSUea7uQbIIxpDkY3AhKVpCx8lQkSGDLWnJHbRElb8GFkJJa59UgIG1AGlwEAiPXCqcoxE2MWRka0oQWEuQRo4kkWMEwF2bEhF4lOlYgMF4gMbUTMWCbmJaSchGHmhSsMwDqSQQVFVAAnwCwAAtLDYY0Rm1346nGeFL+1GBTe6VdkReKOcXWkJGmRDQQFD84hsOAahh73UXAtVA3SMAs2mrgt4gIlDahtcSSekFxioW4rTZrIUAJ8rez+D/N4v62B/C3IgYA1+10BAQMJIqxRYjx1JgGPya1mJqktELmMAYRT9vQGKwny6wLDa3Bum4u1TlJRJIBkCSY7sMUUsQKJIOa7qNtP5IINZRI/38BqEkzCNhNygkCstIQjJuoIkRnHMaARY0xvRlCEFJ3AYWkUZMFkGjEJvGiTtSiaLuQzJs8w6IxYjNjyEtURGwGCu5sNE5QPAwtDjcgdUbCKtYCUHixxBBsniEskRpx5JCOiQk/Ec2MkP2E1/UzK59NNXZge2UWkBoSWkL368Wjp98ejvz2sKRtjh58azSZ+M27mLY+/n5eeDPYHmcTkRICionRuaG3GbSxngUbjeQm+s4DCm1Uq8nkghVPKnpHrvhexRPUkKBFJvTDSqTnz/dfN7HybmDS7nB4RTbG4kZQRzXQWFSwKUHCCGpoU53CwlqM5JAJLraNz4JFRDNRixYkiGAR+/xg/0Fs891bL1v1kGESmCiqZILrRoYBQ0rEOLA2N+sNo0AyxniPWpoMhVWjQwcnR6/H1fHW8BUKOzv4zrJZ7VzJ7eC6g6AqUnxWd91PUD5bE7oONe2ZP0SAChKaIRaitodP9l7fTpPtq3fq6ujdx9++be7sbt4lrvb3/oR07Ee3TL65tXXNFJvYsR0MSpNFDCqoy13e+3kFDUY0F4Ml1eASLFkt0RXltoUQE9aAhwBGzkZE/fzZ23tPvmNZEaWtxuPJte1r18bXvgJjZ0qwEKBFjGqewNjkTVCMYCBCAO+M8VRgSdl6SJBAGsyjvf1/OZ/L7rUCdw2Aqg0JP6oTKUaxZMaCidCEkGUOXDdnnTO2Rh1KNasXB/mOB58lQ7t68N4fm7iY3B67fHh89PbpfL41/pItdqFNEXzxN77sP/3y2VLjTgzmPCU+c4YmoRYTYFmn/WgSrJIsTTaLZkU7hCZWT1TvNe0786qpT69OJ7eG279A8TIMY1CJzvpJv8db0BpX4a0TUKIukCXz7x0/vpfSaOvWF9jYssnBFjpRORsbUMFpu9qjmW9NrnpTLiTV9eGj+++OZ89uvvQPsEPEhVgjS2cUm4cW45JghGL98Sm2xKbF1mhGs75fEwHMXorvJ70Xk8UdoVushMJ6n8UkzlgRkIAqRC/RZ2pQRaO2qmqSGIMhCe38+dsnB/ev24nZvI7zMIv1g6zAZRVZTjo22nhnULA2M5/F/fY3IJ9PaxfjJo1B1GCamFqVoLTQtqmummNlSVGQEjIvs3o0uTINOlscPnkwmzyrdm+tuC6Z20U3iJ22KG6FLLFLxKIDsDavkX2ad+az72oaTVsx3HZmC7Z7mwIIIkANVW4aJ7ozvmqmtzaDpsXTe48fLE/fJ66IDa5xdgVLqDDR5SUpASRBArLEWOtM6RRRsD2s5FrsMTSYPSOHRb6an7awRCpU0QJNVrEKsoKoQVXFZAFqaCE4iYjD5L35SyeL4++G5WNprkKGG2AaZ+t6VUOAGFusKUmO1oDHGMT8rS31T698BtVYADmH503nAlMKgiGmhMvLqbVD1IhYMTivmBksm7AcDzYGV399kO9uHj54+vj9w+f78/j/bRWH082fxXyVZUmRMKdwgJwgKxggBViWj7R5e7V4I8sfpzStFm8WwwX5XWtuqbq0HgqAtNBoWGgbjNskv0qRDFWZoV7wjuUSPcRWsB/iiYaxz28jV0glkohLbZ+JjRQbqAdPsihE0PdoH5DmyH6T9gpnXYq0C/xxPYt5uIYvsFBXmu4JSeRFsSX1Ej1CDkkzgHILnSKJdq8+uq/NG7mbVYv54LDBJiaj0XBjMVuiOY1LYcO7sYahLsSMSyL4z6HqH7981tTYnP/Us2ce1GYF6sFmsr09vTsel8jmeOju3PyZyXATaur9OgXJtjB3WF1h98617EFmX3928vaDJ3+UXL01uE3m4Ime3D/evzebP1VTDafXNrYqP7l2/53vxOpdz+NhFkXbvWePmuO5KdOrX/g5JO/GIQIE1CKuWs4l1ZQGqYmR2ezkoM0GidVi/8H9Wu7tXKNq99997622NteufPnFu7+DttQH88PHBwcPQjsbDO1ofGX8wi8SHcu4Wu4t228u67fr6jim43xQF0U5KQbE1Jy8+d69k+u7Xx/fvE4kHj85mH2zzO14awMrVHvLw7eeH74V0zLLBhuTG+PRiyHUD/def/7s2y/ukGT26PHT1f0n5Wjxys/88vXrX6k2IoNr+CIrXiwGm1Jsayj6csDn8hOQz5oadzWdhICcZcglxPXfHUxefek3IMAEP7z+0m/SVKCULtn8+amZcgNuURvcZOvlq/4w/87zf7K395db13+NrKkO/vmDh9+UOtMUopyuwn5DujH5xa3N0TxuFtxqls+jDsrhLmZzNLoNERPoa9pBUiR6TLmxsdEs3mP+FnrKbHXv/oPJ8JWbd38WNDbvzVbf2D98mueb07Jcsojt4+bgu9nOzZO9P33y+L20yjY3ytPnby5nQ2Pc8ObPsrl49M4fLqt3NrechjgZ74T26Ol7R7u7r1GMZo/+cjE/kZ2vogmCxpPl4p3Z6WK88wrtYvn0mw8efXdjOsmGW0eH1TuPHt28vXHlzq2b/ra3zzeGhw/eP8iG1/PxNeMmGvJs+gvZtCQNUHPrK78NHh0ZtX1h73P5CchnTo2BvrqDAw+A73whdC46R7YgoCMSpBKtIIBE42tsFCtmYJzgbqPD8eRJORvHuEBOMfr4yR8g8xeu/0Y+3GnCe48PHp6cvHWj2Z3c+sJkeo3l1dMHb0SRzVuvMbxNeb1LMk2vxg1i0RL1pyfLo8OTd+t7oXkkZih2PN74AuVtTGbiTPTp5gbXd7/k/c6jR+9UVWOpw953T46/ndlw49YvF5vTraODg8XR4cFbw6tTlsdV/cbW1uTmK6+ScqQ9efztk8M6rhIkZyoxsxRmpDk2d3mt5ghZ4A5Z7Ffp/XIjXrvzMuWNrZtFXCSbTXHWD1+6eWWwfPv/8Nno2tVX8utfw9+BK+iUmJ/NKICYDshHu4jjc/kxy2dTjVm7306Nu0noaFAAyAgSaojQjDAj0gJzEMWoaYM/zNxVdEyEsEn2ktEr8+N9tp7H529pejYZbubTn6G8lckkOz4+rp8lPTWa469gZHb6KNrZZj6k3IES3DqwDxD60amtVm05vLaz83OhGQ9Gm8XmVUZXMDmKM9bZdjq57jd/Hb1xdXrrxDyzG9vzJ99E9jenO8WLP4/mOU/k9AB/gnt6Mn9DzbPNjRfIXiBMaE43xkeH+aEkAO/wLlg7I5tB03BUcWRdjT88nT97cvqt8XCX7Zdob2OnduAxSZtZCM5bg90J7VGIW7m/BVuwRSr7u5A1PC61EhIZYs26rva5/Bjls6nGejm8uwQwrSPttVZ3nChjYBVTbYne1SIrbTIxOalBlGZAKFTbvf0HzuC1JE4JW8RBs5KmaVFDyNAhMklSqFniLF3JxljBow51YtaaLIQoo8nNyYv/CnIT5zAGm1gtcZLlhZOhd1s0N9EX3Xhze3sGT2eLRTJtVngoSSVxEFZqC4W6bU+GQzsYjWgULRFNK1JL0NSB9KFdtekAd4AOTL5SWSZpISzrk1ZPptt3aBLRoxYPYmSwQSxBnN+tm/fnpzJcGHIXkgstrkCkT2D6hJ8WFPw69vlcfpzyGVTjTi+znmgM9Kxmh9LXb6UFwEuHylhUj2vdM8y9DExqMY2QSBXpAct7omY6vSXbu8Oj/cX+WNwWboJaWk0x92bbmC3MgGSwjc1TyhK2haDGCo7k1lTKEl0iCVFXDI0ZwEvEKQpEhksGOaFRWyTdVr1OvU2EcgPGSJN0FFIRyTCQDDLI8ysn80DIvdmOzUG9mOWDJabBslotnXNlPsIURbaZ+Wc2m8M+suFc5U0rCLHM2JgMphubY7JArMCQcqxVnNoMxt5uODPMsxGDDWRg1TeJJOuYutdhFbCgJCF9rsY/dvmsqXFXJTZwkcVVA3AhFGQBBvF9NcrRajLqSlcUKTB7n9JSF6Bp7/WD2VPCaDp8EbMz2bm7t/etZhlZPMIcnex9r65Xo8l1/FVSjgbqg0U4CFTVapVnRjEW6fy/ANpxRwzIqm3UGox2A6gaJLnCWmxdUy9qo3bKYEDV3Y3BDcuNKyf7/mh+Ojl6hzZfHj+p2jSa3MC/sDEs7p1+463Fd+6GejA4iYvFfHmgKqgn5d6Mvc+r+mC8uB9P/en8sbSzYbaF7k4Mp/V3Dh892dp9F1udnlT7p2m8eWdj567KIIVoTOaNt7Y/XNIbPnM2l2vyJ5aeYfa5Dv/45bOmxoD2TMw+betYXOa8kCwk5gAyMYaUYRzC1HNzmt/Q1b3q8I9T/GNrTFw1i9MDtTeuTn9jY/RVwjal2dl+6fDZW4cPf7eN4aB6VG5en26/TNjBOFzFcGWKxpjc5VNlHMktEQPiAMwcVXQCRRtXxq/w7+MUcTYzy5CFoCM3b/1pFZM6R3YEU0yNVpg02b62NxsezZ/V9/+5J2tWz4fDnet3fpHwAoM7u5vLo8Xv75/+ue59Z7mIk8k0xayuoHLI2LvB4dGT+Wzf1xvIae6qkS9orju7vaHfnj1+6/jZPyXLZnUTzZXxxm9l9jpk2Ig21oTEnPYQN4zicNrl/AZ6hlwqe7spfI5X/yTk06bGCZKegyOd5f5I+53OnmkfxPEJXpwU0hl3WYBkzkDVfnuF9ZmJhJhoW0DIYdfmr8wXq2dH7XJ+NBzl1WKRm3z36svDO7+GXiNFcp1+6bcXK5mt5urs+Oqd21/8ZfyXYUqbcFBMpNgSKb2/Gsm1jw4C0vEzEuoB0uDm7V+KOsd7TXMkhzJzmaEEH/1Gy5WGDSQEObEGRIXSDe/evPmv7u+9Mz+urM8nk9H1L/0a6Q6nBeXOja/85pVFmq3ePdw7KsvhztW787knblBuMxxcsTx5np0cHV4f35awbFTqcI20xXS46X6Zk/z54YPpeLR5rTTZlcl0Ag3UGE06UL9t/ZRsCN6CJwqNPd9aDsz5CvQE2E/mky/w25B+b6yXszs6ZvrDXKT+leYH7YGfZpFP2XnjoLSJZCBhDA7kw7ZG+t0PaCIqavpoTcAkJaXkbfeutH5UQGGFRszaVwCtUBuwDLoTR0Lbh9lagFNJiaQIWtl0KmmRtFFNIiJGRRwywGzDgC6AjHOkBcXE9X4t17hOgIpYJ7VqSmvGYIirNV9yfXyy9SkFU9QQIVdMJCRSwggpo5b+5EN35Rzs+WEMU63PS9VQgyftoDkK0mAPYLk2V0aRgFFEiUI0qMVKKEkGuwJP2EEs5hi7RNpzEIFiDS4ouoCEOPBoidg+D+nPkCUwmlBFEwjWoYSkxKgdT85aRHpenSohKJKcsyLryiAdQtFiQiRF6DINQSzGqiElNKERAWtVPmHonjh3FX+35dOlxkqANhHXJ4C7tM9+5KoIKKmNSxE1xhl8d7yus8oxdq9RSGJUTAc6E/AJY/olTAbtjUJqUYWwxsAUBQnYdEb4AkW1Zy/HiAjGXOYJd+DZWRW6u46QJIRorDeuO0clYFKMGlqbC9oBbLIuPp1frBsc0AFFF4xaADW9mbBg5OIwzXnO3wSjYo0xIt2YuutFSGvASdeQAbYbc+pdH8S16kZWcySSGjSQQkpBNKoq6kREjTVisQ4sJgOhHCKuO/XFBb1KTS0iIh6TITlYxHNxDwqqtDGG2EjblkUJ0mMEQkQCMao4cQZjWccxms6mR4VP7JDT52r845cuyEz9xvqA2EvgiWLOykYaNAnYDijqdKptsa53rx1eGmJLiM6O1h46EFfEGq3RmlzQBg3oitSiDTEgVXN0T6hVVVVTSrqWEAJgjBERY0z3BGOLjV1Mjh/iJvgJZoKWaOc2fRdeKtDpvpCk81LCOkE/zxxlDcilNSB3dst9knmu232w0d1Zf4k2klraBBZvcBYrYBOS0DqJEWxCumpQQAMc07yHHlE3NFVTL1aredNWKdZZLqJt0jbGOsU2pialsFZjY4yz1hqbW+ON8Sp+VdXWFd4XRT4oihH5gMxjBpTbmBF4tEALKAmO6DAZ4rpF1vMYvGo5MGCZGgaokYRGUsJe5GafncE05yb0MyWfLjVm7RrW3SzSBX3+UKSkF5ZML7z2Io4ipNAqje38XIq0AVW0RVu07nM8bar330xaaVyFuGzDMoZVTIFUFa57DZ32dk+AGCMgazFdpiamjkltZl3p/IZzE+unYjcw4/HuS9gh+Qg8XbIgBvERF/uUHVHE4EwHwUWgd9HxA1nihRs0vU3S7oDHGqvrUw5SpO3OPYHxWNe170mJZgUBadAF1SGz/fZkfxWeLlZviz3tbs0a6a4nom2zUk1KVFXVmFIQ1QRGXRIsgjWC7SZDRIyzmkRVVYWkqZ+/3JXXvd8oy41yuCXDLfJN/AZSQA45koFH+hAj0lYcJXAMHUOf1pbtPA1ex230xcJ1leuzJZ86Ne6D2bMS7lqSXHxJv5iCNWrOjyutMar1uXmF0FdxUiAFdM7sPuGYZpGq+bI6rVazupnHUI3GuVIrjdIkbdCQUkCtaqlq+ZCIyAceASOxbk7FJGOMGCvWqclUMpUCO3J+XA53ysFOVuyQj/EDdAe91WloTAmW1p1Bbhnqz7VXL97gR7hlpYWYQLHgU9dSCJLiRA1qiWiClnZGWqALZk+aw/dOj99rlvtiFqUXl+tcV9EkVdEkJJPUajLgvCsEr+JEvBEnYixWxRo1EZUUo7QpRaUVbZR2Vc/ERIhiopEkNiEqOG8nmlxEESsmE5tZV6oZbm+96PItKa6R75DG6AAtEVaWdh2JebBn9vq81tC3gYjUAoZcPrCjL26kj/nT32X5lKnxB3YtF5RZzjQ5QVSCEMHWTebFOneRLVRDTTvvGleQalazuDhZLmbt6vDw2be8XRpjrBNrrbXWGNTI6emJMcZYnHPOue5PkCUmkdyKJLj46K3tooaoatYRhBAWp8/RJmkTNaTUBg1KTKrG+RgkJBF8XozHo63xaNPlNyX/mrFXpPSYs9u2JIuU6AVs78z9auKs7cHZPjYJKl1DUKnzbF20khRpoEYqmsNm9nh++qBZ7T979EaRhXFhilwtMbarsKqWARnuRDfIsiLPiyKfFPnQZyNMgSkgx3hMgcmxHuN7/dKIBmJDrEkrtIaauNC0aptl3cyr1ayul0270tCKGlKKsYlSi0neW5d5a/1sHnK/OShvjEc3huUNiqv4DewmZhTMmcdtVVWSQ43IBZ8sqARYgQgleglf+OAG+4D8VGjyp0yNuRAyyYVJPwOM1v42EQ0pYZZ18D7PjRE6pa1ojmiOKSPLvdXJw8Xpw6Y6IM2djcYxT8sogEMtkpNyNE+a37r5sqE0duDsADvEZNgcY8lLjO25hT9kzRU1JCEGmiX1rF2d1vVJG05TnK/qfUkL1YWmuepSqZGoWg7Hr2T5jeHwlh3cJruJ2SSWJEuWYzrcvYOY+q1pCRbO+wGeV7/bdRjCmnrmSZHVMfGE9rk2j+erd2fL95erR0042rmy0dShrUxsc2+2h+XuZHTdFVfN1heR8jxg7QAqtfTgXPffNaqnZ4cP11CZBDShLalF0hoyPPOhsTp4GOOibk/r1X7dPG+bo7Y9Smk1GmQaIFqjeWYnw2xaFhNxV/30Z3FXKEpsV8GXNqY6piLrmgEl6Y9TAwm15zPzw9aqf83navwTEb38RD4UT57Pe1dIDEKABipYhMWT5enjpto/eHY/s01ugzetxDaGVaxXVSJNrqgfFkU5HGwOhttluUkxhSEUkJNK8KQcsn7L9riZfNzZHNX+H4a+/WOEQKqJS3QGc6r9UD2bnz6azx6H9sC5pixMltn54lRjprpp3e5wcHe8dZfpHdwG4rtdCy5iFZfO+vCQunppDw0oZ0qCttAgLQQkogsevUn1fDZ/dlo9qeMhvvKFmtwsqyYrp5PxrdHkti9uY7ZhSNzA3UL9+bQrUQGsP1+TLiy6hC5rDyefr8/FP59bnIRZIhU0pFPao9Dsh2Y/tScP33/L6ErSihQd2K5jg47L4ZcGg1vZ9g2mV5EBkkO2SsEZv46AjO2McuwKyR/eJ52Z45KX/lyNf5KSQrsSo9bavtKrQYOmlJzP17Z2fWihpy0eY45pD5rF+8dHb8zm91f1U0nLyXhIS2oKCUPPzsDvlvkO2ZZ/5ecxRb96Fx3LeYmLrqYqAO4cYvskIkSBfnulNS0hogFatIWaZkZ1oovjupqF8Ozk8M/EnGDACC7DjcVO1WzfeOGXyG5gtkklbtxdPMCsVldI1lfLkkWlf2rQFl0Rj8jncJwO3z189h1W75m4bKJLKcdOrN+y+Y5x063XfmFd0M76yjNASRidI4VceGIuPP+wGnc/9PKjfpRRtmBSD1h0frsL+FnQHnJ87+To/mL+JLRHKksHhZRtbaKMy+mt6dUvmq0XcFuQQaH4Dv8XdUS0IUbcoB9NjKi2xnbVCkkxxhhVxbtcOjwyUTchLz9tDKi/inza1DjEuDBW5Zzysd5EFzdEjKSOTLCsH/1xvXh/vtxLzHxRqV21zemyXno3zP3mcHBrXL5oixfx17BbmAmmvGSDLwTLKucR/drSY/Xyhv1YUSFe4P5b1kwVJVWVMWtaMUJKpAT7zP+C6v7p7PHR/GnVnGCizQfWbTTNaHvri1e2X2OwdpXqMa6DfITkEYtYkig0NanFB2TO6klz8MZs/jC0z1VP2uqJETGy4bNrw9FL5carTF7G7qBDJD+zXUqItBYjMb/MuLr8SOo92wdxpPX9s3Z6F63tmQjYgIC6c5iqe0Ezxy5wc/SA5nGzeDJbPI3Vwerg2dB7cWWdXKN5NriytXsn334Jvw1DGKHDnt/SzaiBs8hJAiTVhCRjrCZSUmOcSL+7Qqsu+2lwx586NYYVpL4qk+wFHl/A1MgKWcAMFidP7s323+T0u4WtULesqVtn/WRz64Xx5i03vIrfpNjEjdCy9zkxYfP1Z605l+s4TC/QI86Q4I8AqX+YaH8jcQ25RUiBYHq01YA3OLBCTTpCT1nsVbNHp4v3l9WTVbsX42w0LlbzJrblxvClq9tf9eNX8TfwIzJT4xOFS9brOuuMJ+Qz4mNm92Yn948PHs3n+x6TFeNkJuXw6tbWLb95i+wKOkG7CVnffg8RQYcaaucqz8SsFfhyte+c8bJ+sZ7Frh+ciwvvapEKEmRoTirQNf8sduSXgOmWeB7qE2mOOX3SnD45PH60qPZgWRT5YDh1fnN69cv4G+Q38bswRnwXB9lLNigg8RIHQQU9J5yoIn+FBf70yadQjdt+mYMh9i3bEZAamWOPqR4c7X/v+OS9GI8LU7fPHriEc9PB6OZk865MX2FwA7+DGUJO/9UKhB7cxtFVcbpNLH1QrRf888W9J6zJTJ9I1tdIZ8mq0nE5+7xQMYpVfAtJsVHH1pNapMLM0YMwvzc7fbdePT49eWhoc+OdDFJVSJxc3XrJ3nyFyRUYwRZpQjTrCz+nffv04JuHh99rqkNaNZqNB1eHk9ujmz+HneJGSInmaEnnb+3lEnSP81+sv5/N0sfccbrwyGVVv+CTOcM4GmQOAc3Aox7yHpDvIuFETA0miutguoo4pz2gejI/fOto/41mtV84imKgaeAH18rpK9nGXUY3YQildgG2fkCHL6KmXexxGQn7u++PP21qzJr3Yc6pXKqYFcyYv398/Mbpydur5hEcGrtwaTDUV3N7bTK5xvYLDK+hYxggOeJAm7SqtVHfWpuEaMlyJiTff9QHC86XRVAhktInVmNLsFSg62yzK8k4hVbPlRsQ6XBV8doTxyEgK1iQTokzwsnJkzePnt83zHJfJZ3Fdt5Kfu2Vv2f8C3l+F3+TMCUl6mfaPnj/6R+umntRj/MsK+zV0t/cmnyZnVewa961WujbBn7w3oU1IcxGjOpFJln/s88mSaknWV1UjwQmda16enJo3+vzvHAIoh3Zk571LR3f5Yy+IgkJHV3EWMUZnEWcgrawoD5g/l49u7davB+a54fHD1yeZYPtYnJrOHm5GN2hvIVstktjTWE8GEECGkhtjK3Ncs6Gp24Nwv/g1f87JZ8+NT5HNcOa378gzU4efm928uj05KHoyXgkw6ExEtp2Y+eF36G4i+SQEx2NIAW575o/BSFJHWmVVokOnzM8N9gff+udf5COe3z+jo95NETpo4nO3vuLWX33M3KevCnUARQHzmDPK8MVrEiHrJ60J28/2//m7PRd607L4UjZsbIzKm9vbL3M6CZNPdt75+n+W/PmvtjlYDzY3Xlxuv0zZHcJN2BSr2r13jnv7Blh21wa0GUJ8tG+VS798swcqaxPHXXReVrDhGfXvqjP5ky/O8MhcV0nS9DVuV3CdvOha0aWtoRmVZbADDnk8M2T568vq0dte1K3K8UVxe7W1p3R9h2Gd5E7MOqvrBGJSATauvIuwxZgUN/T4+SHhht/N+RTpsZngIdp4Rietc2jVfUg1vuP3n9rmOeFlKFKbb2VHgUAACAASURBVOWnw6ubL77G9EXclchoWS9FbJkNtTPCKaWIMc7ZjyS+pzPCxsdz6NflnE+mxBcrZLJ+F5fffqbKPW2DOlTqjJHMGzk/j6DgErLEnKBHpP24eLK3d//o+f0N19BWYuxwsjGeTCO6f7S/d3Qw2brii43B8PbW9FUGrxK3SVOtkBKEGGlDQlqfqXVncU6Xq6/52EoStC9Bd7diWPtYuYg/f2DJPoyEyZmbPtPi7sk5LLyGLhMkOZs77c6qSD9dhoP5qhgXXrC0hlVqZ5YVro6HD1bzvdnR+6v5nk2zYcl0IzfDV7jxD+Ea/RmKEOMqxDqlsFwuB4NROdwAC57U5VMWsT8VapwuFvsuyhnUYRBQ81e72w+W4j+IeXS13y7Dc1bXeah7Bg9D9f2j4+8dH76znJ8MsjHt0JudzdHdja1XmdxGhshgJT75UbcvDSkSU4qiprBZBwr3xcwzirYlEi4OyZxvqQ/MhKLdxvrBNvvDNlAu3PJFZdYEiaD90Q/jMQaDurYFg02YBAJ5Wh+yMl2YvdRwIqahXerq2cnDfxGXj1bL40BtC6z3Ii7GfLx9Z3L1NQZfhF3aCXG7bwmYX1AwAdMqq0QwWOkKNql3nokuXK6gtX1SYNaVM0OUc1ZZd6nEWYHNfjBE7zCz1B+i7qNxlCz1bQwvEaIF2jp4Y7FyCb4WgiPQNwBWokUyrNDAkmqvPri/PHyvXrwv4alzT4PZMtv/mht9eXNzm7xEWR08f/b8vaPjZzduXxuPtsqNF2Hcf+0elYqIDH/4caiLxvonKRftq3TVym7y4WLg8OFSn0NTr6VcIJefVTuVnsQjhg/xnD+JJFK/Gy6a87PB2tTtqoiPuLRk6EEOqN6aPf8Xh0d/FsOeiaFoi9Je2Zh+dbzzC0xeQkrEYiJYT76+FmD82dd5ng2gK+Sa/nlYM6IEDEn6eUrnxaGuntlbMYfx6waal8JF+YDvvWCuPpxYni9DdimgVcMC3+laC6fgYRyb0rcR1yKCh7FxpSNKniQV09dcde9P6uo9b5toQ1VVw9ZPis3x5quwucQlspEfIKbjIqsjypo7AiTEGIMXLOS0ptNGMRhHS6qJltLgY0vdalFIZipSzUqRAcZjmBlwlJYAMwDGIEvNTYUXosHnERLGYmx/NBqLKO7DwHA3ST6/zL7qg7IElUEVL3glU2jA4om48lp+a5xPr6+e31mcfL9pYyuL+vgPTx5+4+UXvrZ58yvYzcLP5eT7Iw5OHn9r9wu/RBgRSpzH0sozJwIZ5JdH9FFcET1PnH5ykta9UR1YEqnTQdO70nWf4IvFlM4Iun4bmz6USz0IYIQEbo1AXJJPrstrs7EOYD8CUjKyPlloaN2wIR6w953j09cTjwsbl40tsisb268Oy6+Rf4HiFdIYSyBGKkN0Z6Hvh+zlJU+5VjDTH7I9H4VB5GLXVe04fRfibjrQJwHpbBkvdo3rP/1C8PLR8/VBrm+CVbss/SDBO3v1nzzEe781f/fWTrnfRFuW9eL0137mi5YwJFrqZkUmIz95dcttY+qKBU2zKSPGV6my0LrD1AQ3a9VvWgsFnFVQ1xvRdF5SDE4uVuOlM7hVRuuwVn2ExvUBTWYNzjKDIX/23dVpWSyl1uZIMfvVoLT263fKu1tCC+0KW3AB/gKznhn3Q5pUy4efp065FRMxZ5XmCGLLSLKqDG4XV28V4yuzhS5Xb+09vJ+7YXX0hludjrdfZVy+cI0HT580enJyPNgo7pIZatqEyctIY1DpkwpEzhE7JJ1/7SY/DEb5MclZYGh7Vxygy+271grm7GXQM+c66bF+vXAmiP4cuvNyITlkHT79KLckkmy3hJI60JHOPa4Pa2s0aGGMszJD7sOz2cNvEA6q9mQ+nyMb48mXtrdf8+XLlK+SNnsbGcBWmVkJAh7NORvVhbHJpR/d4JPV9vKkmUvapR/eTH1jR70wgz/gbn9kQ20JO14j1UrL//V/+7//u/93Lx9dm1RPdsb53FgxIYuH/8N/88UtdbOjB9OsytLi+Fglf8Ffe8G41oUFq4rocQNk4JIfJ78IMcg8arKpQDKSt8afn1gGxSRi7Oy16w+TJUMgOmo9fW79CLPVklW5rWCGH+A3M9MaxPLf/i9/+K2T0zQdtHqqdZXm1aCd/+tfv/uf/8f/7gBBHN792Pa8GmIBCM6t69vrQnBSLDIEj3dMN8YbOqqvxrrMpJ0dzarjhTSrEdsMKpcvl83xs6P3yo1nWf7FOhAUm28LLWCJH3JXEfoz4N2U/c3kz6JkF6tjkjBpHUh334XphHUni86tOMMFstQlSWtnZLVX8jNCL72d+GTS5VtdaYGQxJ0lv0JCW21dbrvi54rT7y7m3997/s3ca4h5MqPJxqvXbv4co1eIWzDAnCuTc+u65ycZz3ncm/rU9IJTvTCLAHoGTK8/Sta5tJ7PzQ9e1h9xvYNqACsslgrDm7de26w2UnU0X1Z1WxU5RFJs6uXp1CSy3K6sxjK0SmhsykTHyxhNTTEcgwxVRHVhlyftbGuhRI+7jZc107uXbjUD2HXCpaCdaxqNCBmYkbMBqr4DiFlKT9aopJ43p7pqLVVo6xdeeOnNP/ujv3z9zWTAdkUdaZPqj6WrvF5umWCTYCznAZjipKsAS46/KT7c+FrG0QOp3og+tqsnB/feHU41y1Yu1HVzfHz8/u5wLy+vWNM5LS8EkbCelYsfbUHP8s2/OTnPLAySISlCwEacruPndRvStn+9GNfpglymK9kz0KL3pUbX8OqP5I1RSF2Q2dUjiedqHI1o5gUCOuf0vfnz1w8OXh+U9vh4hdu++eLXJzd/FXZgM1qzagGckBlEEsmhI+AT0XAuOmo1l1hKHwBaz3594Zd66QvE+SA74qL8qDqMq2SUYNXw9NGTQbT/zq/c+Ye/dGc7xwwJSmiYWBbVcTksY6bN8cm4uEKyrFYEJYLPKRyl0+NKFCtIHqpRu3JN6dpcc5O2CA5xiFm7F9N1F+vWwqyX1XQrI0OSp81pmeYMHRWrRHLiV7lR6/+L/+rfsB4DQwjwv/95+sf7z+v6cRBCMM5ZcMZ84lL7x4tcyFn6J2mdAXU1KtWEBFJCbXBUZCC6PTJY6tnx42cP0MwNZWhxLs2O72X5d6c3bro0jRFru7vuArTLhTbRdbHQID/Knv/r3e8ZjNiRheKaD9jlvHadGDmXiN03Ewhc+Npoe46PgQb0jMVmhPwMgO0+7ELq+PGP3dW6//bJucEAdbsaeyumQuccvT3f/8785LG2Kfnt7d1r063Xsu0vwXWYNN2b+yP0TeoUN1kaq22UocP84DHoh8bTtdjoB8aaIXwJizYXljTBGiDjvKSq6z+eWeu/ku9JsGhZ1IwLJsNs4CrXHF4bbA20c8LRFM3R/sNmdVwW1kpRTserx08L43AGSaxqlvUq+qwYmNLTIrEdko5sjE6DUR9siivDQGxc38T5ErIOzTw4WtuxMjQnGdrOUeENrdFENEjhzPGy3h2MuuQrr2crGc9PZ/sni0HpA9RRnTdnNvPHE4d2Sc8FPEfXGyvEOgXJbYbDRvaPHi0OvjdcPtgZBpxCo7oYlWI1sdIyzzOxB7On84PvT3deJrvN3JIXKlWywShdD5PU9YHou2q7tQL7c2vyk5SzxFYufJSsb/2MMRdBSNaef4FRR2TpoLku0I2kgLYQURBBHMZY8d0HqCB6kUXwsY/nyJ6DZKgdUbGCccYZWtJBOHrz6Nm3l8ePMhjmr7rBK5sv/ALFVZi0q1yynjQktIYKGjCQd2diQzJezpLSte38uPEYNb3SX2ivGS/SLTssrHPx2nXYOd9F5vzcUieX8UyVH22hLUw9uSGzlHkK4fD54Vuu+BX0GBNjs29CyuX5dOJmp/unsziZbhQv5ixn1AEjuJZ6aY0xdsIsET3WGTEjYxbWNDjB2LbNUosLmI5IbARjVVUM607wOUhqiA0aMY4oEDEDnIkmVWBweTCZlLseIrNIluHycYDHz49Pm7R955a1eCsg86rJy+yH3fonEpWUbKt9fbub276IKGIciAmYCi3R56l+b7l4b3l0lFaysaFNfRKapizHBBBsSwMD5lTvLh7+/nDjC7ndbcOgdTaIEeh6uChGRMCU5fhCFGDOv+r9Jym6psL4dYd+WdfeIj31trOScb3X1wWnMy97MQ2QdU5LrySytomJH/G7tPoThwhGSJamH7AIaRFPvn/w/Duz47eJqcyv5uWdyRf+PmlKk+Ny76kDdcJk6k2AkGgS1uDEJDLj7cX2a5cG9mF8qwNImnNr1xdF1yrNpQiCrpVmihi9YIjtmVnsaDOyRqf/StW4fnsagOF4ZIeDmcZK8KKR1g/K0Dxtwsmg3JgMrS4jqxPEPP/+95dv3/N17V1qUtSymA6n5dLZfJOdXa5vFcWgxYRW26aZmJhojSSRtP4uWHEJsbTrAUgIhJpmRWqOfu+fxlY3/cS+eIcXrtuNwSgrItZaSIFGcX5kAWLLvKWOEnCuGJz1B/iQfFQK88kkkQIpkgwiOLkYMIJYhzWkBCk2CzVtNhhn2e58MQvtfLlcSEiTQZnaOCmGMa6a5qTIpeXg+ZM/lVQPdr6mVd76YRBPr8WkXo1tWQ7WdYjuw7oY+yebJ585XkNwKBp6dAlrxVk9O4R3RoU7d5JdWc9HmK0oSyPGWc0tkNC6kiJfzmeDyZhWuy/Eu1i26p6EoN59xPootGBkbVqigbQ+5tLq3lsPH35jNn9oXdzauL6787PsfoXgo7XG5x16nkHuuhGXej5glDpZxVpdN5XjUu32MqS8Pj2coI4aDQaxXeSEWIz0eG13tZ6GEaEOdO2uj490d1NWNeMcuRR0rz9hbQnMj7JRu6Q0Ka2wce3Fveb5/UX2DFo2ATgkDVw5res6V5Xc0AS+ef+b/+h/4vGTobaL5nBYZizaZ9GN7ZTN3T+fn/x7//i/H8x1kI33Z7PxZHO1bMW2YrsBmq6+YnDNfJUNB31WsViitf7u//kH/+M/Ghwf2NnpM1se5/7v/af/Cf/27+TiG78ZxRubM3RoEPGouCRDb05OZmLc5tYOECNBKYrso7VV/pphaVqXgkBJMRmjiEc8ydiN61enX4lP843Bl5fzJbq3EferkwfGqW3jo6ePdnautG1qqv3p9rienT588M0vjK5lu19OR7Wu+yImVZJqkpg4ePYAk3lfZvmgyEZYXddfzQc2149RDOQQ25h5pZnhIm2Ftx2UhC0kiHVFaKPzHrLVfFmMcsDR1EFNyvJaOBVW6xBTImOHG5QeyskGJC+NiG2jqdu2KMpuPWKK1ljv+m7hFxAJBYloIBic9Bx3R7TIHDPj8J3DvdeXs/etiZPJtfHmHUZXsUNMbiClWjQzRro4I7bJlkaM6zLbhCaSUicc+I6ACRoRgyoiaB2SFbXizHraQxObGIoyP9N2s8acO1vQKiLdad71l5Q6FoncoJk0kOWsAqVhnXj3YcZfR/T8TGPeMmx1GM9NZEHKSXkiRTFWBCzbN37zt/7Np9/6Cx8Ww1F083muxfJPXtfE/ed7/+A//PeJdaiiG26NdaBLjKpKiBLlzJWoIZEVAyIiUDVo4s/+4s3f+3+K2enXf/5rvPQy3/7e02fPvv/Pfv+1l17hV74uihGv+LV/6vltktAkSUXOaR092ydedBbdFv3RldhgLL5vWtRVhgiiDhBrm2i9LRNUgSzLIy/47e3g7+QTHEF4fIVTOKKaDbYeHT67n/ImsymI2kKmwyltap88KzZ2vdi6rtu2dZnPvDPO+2JQV03baEorkxy279cd6ujy0V9nuT9eBKxinUVTnwTlA8SEunH5OJKps12Ht7H3KHledvRKh3cmuUb4i3fn//J7zyu7EezAZblpqq0BG3Y5Yfbbv/pSAaINCW/zpMkSQFd1neXeoHW7smZdgrzwqDamrk+yFpoySZ7gaCrS4/n+Xy4W960JG9u3r17/RTbvIhuIwAIaazzGkjzJYa21hrahS4ONqEkqKZqY1smC0TWOqQpi0ML5TkdSDERVkhU7yFjD9GfBkgHTac6qRTJ+748ePD+ez+tYtYgI2g5zS7t89c6Nv//121lHR2jTGiDXy6H4jyYdpFF3Sb36LLhB4yaBTYMVUqttgwaDyVrLSlQKGdy9ZV/76rVf/ZrVBUPD4SHfeGPw5uODRXP1lbv+3/otJK4Sozbkwaim5BISUk96SZZ1b4Szf+0K0vKtN0/efHP35gv8l/810bCSv/gP/qPZ281rT4ecXvejssdJzfnkCUQhJUW18Jn0MWESNfyIGMEPElHj0oVErw8EHd0XZ9i8hXnDP/nd/SqsGnev2BhEhnk+yMxhafd/89dvb1BonodJuHHlanP68HT2ztMn76QoL9y4Ge2VFCb1vMoHuZdkneSZa9pmPp95Py8Hk5Dqpo6pbYTkByPEu8z/dZb7k8jp7HgymYCNbhxh1uAy2pwVzBs2MqwxMXMGvJBUC+lmJFEn01r+rz/40//5n/3pKeOUbYG0s8NpFq4V9Yub/PLX/rNrA3AWGmichg63tlpJaMV5CUtfDj48Jk/oSg9eGjFCzLEOA2F1NH8aqAbj7a2tF9h4Edlc40qNnLU0Fff/M/eeQZpe15nYc8699w1f7Dx5pgfAIGcCJJcEKVAUGEQoR4qUJTmoStqttda73vLaVfa67CpXubw2f9jyqlxaa1e2dkWJSgRFUiSYJAIMyDkNMAGDSd09Hb7whnvP8Y/7fl/3EIlDkaDPj0GjJ/T73feee895znOeA7YNwOBsM66P2YANiWuShGY8RPPLZPsUg42s1QIzx82nilAjAD7+eQtmkI17whBvjQGD0uOLX77vkaderDhVTr0EldKx5zC+9Zorbr/lPzJRtUJpQh38+9oUhDQiRkIakFawFgBM7Y33IsEDwixE3vDqxrjTVd6zr08Fyg20MPr6g2fPXMgO7d/zsV9AxiNDad7S4IOItWAEVQWiJwPTYrto5HGhJEiQ8VZYvxC6OVYvYNcBPPz47OLu0foIC3vg8rjQjIZHTTuIzyEE1ZBnCTesIQU8wU5CnsloJbBOdFEuwcN1EkpvZ42R22Q9NMB64MFn8H9/8ktr41GdvJJ1k/V1l9jU6YVd8/XC4s9fvZx3OHPJrBcvZnZmdrkoBWpn5pdRzRtuB90EwD54X8M5VnWQ3LFxaJs8T7WqQ11sBV9kaQdZN3LjfkCmkE6v5SGD0ts0u1DgX/+bT58dCKX9QU1bw9FMP7cYLeThHTddftc7r82SNIKUdlNshUSBl145MxwXs3sP7t5/xdraemv3bAfDjq73k3HiGtAaqtBSR+tIEmQZFRur6+tpmuZ5Ptg8++rHCsZXqAPUiMvQztBCPS6GL5fl+VFFNutn3T0mncMQvh4K1BjiUNV1FUIga9I0JWtqkcrXKkbAUAdYVQc1pFbJqymkKd9vk9RIgSBhyI7jVU7ARCZeamY27GAcbAKbwrSAtJdxzSiBmU4+0++KyeHahejswuLa6tkLZ068srI59pASC20kzkBlG9+m7/GENvAGJQd40050mEjJUm1X5jVAapYqgYQYxMLN5/2y9MgdVFHk+OZDJ1660F7cv3THu3DTdRvFhXq23+PEl6ItKWVMMAyv0NBslMlh52skiRpQy2E86NxwzRWH94/Pnn75X/4Pi7sPnHvyiRnv99x8I450an9u0F60RCmQBIHUgJBaJaeMIJVKlWeOIgjeSAu+xlCV1wHAvmuLCJRKZDEArgJGAc+9+MrLq4P+rr2Hjhws/Nqe3UnCHMadmXzUy2YTkA1j9onRxPIiOt391NYQYGZCYU3eKjfPZyglBAsgeKPiCCx+fGHFsGWTQlQ9vDceYtkgaf99PsQbmwAVvAdTmtWAy/D08Y3nXx6OdYuyXqUh+HOhXGnz+tmNc9ffdm2XqiWTGMCKyxgogbqu5zr5bddd8Yu/fIvUSAW5gkdeBmc6DgTREMggXDhr2YfRRr1RO+cW5zOp6/HwXLv1GrexklYUG2zVUjChEK5Sk7Jf6Ngjac6dzhynM6Hyw9GWiG0nznBInEGWQnxdFeXYiwM5NpllgDQYMRTEiCVVQL0NypPGOgUmMi5sUVfjelQFojxN4RyJQEIRahBZY6wkLA6SwoxBGbsuKpck/LFf+PAvskvaMCk4xfMr+MKXXv67L362VLEZUEyrbt+XF6dAMFAPKGpPdTBVHe81eIQKpoYGITRjjpXEjxihHhfQgM364U99PkWaHDxkPvBjMtzAXF+VqvG47Sx1zHBr6JBZEQ/hi2E5JSZGCWROUQmOHFw8tPfMysnh2WMvnTy6L0uGG2uHLrsLSe1MmZBGIh64htQAQBTYCRBCTcG30mSSCUdGSRTN32H0Pfkw7bi+Yy8zMTTeyMogIhRVkbezK65a/uhvXs2ELtBhaIFqc+3K3X0XzmFUy7gSJEYcihEoJwoYlSgqZNSanwPGrAr18DVBE8PBV3meSR3GxaAOYti5NLMcBQC/awrj92QGLioL1YAFbjiyvLjLrJccTLvV6xX15tkzR9fPPh80aVkESeKq2tEkcgnjTTdeTTeOvW32VgsYQZuB2rLucxrqUJWlT0013lrt9RKuC6oqk/UA4VC02w714DXeAqlTz8YRQVBX6j17SmFaC/O9BZGKrcAaRplkjKqXsIOuw3t4BayD80YCiydfowbVTgNATi2LQUgAGPjAEp2qKRA3aDy7VuK6HfiAosBwCwo45sSIoaABqEkN+RH5TYFz6a7UpED7mn2uiikrMAIOLsBkvdXNUXuhQ0CSQRC7wiJ7Xief9Ht7awS4iqgGxoZHiQyTMExREiwKUCneC1EgKyb1kikFKxudVLzWGHs880Jx/HRrac+ud9+O5d2nts4vpZ1kNHLjgjz7VNK2pUFgVfMdNyEBiY3ZC6TOyOOpR4+99OxYR/Xe2Rtvf9upv/5Cp03Pf+6eI3kPP/PrbS9C3CQ9LIiSwgrPEBFSyVKHWPDTaVEydsBetOnlErXNlCQYAZrqgAHH4FyBuoZ1yBitJCRmsxqfvG7v1QnQBToQC9ZizoxXrR8SGVCOgmEsNofotNFnsBhy0AJQjAukDmx1XJBjyjIej8DgxLatFYUEVZLgyyDDJH3Tp/7ejcEShFWN1rl1AP6Lj91hctTAGPDAmQ386Z9v3n/mqUzITri0AKyN+a6ilfdmFwNUbA1bYTafkAPIj0drxmA43BoVG0utFKMBhTrNMrzwwtf/5m8qyPt+5qcwOwPDTVNVQ5AQACRKLGAlqYMWAk1sK3FtUL41HIzKDed8xsiDQ1lh7M9/9TPrKyeHhS4cuGz/rW/Llw/lMjy5ttJa7ABe4aHCGoUsPAisotrcjWFCxuIgqBTDMdY3t1544eTxo86aI1ddiRtvyJKkskyiKhKkRiglQNWYAXF7FhqsyVUzSxwnjq4rNlfPFp6Sdj+i4bVH6iZgfFOqbthpU0LJ1Gfo4mxwpy9FbELBNcgDgRFIPdWBECIixQjMcfkELMSkPkthqDJ1wNrW8Kvf6LV7aybgPe8YVFuzew+MNwc9ODYSxsNBVc7sPRSGG7EbxYBlyskBxlVlkyQiJQCfePKp0yvnLrvy0K7/6rewb8++n/yp9X/636+fHpx95PldHw5IKs5sAEzsWgXMhBSmGoKqMUabj8c7PuWOypw2vnipJgjaFPlZI68aECB35GM2zmIyWt88bYEU6GIzhyfkQYYXTr/QzTRtW4QSSY7zK+f/9kuD1ePoSSnIs/0e6Ym1V9xc59Y77mhdfw2ZgM318PLJF596anNlbd/eA7uPXMF79nDS9j5UMvSQpF9PGldxMb/o+2AEOLYOKEcjsqYaDfqtlvecWTYeNeNAHy5Ug8Ir5wZItFGMsR1g4GEtTLbwwvrm4uFe6tCzCBVMVCyiQK4uiwsdrrLEIwCBUNZ4+ui3/tf/Pa+9mW3jI3dDvZhUNGFl1gmdk0DOiDK8CKsxzgC2Vi0L9VUrTcusO/JF1zhkKb7y7W/9239Xjl9qJxivDZOFPQ9/5i9v+cf/EFcf3MVlrYknNuqMEsfDwrKSKBFBCByIK8NKsILMEzYG1de++ehnP7d58vjeXTPD4caDfnzzz/6M+fivhSzLXOLhDRsvniwnSWtcezMYpKkjhsOU2IZ9jGx8Pm13vc0ToE0wjQq9gACyCiEEoCaAYSLuMh1tbCaMnIaLswPmMRKBXbYx3q21myZaFFTBJuzgJKQIqYo3EKXawJOWrBUGYwwJZ4pnHn+mMHj3r/48OqwpDcqN3HBV1xmxybod063Wt5RB7FmFp10kBBBcmjBg1JuasLa1dXYtS7u73n0HjhzAqEJrYea9P336j79w6slzu0Yes+qtL2BaQiw5Aog4I1DA1tZW3uqWAQDKWjJLYBuCxpvC7PBkuvTcmBqPYWla1hkTnJxRGzgGCq+bInOdnlPMEXJtExVBhlVYmZlna0LhysCjdgI8/tjgLz61h3FUVl/e3Jqb2//K6nrVzsz+Pa0PfAgvn0Cuxz/7l89/7Rt6amWmolNBj7eTd3z0V/CjHxJCPt8dVbK5eirv73J2quzFAFSV6LW7DS4tStNmXyXtlgeSdgvQyFxIfUgzswmsj7EqvTpfIEWPmujGJqgdnFeEYMbcLm3M4D3DopmvG4RKQmG1NBAdjGhhvv7m43/5v33i2jE6ytxqoRyD+hWzqiVlozAKhioQyCpgVFghk8olAdTujjc3TNt1e/MscvprX3v+k3/S1fHyzdcuLfRRuJP3fl1OX8Dnv4xdP5u0WFRKYiaSSLyCeIaQsIKUjbKChYxEkFQJG8PPf+Yee2Htg+9/D3eT8MIzZ5986oE/+7PLrrx28QMfLAYDtkREzrm6DlVVKVzzPqacYEVCyIFEy0AsZKM63uRVCRqMi00jKIWJCHXD69jxnpu/2Ckr3gAAIABJREFUYxRE4Klm3Y5SKomywBEZjaqVlpRJTKSFs3pGUHgTveHCuPja/YOqmr98GVccgkGgZuI4gClbC8qBK27y1IkQz/T5opspowqjcb05rurVgSsdWvPYdFjncmAXDh2AcSA/QlJAmLmFSW86qTKRYSEEicE0T/l+2xt64r6vQZr5Lqzhxuok92vkAMU0Y6ah4JqMsHEBqQWJAaeggXAJ8srijXgjg5XjnSsO7lHoi8ev+/F/cN3yPmiOcYnZORy5DDMtmICHvv7cF79Ynlu/65Z3pYv7im98Y239/OOf/ssbbrk9ufFG2VontlAhrS+iPzYL+p0WH+/S9HOp0doOtLPwLgRYraA5EQJcye2ac9MMQ2BgospIhDiw19qmWWKa7CmCxjYJkmBokNh+bjd6Wb13YaG765kHHljsZFhahLWFNSTMYmoABIKAxAQ2ChYBQIrAqAwsxBaj1LADlxsbaSczbSt7u8vX3zb7I9dh736crA6EOfr83+Kcx7kxrj8QqKgNhFVIokhaaUVhbTBGrIIETGqtsA0CFczP/cR//U98tcH9BPt3mWef3f27f/jKS6eef+bZxbvv9sU4yRMYtiat61DXtXGuWUdI0zI+YV3LZAu92i7emvH+aaRjsV1rmfyuCinMdBAJXSQwECetNhPg3sAMgxl1+ZUHv21b7tD1V2P5EMImYIyyEdg4eh1QYmlawWyjwbSDVsoEhY6LcW4Zvf6uI1euPPHQN774jauGpq15eys5/+2nW7Z18B3/AL1WxToEisnPTx0AjFhKNbBGVSdjYie7kb5PCOB3Yao6HUwrESInlqh7opYkGM8IttNdwGYxYtvbsxdvfzv2LWLg4do4uIx2gvUzmO+t3ffN7Pz6LT/ygfRnfg4uye66Y+Uf/fbc7N6TRx/bfWg3JzOGs7Lc6bG64zZ+9aNNeX3fB4tLqhd/3qlZoJlDX9c1ESXxFdH27GCRIFoDNZEqIZ+bDVU1t3zoo//sn+HL9z/4jW/NsQUbwBhhDiaykZUkUDMJj5pSAwEav6+AjseuM8NVMdzaQitZuubypV/6CA4fQI8wGGBYH3vssWymv1pV8/0ZeD9suZFF5mEBlugPCMQkRtQGZlK2gazABgMG+ik6S3bhCEYbOPoijp3mXqeza5GWFlFX1pAhUgVCTRIMM6sgXsVR6oOatxQ7s5Qumimx0xhoEAFwc3jpdOALAAa7HVJyNdRPLmmHyThiACICwDn3Bm4swLgo8yog+IHB8mXL3SsPg3UwKtHqsLAVmEj0iL2lzcA0c5GkQZOmSoBWolnlqdU7+MG7W8Xg6a/f9+T9T1QroyV05hf3Xvaum/H+O5AnmjgBGbCZFuipya6std/pxqp06QoK37N9x7b2BAMOSogHJtm0VqkdYPDAg6trWy6x6/d87sV6VGlaVuHAngM3/cbHcXgeQeeyGaxXa8deWagEieLbD3VdfuHUyhX9eZdkg3IsBqrZ5HVPWWpvxYdl5gCIbH9eou3jY6cbB5AkSQJEXqMDoAgiXsSTBkCJ2BKHCo4c9h9CeV/bZB11OLWCgwe6yvAMYiUEZjEcGGHaeKQCIBAqA0OSz3TgvQ62+r0upEa5hSP7kVuMN3Dy9On/8LlTg1Pisvf84i/j8v5W167CC2xaGVdxUjKEraHAyqgqo8OEjHCrYvIARJ2WnSwTgweePPOnn7aPPKdbF864obnx2mvf8TYMBlmaNodUVROQuaT0ikiojaceAVEtHghR+GdaMplSyaG0XUeJ2N7kTBa/g5fCEzpxdCoFBMQgDpPDQie3sbXWEETFvHZSxWwd2ha7+G0fev/exd248nKEYPNOEHZKNoAaDXoOHKNcmYyPnO42gQaFEJm83amrIoHF/kMLH/2199z2zmJlbTwu+67Dew9hYQGH55HGdic2oI5MpHQY1sAAzjkRiaHcztv477VnvztrDtmd2xrNa1JiFTJiIcJgLgyyHNo+MHsAG2vnT6x19iz0FvadeelE/dCTx8K/Xf4Xv4OD+7H3yEx3qX12pfpXn0j271371oMLg/Tw1bdj7w0oOLHFpi8ML75aTPatkJeN4YZcHH2IxODNYrL68TZ2LsoA+eY60iDqRT1DQAo2G8NRZo0JwufOI81ReT8qkLYgUcxUoEwkjAmATBe1/kT1UnCcGw4JteEMmxuhKsxcD6fPVPf+7bN/963VE2fz+YW3/fiPY2+/QHF6pJS308BZbVMfVRqZiJk8IV6kDEy6ugiBcOz86asPHlg7derxbz14W5WkZJMsu+rO92JxEXWJtAUJYIgPIGZmmr4Jms605wlXKU57wMW0holTx0BDeXsGhUyyUyD26ze5JMFs97uZmP+INjXVbTeO2+L1HEEtEoOeO3zne5C20E5DqNBKoIGVG+m8JiNgIeY47mT7xtDIAWVCVLeiJIMIVDC7hNv7meOMoxS7hWFYV4IMTBdsBai2CVUCERjnnKpe5MZvoWSyaLOtJ/1JQHxABTcvK1a+GEFBdGywmcJf/6N3Jnfege7CkROnN/7k37946mW5/1uXgXHdTdctX/Hst76Rzm5VLx5tp3ldVrjpZqjBxmZyqKdbw0maTwCrEH1fRE6+G4sfULY/L+04PpruIWA7N45loklgqapBVZq/wFSYQJbShFEbtDPLqMsCi3MwoXaiKgIfWDTqFpBA7FT7K7AINa324+FWnrZMZjDcBHnT7uKVc/Llbz/1R19JCj2w//LL/9NfxVWHsNQdjNb3LS2Uwyr1vl1Jwy8wGDsERuIZQOaFIyvDCkiV/NUHD6+dOjp3y1V3/S//DR568txXvzJ46ehjf/WZG/YepuuvQ1WACTDWWA3iqxqwzWdsXEhUqZHI2J6QPlnS6VcNHhY7JWzzHWJge+Dbzg6+QJZhMflODOEbcqQIEBsC3+B0p63hUK1LSs+tBM6U48EoIV9q5hIXJuMcJjKmCigmuTEw6Tn3k84FKdQzWcNs4VATLHvL4tISwSEt1acwDlaL2poUNaCABSxKwggoAbiLc+O3zoWByCrcGVQLnMIaqUOoEQoOqSUV1NC8ReWBXrjt8t5sJ/nIHbjuSlQJDswP71988ZVnrxmvYrGLL/zZ6vPPtjszC1dehQPzzz3y0JyVY3/xB8tX7cftt9RSj63NvHlVGfEtMaJXf15pYL4dt/FkG8U/LUQCsGrQicXn7nQ68CUFDxWcXdk3M2fzFIN1zLa8CQEhkCoJwTNqUiYIK8cbImaYpDAqzjlIHRyzgtpdrK6u3vPFBz/1uStbe5bf8268/904MI+Ow3jYcik2Rr3AthnDojDwVioXrx3HwmlgJRQuAEKQRLycPDXX6iOv0La44gNL1xzo/v7/++TLZx974MGb3n67P3vWZjmUkCUIvqo8uwTgif8IYJSae0UmuXGznhfvVCVcJDG54/tyMXVJd6gTTFOrMHHmuMjx9bxBkNZpd7MkESq8iO3kvpDZ+YVROZbCT1vMgenTEk0TOaUJShEmhW7ryI4EzMjSxNpZUKUcPDiABBaUbIyGi1nf1BO4jpuu29DMB4eli/bTW2lxSwOYNBpGdggg3qgHQumCMBFzpbK2tbLvyoPX/favo2XBI4wuIJlHO2/P9vfs2nXhxHG8cgoPPsCh2HXjjfit30DfXPkLP/bCP/0Xm2sX0q98Yc/eJbe81E/aVU0TcgRtr8hraBb9QBZkO2S8OG3hiLUVFUajUZqm3W43bl2paxFhssYYZsNkmJxhWw+HYWtAZYXRGC41mwMzHKKukFl24k1VaRlCSeqN1C7UToTQTAwNBFJYgRWMRiMYpl5rM5SwBq+cf+neby5wsvzBd+GX3ofr9iCv0bHIHBfjlnNWAhBgazjvra+tB7xB5aS2obKhIlRbaXWhVRWuZqlZMtz3CNaHGA0wOIurDuUHDnfGsvLKGYTapinSFMzl1tC5VAUAEwwZA7YT+DE0AkjGeO8jalBVYgxCCFDA++2FJEZ0+7qABBAqwaDEqGyKn+yFd4gqVT4kqDkUUQjIEtbX11V1ZmamBpx1eB0joqquxbmQJsNQ+8StDbaqylMThjcA+I5Ehi5qkY0UFRXUXlUISBghsnHZwBtX5606nZGkD9OBXWrNMhhZ0lTAU6hrhh/OwCwAnSRL0/TChQuKOKyWwBwv5x+0GZAx2NjYiIdIwoDE5Cewgcu4Nn5LRxVVSSdpz3fRcdARtEKaoKhgUpxdk5fP0Onztx++HGWN4Xjoi/S912G/OUOvYLl9xXvefmhxaeWFY6gEq4P2+ng2aalSCB5E1PTtwBgD/QFHIqoAkgR5ngM4f/682VFXav4j0vg380Q+rtHFJWsTGzKlQjyCalpLuzuDvI3N09gcmKIyRY3VVezqkMkMOIiH9yK1IbGURK3fQJNZ8HGmoHC73699Xahyp43abx47WZ++cLA3gz27cOpFvPx8qCrt9+z+fVm3g7UNJCmYQSyTK90KnIBUIBwVCZQRWAILVI7+6Z8/+cUv3/zOGw9+6E7sW8Azz/qjL1ErX9yzCwIkDokDghEOSkoMYqJYpCVsVzoR1wSTC4ebftqID9oGvvaoqsrYxBqY2EplDBlkscgZQAbOIgDJpOLDqAneQkTTiENMC05v/DZJWQmeNNCkfWySCrKiaeVjFhKAjeo2FD5F5prQl3gCKMdQOxA7NqioiZyNMTyB4LhJ/2NYbSAJgICOgQOrqojoDyM3xvS9TAswcbwbKZGqhXo1Ijaogb74yKOnPv/5Gw4cmHnPuzCzgNMb+NLXjz/99J59u5PF3RiMCvCmYLy1mafp7tllrG2Oz6yvbYyz/bNoddFJLDgQbe+TNxED+X4WnN7YbAyW472iqtNtREQgKIxF5mwmJpeiMpW01GC9KB564OTnvzD/9PFeq31+a+ul/+v3b/xHvzHevas9s9BN22CPuoAvIz7ttz8Ik8IFZoXUflyVtcva7TYCBJy6bFbN4P/54/Nba8JmAzJI8+vvet/c3R/E7AwAJQYMCbsAB1YCqSDUDWkeyDyciBGAlee77ZmZlb99vPf4KzPddG195egrJ4ZLc7e97aYGeSuroqhh0oRN3u57tcRO2TQwVQzVAACOLSmLD9RcdvHIE3gZq0lSNg65SypABCZ1UFWRUIsSu5TjipZlmaTWeLWWgQCqIDXKYNJuvNOrqgKQJN/F2GzRWBtWjbtJjE7m+jKarJjEaKRsRWC8GZhGxBN5JoYyTRC7+EMDwVBkqJAwTW91ncQRYTIqEgGoOVMkbKZuPLW3sm7svY80nkh4abpZwUTGGGdCyAO5WgGY0+vnH3rmoW88cdlDT89lc2bLPvfEIyMZ3vDu9+HmGzH2uP6G+vTZF/7iq9ceO2/mOtX61rGHjvp0Ztf1N2NxBp3xhWLUSZgRD8DvwDp/mDYZu+6b29i5qEtkEDtqiQGTmJY3tYKCL02eIU+l1To1Hq6PNve021u5OT7YOOBrEumbFC4DVRAPEhjjw+T+0UY0lxRGiDjptNwG6+rG5qKA+71s356z59aytBVMv5V3ah8Gdb1Z1nNlDUNqqG7q+lHOXxqKxUSvmoB2FftyRZgO//xPt9mduOcrr6xunj1bnB2s9m6+6s5f+CkcuULrGmAfQhXIGK6ErDPWpESO2DV+ClalhrBqrQH5uibAxB1KhCCwVqumAbCqm7pURpYJFsgNB2DsdcRkGcHmBrC2hh9BKzABBOMwgViLoiAyWfYm7awkSkBUm4mPR6JGQKBmRViiGzeDSOFZ4/wkVRgm4W1cvZnjNJEuDsQqzgCsfBEiP4XFGqAukvIZnjFFqjXWRGIYw/yDzpWnbLpYYUnTtAkHCLGMCrbEGQtcRQiCdufQdTe277rr5MOPPPbU036tuHL+ivb84mW33WDe9XbMz6Lw2fveedCPX/ryAw/f+3BJPpnt5Af3L916y9J734UkHdajcTBdk7AYBTfz4t7cfrAyA9Ga27iuQUQq6pybQjnTP8NInW2JgWcMat9J6tat19958Hdw5jzKcv9894bl/UNf+k4fphsqGYzHtZQmoyxLwxhGxInQpBrQpHDjmrPUejXqkvl+8oEfvXbPMrbG2NVHnkBpr+jVhtHJkKeV0XFdAZpIrSKGhSZMEk8OYOcj8QMA1HJtMK6HS79y98xN17zy6BPdgKt278Jlu7Ewq143R8NuZ8ZlOSem8DKug1TF7FwfnBCmtzFPl8CZhBRS+4bhEd+N90hsmplGRpgaTuZK1LuczAUaC40tFBgrloA5ELREPUbShun61MVTQBRFUQDtN3ZjVlBDAtNI4VVVG+cEEymhMlBSqBDUiABRx1lAjUi4grgZy85Q4tCcJww4BJB6SwG0E41twHgAkAiOlWBPMAk2AUlt48Y6QarfkqB6Oquxqqroxs1TEgAHOOKUoOpISFhr+IA9iwsfeO/sdctzL58sLxSHZ5fdzAyu248WlVtbyiG7bvf8wk/MX/dunBucHV3A7oyv6XQP7Mfs7npYCDqzWd9yG+SAOIj5+6Ry8ve25jZu3FgnbkwTLU1CDKPI5iZhUgsj636ghmb3LGKuj811SFWPtqqZWWMy9hZeLKW1odopjBErqUcawFARBJpAfDZFoNSy2GxzPGrXtZlJsdhBZqXXLcalJ+31Zmtfr69vMnOSWACBSEy82CMATp4ZaojZSFM3pgBice18rSywb2n5yp+Cy7C6otWY2l0/LKSWUtUEcWkWfOWSTJGwTUCJkgVIlYhAkylNibEG5KsaAE/TRQCEcS3GMQPGoga+8uipMzp7+82tFAgSai+UuBXgkeN49qnTbzvY+8gVrs1xIJkZww2ASGEXQVmWRJ0se7NCpCgDJoa7oqQwChJVS57UcwQO1CiiJwdVQJRkgq6xw2REpnKEKohgYw+vUYFTTDjXMXoCLAlN9sq0VBavaJs09I9JKeMtMhGJEEVd1wCSJGmqIQ3UlzHVFsSGWSsEFMMB0TjJrLn68kM3Xw2xqNuoauyZqTcuVJWkqQ2tylw2h8VbUJhdUiIbVrNbpWUMaDzSpNXOswXAgYiUFSSyc7LSdz7gW7cWUzeOyOLO3Lj5vgcxGzYgh9SyujBczzqdMrXnR+c7mxs5E9qdgni8VWWmgk9BSdt0M1ttalV5IeIQwz2ZjDUEoIyq1gCLpNvtDF21YbS11EpVqRQuhyS1Fxmtq/G86B3yPkaltxhbLq0ASAJyr04BkUDwxMEhYVgBBbgKVAUBCjIvr1zo53m31aFgsDo2nSxtGx9C4bWfdhTcmZkF53H6IE1V9yehkCoMMwEagsbGxOjDSQKgrmt2aWy+PXF6408/e+/TcuCFwXs+dpM90jWcmC3gnifwJ/e+sLlydlweeMfepXYvQVBwvgYMgTRKeMs0N36TF8YRxAEgalQZQGjK3UISGIFgFCbAKEjN5CoWhUzSmgmFULmBdgmkAVxDKGEJYKNAEPig4r2KIiRZC4pmFMsE/C4ZjgwaKR806/WW5Io6KcpNc2MA0ObjE5xBloBsVNerQtbpQxWUIwFyB3IYWaiiGDskJumyzcZh3VdVKwyNscgcPPGKcZyEOs/Trslt0xaokwfQt4au9uZmoR6wBVAZNpVPSAgMtbF8UgsIwcThEsYida12J9SbG0HILVC7HRAktTbNuA4+cFFS6gMZ9tZ6ocqE1BhV8RALqIoAQgywnWlTUYxCNRqOC+dNkgqZ9Y3NXVm73irF2iRzJXPCLqUUYwVSFVuDfYT4YysIvIgXE0hYCYWBJeSBILCdttu6wJ3U5WpU60AimnY7m/XA5T3xMEKcLXK5BW43hBIigFRjBEoQmDgWZ0ddXQBlNDNDGP1WGoCiCu3EXLa3f/2N1z3+lP77v/nG4ET2W790W9fgnkfrv7jvxIbndrfT7bZb3QzkwQpKASSRhAGUhELZwecXNeU2LfJxgGsAK7QymvlgC496ouKsDGbKXAZbGlYiI2pUlIRIbBCILxvNDgAcoEaBukQ9RFUxAOuQ8CSUhgkVxgXGQ1QlhbFDBWXM7QNyUArDMD5WBXJCCibRoCHEJSFWKE/6YLeNRMCNwOSOlpKpy0/7N6dtYQYgsE6zmwiYN5oEUCGNSpmqAJxpxj3EjNWogaaWiJVAHlSBCLaDzELHVeUl1FQpERK2SKwf1GUV0OZKTY3QTZ1jgHNbW+s6gXumP48kTOINnjzQG8yqYn4LL2SbGt0CXhliM2iL0YOKAJSCBMQuCmxAgATs4By4NnZmFjOMYDNFCKR+zJ46boQy6ecORreKhOxCOx+HOrMgCAlDiZpWZAEHGEUvMOoMmkESpbQgzCiIk5YmCEjDigkFqB0sgoN1zEkHDmCrxAKIgryxJSGgJgBwDACeIUBdp/1WMGgZA7UgQl+EtAUIOIE1sAB3+3NxIbRpfBOOaKcQAixPlJ0hAnigMs1tlBpnNKCUxHGiNUJFxr3/PW+799xRnu3ef+o4f106s3zPvc8PAy9kfPfNl//krZ22hfewtlMCNqBlEPuVj57BVu3me+mutOlJ367SsVgJrPCU1awbYeNAnuHkGj73hfHxF44995wvhJf27PvA+2d++ifTdq5MtHYhaafS0vWVlRn04esKWgAZhEEe1kjAYBWnj+Iv/uhTf/6pq37lP7n+t/85Qg82GxYbbaM48Tzu+fNnv/r5rZWTm7LR3bd8212/Tu/7WRy4CiplEgh1Uud+gH3z8y1nT587y4Qh0GW2ymjk0FCLhwnOuubmBM7VKE2jnhpps3GzByDUmHewgAnoGqRx0dkwJvOZCaA4iRrOtYaKgrBRFFKV/Vbm4rjBaARQYsBEDvMZ5vqDlVMQhjdMLWVPCuMI8KEcE9RmCZEJUGeY2IpiWJRMlmzLmsxkCdhPeOkTdMfSq7OIHf/Pr/ri+2BTmlCMRWJmgajeLnAVw5MlFFYDNY/rAZEm6p4ohRODnCIYmKaJlcAIPaeCqoAEmBKm1Z1FMADnJoeUIAnkQExx8ooKxAcZ1wnVsApYWEvUjLB2FlCEClwDQSAwDDXCpkICOBMF72ONlCj23rOioflGmhoBtg2Spju3jgVVVVCAKJhjM/8UbGzwN4nObLabVyBA0ChNyZj0/RMwHGwsdrrGMSpB8DDECLu79uM/e/l/+3vPmM7yZ58dDkfF0sw+efHhD7/j1rtv7VzeBgHVZCZel30CC61LchVD4Kz6RLY7VJWmOXhD5RbC0vwCTp1Y/Xd/tP71+02flg/sGlwYvrJ65tSX7/PqFn7yx9x836Q56roaV620hSJ+LlKwAWzsqVLg5LEXf/d/Xjz5xNv7nKFCVcDOAGhnLayc2PjkH5760ucc10cO7+Zs6dip889+7tNHqtT8+jLS1EMESIwk+XQAfYN+RWbIFFhxzsWjWyA+8LrHJ/70/qHpNZcxUyAGGSEOXh0hCSWNt/a0+Zc/8s49HTiGxDljOnnjzY0d528jNMEdjMp25Wx73ezUj2ynS+qhdZASUqv4Sj0UiTEED/UK4WAVrGQUTGmm5MikwSRkEsM80YD47t3y+w9Qv14M/9qDUV/XFJCmI6qBJasaIQBmxtIMZYji7kIICkYsrwIiLDHiMoBRhlpj2gYKSAmpQYDJmI1lX3urUeXJJDkYhDEjGM5TY2wzq5pAkapMgSUG/Ihvj8CB4hRHOy6HLKGVZmQJVYCQSTgFlJiEG8HVJkpiYtkZ6VFTgQFo0kJoTJOXEgjI0wnRyjFcByaU4AAc6uEf/+bV//z/PJ8tdGd63a0zj378H+z/nff2OpOBF2QzQBKUiVYgFjU7RGHexIxKsbmy8vQzZ58/urRr9/7f+ACO7M9XN/rfevbpT/3tmT/77MKRw+amq9BtlaPajI1L2rAe1hESB5PE9gYAah6/7/5nn3nu7WFc+eBXNxfVQS0EGIfhtx9+/N7P96xc+dGP21tvRrd93Re/8rV//Yf6pc9c8+M/gQP724kdQGouCm6FNygt0UX7rqqqCz752kvlimMmAsQQpOlCkWKw1ctSDNbTMNjfs+8LyAALdC95j77aGOCs3YNWCFWora/HXhkeKqLsJl7PQlZhoUZgs6wLskQG7IiTiRqw+UE45yXZtA9kp126Gwf4YTHk0O50rCWQQa0QQR0QPFIXiYxFVVq0rI2Uq+jyFGJiGZESYaCZCBBzjmAAA+McBKgE5NqR+hUhSHFkJu0GFK+ASH/iOPrVKLEHadNXHxjGpBLKwEaglFlX1PDcXNbxdJem5hwpxlEcKG4rEJiaRM57UdWmETiosURAHsfTNJc5Rp7HjgRoAZ/61JnZhV0XBr7KZbHb/thHrhiM0G81DLD4A6uqTFgucRwWkoA08PkXTmJY2b278M63S3GWdx9ObHr4wRePPX00PPmYObIXLcfWkqSgpDIVTGLQsEwnB5XdfeWRG/7hb+NLn374mw/saXcBhioEqIqXH380VKPr73wf/+wvoz+HIPz+/tX3PfrK0eP49t9h6SeQtp1hgZT4zqaRNzBjTEb46E/eecE1RyEAmjBM8gw5w1TgMVq+ONhHFtlpl7ZCry7S8kSs04ASWDLKDMNUBZMgeDuRpSOwEis5qFFik/UxrT6S1Uii/iECWq91EU/9+dLduIZ1rVYbJWEMMbbOtSQllEVEc41tK0zWaTdOoIDGsKrhACVxNWrAwFCDFyhQB9RBXMLJhG3OYogZxBHu2D72SRVKCAKqYD0oABkhrZuJVGRgHSxb5LYCNiECn7BvB3GcQBi6YzqdTpw58pfAMT70k7m3sffLGUsAizdwgCd4X3ibdAEMhkCXamAV+Fd/deF8ob208rpJg1pb7r/7g2f+x1+/eg1IwflE/SVw4pkMjNIl0I9TD1C6uFZubVXEDnlbKcd8BwcX3XIvvKLnzr64RypsbpHL66yzLgEmTdmlah1NeyIAwuKP3IHh4fJrf+0T19+zGwYIFYzD6PzG8ecp79iqAAAgAElEQVR4psfX34rWbtg+dIz9y7vf/o6Xjh976dt/d/hD74NGzD59EwxH4EMNK4YNgDQxexS/eWOzqjurVvG5CqAXga4qmwcSrUBaNfoKl2Cvui4JE9QWSjCG2DmbugiqqzbSKDCxCTwyhhElFaeqKTR56B8qNP16Hd2XHiEQ4BAo6r8WHiU5wATkDu1MErPux9VEmQo+/ggzKcECaEYYNilgAJXgUpIytEPd5qDFllYjaAUTCJNpBRP6KjUAJlHM9icLT1Mwc9oTGFkShIBQYKTwM4l1zm4fBt/xPmIH1uT018neUqDyAaqJMwZgCabRfA6RcagE20IAjm/hP3zmmW8+/FQny+T04//k5xZvW+6zyKOnx5/4QvGCYNA8f2URMmuF0xpWL+kVKDAs+v15VeJS8NRJgz6eO4+Hny5OnyUEkzEyg2LkvQgoqK0NB+YkEO2cnMuABVJeLcdo5+cGG6gH6FhwhVPHyrVznCXYvTuWw0owjEXLDaXcWDsDqRHGtS84qua9Aa9YISI72yQSAldIK2Q1Mo8kIFWkjaIl7AgtoAvMOaViA6NV6PhS8d5XPQ03G0gUniAWSMAZbBuug6QD10fSR9KH6yHpwnVgO+Ra0CYNbjieOvnih23fj6AagAcMtiBb2OwBXQBVjXEBUfQ7Smll6iBFi3MSmigTbAeTiF7G21uKCawBoUIVQD5FDRPrBgRKQBaU1MbGgqXVidIVNXKtiSCJmJs0R0xk/XoLDwBS6XCGqAPF2GNUotuD2cZAtmlKiJ4cJkikYCJ0ETei4+jGtYER1ABMmkIxrsEpRsBf33v/vfc9mc9cbzdf/j/+89v2dbEP7d/71AbNHf7zB0/15y//6Rsxb0F+BGZiF4cn20tx48pyMtPC9VfNLS+ffuwZ/y9/d8/yXpw/V5850w2+FfzSZVcgtbWISRNbKYEGDFYgKAiI/FoFGBVp4ri7a8mePbsy3jjkQnCVCWP4YcvxoB5jtgfvUXkZbsKMx9VWQdXc0gJI4IVtbuEy7FAherURrLWwE7BQMfAYJo30ACZrPz14qxY2m24wmsv6QAsQ+Z5y0Yu2eXOjmulpP82jJnI8uIjGEQGRENPBye6Y/Iv8qvP/h2jfa1BNiMgDQdugBXgUFR55+uh93yz77Ws/+GPJ/v0dykFuChMiAMpT5Df+qoyi1CwlIiCUGFzAS0fl6ItbK+e7i3PDshiWZemczi90Di7PLF9lO/046NCGSf3QmACDSVHX6MSHCWAEjgiYB8bturTMGHs8/uyzDzx01W/+x+JsnCESo+htFv8EX91ZwESsGCvHETKNJpcGrUpKnAqqEkmKhx8799DDTy7223NL/HMfvOGWLizwowdRfeTm37/3xFj9V7/yyO1LN9+0H4BCCsAzpXKJmlWeWaqQXXHZ8i986NHR2rnVM/Ltk/u45ZIMvvAuxRVHYGzdtq1uF5sealiFVRrxAhYPcmoQe6S9v7C6Nlzb2NNqo5Vs1uuzWY6Z+V6vt3nscbQIMsA45KkDypTK1IbdB/eDHbSVmnk0A6Jf3xjMZkoHKct6o3K/95fPD3mGISBPFH8liTrU4kMx6Dn0bf1zH769a5xtRAq+W3vdh1EG0yRzjk9kpr+lk98hbdBNBbyocsPRnjL3/n/owNEsQmADYyAiGkKjzPh6RyyjFgjDQeYRMBjj+RNnP/H75dmVC0v9sO+QWdjdylwARmVp0rQspWUZClbsnH9cA8ipgliURrZAg2fv+eTLX/xSb1iEQUUuGTCF2dmXfPWB3/zPFnbvQauVwG136zJALOwqaE0xgYYC3kEaMFEIIUdFVYGNTdQGX//WU3/4R0+snO3ceFXvHbfm+VwAD6s6S10cdDyBfwiqNJH/bcD4ojBEke7nnKt97ayBSxCECJ0OSsXevUt33333iePP/8r7bz48CwBjwQzjp65EO+z9q89/ZaY/N9sMHDAoLyBNnUksUmKqAGYYYyIXioEwYbx9p6kB58gD7rzhpnf8l5sP3Ze89DLGKb75+DMn1w7f9WH0+trteeFz4/WusGVjACceFGBrD1/BODJQ74iwOd7fnhuo2591MCpne20AyGeHY9mLAl/9NH5mL0wfgwo20LkTPFxNluZRO2RLAfCFrFe8vr4pIlmWxVJTQHjNMDtoIDKU4uuPHbvgFhk+DkWMVBuQjMpi7+LiaGNVi819s9nBG3DzIbSB9uu7cXxxIYQQQiO3EDswX/NP0ySR+47I2O4IEifuKohV5eZ/3xJa2puYVJUmmWVsbm4Oh8PFxUXZ0Z55abexEjaKsutSiyGNN3BuBZ/84/DUk5fPLT125pwZjjAa+xBs2+VpGoBSfIsSAKSTn9Q0zjURLxAM1yg29+WamHqxazsf+RDqAAfMzaDdw113YM4OsZnyfNMfp9OljSxGWPgEDMCDZVrv8ltkGRA4h28/9OQf/JszR5/7+V/7Vb7hSuRpgAeIUlMBReVtCLN5ang7wotxd4zDVJVImeKUQIrC4nH+o9RgC2twcAHdhd24ffcySiObyp0gYOKccOd+3nfXtfnM7ssXwUAN59J+DE1LP85eaxLl675LYpe3z66fnplJHXHv9htx7dX45BePb1xwly3nV1+DfZfVmo0GWwmRS9RXY8POagB5UB0gGrd6ALxH0ueKZk0rLQmeMRii1cPC3oXDR9af+hs8/jDefQL7roZRvPD0Iw8/mM7N4MBB9GbhAEGacCsOf4mKdm/28ESUKD7+0+8fGp7qOkWNFCEMxtrrUTVChrpj5PCBJrS6RJNJIPUGzzH5QrcrzNNvoIm2G6aZ7vj64oDyrbZ4/SoaZZhX3caX9G8p2i3LMmxThfEATzz8xJc+c9glMl6jhJBbpNYaVmil3pJt5UkcrgBsV/CJEVOqClXQUWoUTpJq1EfZufpKfPzD2FxDN8fMLFyODp/l1Rp7LMoWpz3XHAAQWAMCJ/AUFIWA0M7gWQhqImBdlZASJ4/e84n/qVUXt/zce/ljdyEjhNKQlFImtueBLLEGNkxqz9MXO82lNGw3pius8ISrCTDga5DCOiSx2b4hD8r/196bBktyXfl9v3PuvZmVVa/e1ju6sW8EQBJcAHBfRkNSs1DiiGNZIYkaUbLC4y/zQR8c9gdPhL/ZEXZ4wo6wFFJ4HGHLHpuhWSmas9AcDme4DJcBAYIEiJXEDnSj+61Vlctd/OFm1nvdwHAITlNAWH0C0f26UK8yK/OePOee8z///9haASVePw3X33HcowHaSGsqlUrBK8bmIt6PalF4YX/n2MbRMu3BlG8/uPWp3z53/xM62bzp3e/jplspNoq621ioddHYrg1NLyCuAYkpFzZSpIP9wDe+s/XwM9tPvqRf+86JWx/mzjuwitFjb7pz695rv3X/gzf+1u+t3n0+nd95+Ntff3J3//b3fpBb3ogb+7xqPFND6qKIGPOXMHkeMlVdDXziLRnE3QfFIH1HoEFySXSMS4mxYCJWl0XOV2UX/8rLz+xwZaQfltJD7sryz0PhOR2adngNPPmwG7+8yvWqS1yVEULg7It0e1/91//j8bKdvOPOc9/6tpQrpDoHm0jsQiitNZdmOT4DSDIETDBGHDHQha3drQsXXpw87Z78r3/1L86+4FZWTp65+r0f+DDvf9/Gic3ztEoHLmXgQA6LF1HyZ3RfZIjzxsCLZ5lMvvov//VkUb/p1ms3P/n38DO2L7BR4Bgn29K1iFIsA/zwxNHcB8t7vxi8Isa4mJmfhUgMi7qwEyw2geIjVlFY4EaKoLnElnxH7LBGm70gTuwEK7P+zlDCqyrhSGJkrVk0PPaDP/iffq144onrj2zsHzt6+0/9FH/jvUw32dmnKMqiIi260CYzPJMGfgDJ3y7q//vrv/HkZ3/7I6VbPXPtI48+/fD/8Zvvv/ZGVpUUy7vvesNLf+drv/c7X/z9P3V/ev/M1+fr7bs/+NO3/NzH2TwZrLapL1KYiO+6S91YLk1DE5kFLqMrIHkIg3oOYAPOD7+k4ATparqawnpb/nhVrh96HYfTOnDNw9576bsV4lABe822x5mC5hIKwcFepRtHiB2zfdru0f/+vwuzs6MTK/yzj57/r7656OZ0u9QzRP24Ku3IxEgn4iRX/Ei+n0RNmIhExrZ0OJqOYhrXNvdXVh587oVuR+/cvNlivv9H33v6geZquar4maNHdNeNJ5EgaRj4FRRaWKDOxNFIgVaZQU0o0VE9G68f5Y+/XH3v+TOtPdrq/n/7a9ujYnrLnWt33sXb7qaQIvkOiWJn3aJ0k/hKUh0ChCgiarMCSS5fS1lND8RGI5XpGa1m0OHKELVbBIxxRbKVJB9DU1bWGJnDDFqoAl1g/a8aaTpsJsVjZcGF3a/8r/92dVduvuf9+yu84cPvGr3lTdipn8e0WNjoY6XeSCc2JiHZiDGZpQjV/BWFD/2df/DF558f6d6qGuc29NqbOHU11qRUy4nj7m//w7tXz5z/xuOzCxfsVIvrTpx43/u5857WrO/GONHgLMwcxcGA0cucF4CU8mCwSE+YMUsgVrCZeIiUogzljqy5kZIkj3psRLy8yqYx8EOi5UVneOCRr1iI0MNvPFTMe41QXKp5Tu2Al5uL6OZfjSWoF9RN928+1T708DXT6vR/+gnYiuM4nkVUEYtxnk7IYKyALfvBFAloJCrRAWWgazGV4tboFo/v7O+NRjdce+Ot7/xZbnkLtrjlM3/0+O99ni/cx11vLq4+AlHxqIGehlIiov1+uDQqEQMFzCEQx9UKW/s89JR/5my5Uf3g0Ye+L9u7zugDT5z+7hNvaxN334MpJq5qiK2RHr4lBxumODycQ+hExKiLZKVDElIupVsS1LWnY1w4W+bNe5ckBSkKq8YCmoxMJoj2sLHEVBgbYuj01eD7TAoXnn5i8+Tpd/+zf8p993Pm+LE33hBWuVCa0PnpeDyS1CwWdR3damXduG26FF3K5V7JfTzbr8pjpz7wq79KPEfyx+uK0ZRRiZPapEoT6yfKj/ziVW/37M9ZgbUxkwqzugtJ1bAQEiZ1pmh9q6p5vvXSWJZIpByKcxcvS133Zci+sddHuUWXCpeZUMRK5ta2dP5ViiDxI1zMS/a6P+RDDjb8r5Ma9SV08z+2G0cE/uxLT3/hy5vnd0695RhbZ3nwa1LvHdmH+x6hOsPd91i6UAaSweT9Zkx0gu8nZROkoZHggZJWFysb7uZbTr//vXz8E6QROw3lSnHvY8+/eO7U/j6y6YkNUYhWNfO5ESkkjzapRPAYz8RmikSlU/b9S/c/cubE6W49XPfxj157Stq6e+RTX33pO488e/zPT99+J+UY460qvrto0lcuKn7kKg5GsxunLNCakl1WNgt1qs7i6VIXsaW3Eu0KYIjEBSmhLgSNBgMbiRJP3MdE0iQPLf4oJsTNI1NsyzH4hfdTTZnNjKnGbdeGVmwINlBGY0VFCEIagSU5xJCsSowYr9g8bTCtWHisMCpZWT9vUsI5tbFbTNpEMebEKsch+r4pFzXLTVoEQufmCy3a1PByJsDh2qXUzx/n1WaGfEd7d87jDTaAiHQRlBAZO4u3xlTez+Or9ON+B3mR20UuisNxKGLlM7nUmV+BRmz5iryWDp0BTxfR6x9MOCUdwoEGCi+mZ21N/aVPELD9qFAKxPTlL/95s7Nz1WTy4uPfl19/uI7dsdXj+1t79/7up/1jT95z8w3l+tUt4D0hYw4yBZklQRyoQP3AExkiK9MP/2e/wvaznDrKiIamDHDNiefbRfdCfaqFVID6AVXTr4YIiVHOufxA6z6Qc2Ue5Vj72by58Zc/wU/dKid9OVu86aXqz//Vp555/HunuzrPuKcYSzfulRiHtuGSQa4l5wC+lC7jeAQkJmsMwRMafCRFnJKSFY+NYMIw5+O9tynkp3/TelMZC0VsiDXakcAcUDzHAUyhKUkyRdAAQ70UG6PGhKSwddZcdWo+b9p6b2VlZXtrq1Rd3dxodi4sunayOi3Ho6Zt2yaouJTXsAbkgI43KTK1pMT6SYhta+a+SWaSDzRyJRGiLuq5uPGotPhEinERphOTYG9vd206riU00AIqqjZf9uVmvEf4DHpYulSPj1GIknLiE1PG4oodWfyQBAXwibFiq3Gbty55ene5pSL6YXSZZGzERm/B0GUdyYNIKxyCqOQHRxoIRbtD4IDXh/W9OrU9LtgekgNUTaSAROeCuiw31k/mYUmuSNiIEdeo2+3Y8YwtRRcgBbFhYGa1NNAh7j3/4Jf+7Nj06e1njk3xZ5+90ZUvPPz4rovXvP2OM7/wUTbNAEYuMT0nA94dNIokIwEJgu/qUhaIZ1QxPUVdx5XzTbcozSb33TuX9oYb3ohZ56VgT5SK7Zbt56Fn1T+rc4XEQsmCWEAZPHW7fvTYhe8/xosvkW6HyGTCzdcXpT745GPvmFjqXUonZpLR3nHoZ81a1FIqc3ixwUyOmebZcdr1EZQC6GqMoyektHmbgLCc1nCDVqWxBUkhIWZcaQbpYx3JwAjwaIKVKSISktuaxZBHWVulc0UIHh8UA7bzJME5M1lnuxkLWsgizkZrRekTO7tlsmVhow/1fBYRl7XrU2tkgRkFQsAKweKG8OIIa0gqnCkESIkQ6UyCriRpNQUTSZmwyyqm6EC9nY5rsDpNIGW18GHkCh8ZQakGIip5nF4RzY/vwTTPwA3BUAbF8zhMC+fhGjckKKYfaVSkhxKhEQkNpoYGUhqt6KxodjV0YhY5YyMGrDuInLL8lOXGKB4ACS/JSV8eb/99RuAsHpTpEBV6jH8iqVUKZXEhjYLdKEdNZGpMIvb11CS4xLiw6tzKCmOLS9DNUaxxgpl1qMOmQApIwe1vet9tZxgnuhm7uzz13Ox//peh2j9z9z3ceTuTTDXgKEoSyRCzJPeyj66gLGIwJhUuYISt/Rf/9E8ns3rlg3drq6uUPP3C81//i3kK0zMnmaxRrZIsgxJ0AGOGlbDEdSoU1EIDwMQZpitmbWVrf85z54klyREDz52dhXDtbbdiYHWMNZoxnommJtkM2otO1RALtINkR2vj4uhK5ZQuNJUpSzuwBxASGhV6bHT/lLkoEZSDVTK8npHgOf4nciInMYiJMoSOmNHn5JCsYCWRUmsETOHJoJo4dF+hvw5BJAgJXFDpFY9jxIOTXMsZJK9ylbj/IUGMIhi1CDglRUxHn5wV/coPkKwxVU5NFSIpCorajPBJETRJH+8OvnlSlQPXuSQGyisVF/NVyIWQtBTPSnlnF2c0C1YaUClL50bOFnlN+JpgM3cq1iYxuRwt/QF0OHo8tIBeN5bvo+aJVhC8ZNYK74w2aBvxiJCMdKJEfJ6Nt1gnBgLUe/ios1AEI6nB1ATvklq3VueSvxgkoJbFnLUpUrPYpVplLT6xXdcddx4/zdpxtPLYiDNCSrngRGkp+knFfmPk1AiRLoAy7x765gOPfeXrH/jqvTdffZyYXnro8e8+9Pjpm27bePc7OLLCyPhhwilCB0mxZV8cVpgYSLTKYkiVZm09mRTmLW9e++ZfPHLfQ7f8xme47Vjb1vf9X59daPWRD/0ctgIlBkntSAsi4wKUJLHSDrwhtKwaZX8x39nbbbpWQE0RwfRs/S/fRb3qJueQcx5YyKm7gtJCm6VnEsYQDY1RSVooJCKqKQah01gYMLG1NEZbo5KwoiZpEKMYlyxiDIZe97x3nXYoARjBqpK0ySdQesPcERO0lCCFDo+oAHNnBFPsl6aIoQU0D4AetLcuY/ySi/4eEvWKIqd8ddfO6m6/SbMgq8ZR2iHAKr2arR56Rmj/9Zf759dJ8aq3iGThHUXNAm1JHg/R0bXYHcvC1Z2ro20BCHn8y/aulJKR4DS65E0yQ8Jqs6ZTv2hFCRFjmEywARQ7xlgmsnrTHYuz59i8CjNpmtCOjMEWwyO5P0HByKXVo36edOPo3e95X3tu+/uPP7nz9QdM024rR2+79c5f/Cj3vJnKYgWkPLTaE+QF14CBUgZwdT9sEBujE7W88223P/vkNz/3h5/5nc/OPi/BatnYN3/gA3zwAxQO1UVbV6OS5GkjCZyKBiMRSUSKzGAU4xLuVzdt6YoUozUWiX+58OGPZBd3MvqrlLJusILioRu6Ws6QEp2iiaiqPeW8geQltib2mbjiRQ1EUYMJYmwWRu2JAezywK0cMGMBRpBEEWgNNcn3yadtsIoWyzNmiBVOGeZGtG+A/HUuxiuaHvxwsGgSCSt9lbQoCletaLWSjNRMhiJUbvbGFKMmVK2Rw59w6E9eX56c8mXXmEiRIpGVvFPuiiVPTJ1oEDtIfOY133Xei0WiMaKJDnYbCtEiKDE2FrE0Ic/3C+WIJviUaVC1nB6j9ayM3/6xv7/Y2+dN92CKRdf65EqhjRTDY9CmIYsZ0oYICbWuBE80k/e99yOnz2zf+632qadiDNfdePXG3W/lphtweWTJ2DAwV9DDpj20xGLpuoFCcIpARHVUEYVjE/6jn7/ruhMvPvnYVr07C93tb7unuuMOjm1gqcW1xhowwRtTEKFNBCFLKyQpK/a26XxblmVVVRHUWlXpOQZR0IjqAEf5MfK0w5PxWdcml9asguBNzzIWoVMkoglJGYUimlSiRhMV6RQgaMzwRklKym/XhCVYxBIdw+BnVl88zCAfwCakplTKCo8T1GPBCVg6Msut9qEumXEDPgBkJP5PhiZSL81wEiR8bJMpso5RMraJxU6kVMega5HXjWouUsRLHjFpgGi96n7WT9ISdKiCTUmSKXui1lJwDm0jowVFk4porOT58dL2xZbKekGEGL3HhrJMExoqQmVMP9XtCrpI2XfojU+pIWP4ywIRN+LNd1e+w5UYY+xIMAHajqLIFdvY73GWILj+jGNCAinM9quVKTdfvz4ZMf0wseHoGs7WmIArUeuFMNQXD/qsMf/YY617MnWmFi/aROMl2LHj1AY/8zdOxPeeSJGuo5rizGyxZ1bXG2xDV2Kc1TQPYh0KYvrR/o7GsLZBVbiurReLhUK57KykPmM7ZPHHiEcHwuYDd+HyOh2GQ2WwhIlYHyBK0iimHx1LikRNCNGEaBLgJdmM9Bg+/2KmhKFEWw7PnUNQiP7SihYJBKnwmlsLPY7J5pSqFSL4cCAECSx5oi+/ySF3ToxEWojQNIum814dw/drgUQBE8FBFxNdUxS5pWEhE/sehOTXTzCOaM4DbS6NROMETVFSR1ITnfGYsHCkQpyCDtgYS4b2GFFX+DjaUZ6DfZgYcsV5f87xMYXiu86mzkeCUcXlZkyyjKIheewou9vSVHqVFlIcCiIHT9WOGIgglmK0eZTkEeXq07iIruwj23QFbgVrk2EWMv44P2ODYZiBjy6Tey0bRIDHGqwrg3hvQjTJp2asiivpSmol6biYNljFklIjIqgZa4A57HTkUq4URNhpMBpHzqboGbgE9vfqtenoZe2KV4GOzpaGslGk1149GL/J3fVA1nQqI6VHu0TqckoctUio9tKzycXWxkDwqBaFdoJJxB5kEeFQBq8gSIyFdKQs3mVRg9hgoPIJPDag0DmaER0JxAYRQ5Ok69QNXIvEqMBFbsxl9eSU6fOiIQ4qCFm2RiyUULikVtrEft9PIYEPiPY7FKvSeF8UFvFD5cT0adTlO83LZ8t6X5uMj8RErXQKsauCrKFbqsEOwp/5K9jYtjIqRk6UcO7cua994+lHHir2t188tTbxza4TKtN98u/eU4J1jqa1IwN2AR0+YZ1aSlIwUmoaWI8CmBSqMjcL4rAFzotJc0Zt0KHzHvqY2tQUtq5nOp4EjMWVjCzGX9i3ZtJHq0wJAImoQzQegMnD0zgOV0NlYYBSK7dPWxCLoqQziJWCerFfVGUlzg077ee2+fJ3nvjG9554aR4bb5ydHDlypKu3H3no2+PSHd9cF2iadlwWaytLiZZLVsIrAjp/mPWnrMtS7AAxSBBxsXeKUURbaD2hQRIjVdEomsWibfLWd/iOziMUqchCsrGHA3vUD+yfOchHQkNsCKGvARmHyx3VkO/WiGhY4GcsFmCpVoztebUTNZQmOSd9V/ugpnV5o3HqZ4AREqkf/41KShp8qZRQFWl359z9999fuTPbF54vinXfhEmRrrtq884bT1932lmTlckiQ7O671djIpi/PmPf5bO+ewEkE6gW0EJkolDCXNkTFjIKNEakgKJHBWJFLbBSyo1njj765AN/9JnfVNVCGbsYm9nIsVakX/r4PZLbWM5CErwbktkIXjBj5dBmw/aSZR5NSxk+lvnaAOEYYLRCMETBTQhpRElD4VhTl4MOK6tLsTAczdAh7ts1Sitg8wb6kIJwxIhZwbR9u2Fk8ynmhkpiWq37Q8+zCEfW+fp99/7m5/6kK1ajqdamx0M9P7XqXvjBo2+68ZY773iDgXFZkGhbimK5O5AoS9rYV2fLJk4Y5vVYPo0jzJvU1dP1is6zO2P9FN0e937thYcfPPlPPkFZhroJYp01ZeHY32FlygPfmT/04Pj2W+QNN9mqrBdzoyMhIAH1HucRJRXS0C5oF9QdD3ynazr39rs4smnU2Zynec9iiwtP8vhDnN3m9A0cOcUNtyCCSYVFaEligk3d3Hu/urpK3hsbc9mz1KE4EHswb1+syu143vn2Ox5+9Nnvfvub5569d+vCi5ubZ+b7s/2tF244c/Sm//xXnF0XsEVB6v6Kw7wOLM/z1ovOjlyj/OqvffGBp/Zq3VBxI+k2jqy/sDs7Oz+xO3v25huPjfodLwjWqwLXnuIXfvpdp0+d3G38/v6+iLTzfWeiS+16ZcOMUNHErjAq2i99dwicivT7OOlXoTdDWAwDFY70OW/UPnQOoJ+0LCEqKfYppsAwBnUwMWj6IUXN9dYA9PfUQ0cU1UKx5qB0I4lClJyXBYi6/LRlDztvL/Z3uzB2b7zlTB3fLX1VcisAABNnSURBVOONQOko69m+jfXbbzz9/re/4y23FjYnBFkIcTjCxTcivtqeUx8dLv4Yzd9uMq3qcXv+6UIMm8d46oX9P/mTZ/7g3z278/zJ993FrbeXbmrUdKGhrplO0qc//dQXvvSdhx868cF33XXiE1jnjAnJCx6JiZR1Li2+oCMueOyRrd//wy/84eeOv+GO954+xfpYjMYLjcaEizz24Nf/939x7htfv6mcihnrG++64W/+vH7wfeJMIAJGOxX7StjFn4SFkHeMvRiDYgoDFbzljTe+9OH3bO/sj1y9feGEG02Cb7v50ZMbk7KUeoGaVLk09Orz1c3kcK+/pFoiMYxGgtB0nN3Ze/iZl+akydqR2dZzxVPPLmK9sVbcetuZ45t5rraPRDZZEozhb9598v1vO9kFvGcyZrZPVbKYx8KkzZWcz5aSu/1CAZm3fdnLHTwuDluSvr1eoOFQZ/RwRUE51O/O4FY5kAgKpg+8xuY53t6jB6zlgFwLlIasKpL7T6VS6ACtTL0+2wECT0mWVpasp15SIsXNFYPGT3zknR/94F1VYQUK8ImtwGLOiVUshC60YT4upxdf+8uwGC5htOqn6mOiC8V0lcbz4rlv/Pann/7CH7/HJh+hsJQmc+R00dM03b1/8bXPfuaqC4urrVsvHCeOYkRDTD6LaPSqF76/L56XnvvK//a/jH7w7CnkSIpMJhDZ3dNujB3t/v6nvvTp35AXn7/tmhtPjKYPfevb7o+/8Mz589fcfh1nTjVaNZgxXSuEnJIcVlG83Hk1QiJGgsflAj4J0OAba8u33eyuv+7tbcPI0tRUK8RE6qDtTq9nGqD82BaSO4C7vL5gH4OlSOpIHZbKTX/+5254w7uu3+3Gk+lKWGzWi639bnHs2JFbTp05vQEhkhooQa2HtsMQC9WKJC5jC1gZJWeFqapS160Y04VQFoUO/beB4P2ANZVch4BD0RUQk3TY8F2ad+ZtDwO+xy4hBHpAfapDk9sc3ncus2EPgWKI/imDQwDpG6Es/xuOxUGMj5ZE9GS2qradjMZloRmiUkSSYC3dKkVP/iniLJFQBzMyhxdrPMz9+SPbQbZx8crvRzsXC4isTjm/XV+48ORzz2xMptV8a5wSKdDMPUaKSWFLqvjEE4+lriuD73ygXrC3jzB3I2fHsSczyDPH/bDo7Nmnzj339PWd1+jjYs58BrEL3k1HPP3k57/y+TY1H/vFj43e+jZOnL7rws7WP/8vnvjuN695/jGuWmmYzLFNnCet4oEo2k/G8r2TkIg9MqzHgcS2mUdTOJFVB4axIiP68OQwYyfQ+kbFQDJ6MPCYZe2XW5jXUalaFDV0i2Z/p1xJP3vP7XPYjqiyzjEPMwKYKqeQ3f4yn7BA5ShQSQ2py97g684Z55tYViOSVDZhJbkCljWZ3iVEEInDg23pw3Lgcd3w/MvvXz4Dh5C9FA3xYIVJeZCWLp12aA9kmD8dWkMNDjYUPBaMwRIH+L/2zak8DdfjG/ojSW5oS85hYv/pmkLyia4jNXFvouOm7crRVICOImuV0dA1qCMGMAdMNIcgRq9qSQh5YAgbMTFrIPZPRvWwMqYt0/bZxf7e+Pqr3/8zHz6+vff4//DfLNKCmMBINJJMIBmfbv3Qh2697nr/qU/vPf7oZDJlPMYYl0yINsM/jFjX92AtMDlz1cf++a/wlXv/5P/8v29anXLsCKJ2cy3Qya2bH/ovf3k6KfEJVZLywKNbxaJuaswC23Z4j5MwDgKpv0tpeEKQg/NlaSIfdMhiduOU3TiB2JXJuMV3uBSxQgkCi3amJpVmNHTHsq7XgNw6dOXNofbn68Y0BDFupUwNxA3iFJ3OWa2g84y6mrjAespER+wwfalV6w6BrpnhFyRP8ohJxprRuBhPexJoo7FtBNp2cNRl1nzAs3yo3RIVFBkymmxy8SXL+JRDta5cy26HZLmAUc/DmdWWogIRGWaY+kR6CMsSKWEMJbihYCSHDp30UM85+zAM6DwLJiSNOHCFjhVTupIYK1hxFInUJppFqmd0nbGOiyPQjx2P+kMOPnxwKQ0YavxWO1/YxMb0+FvfyG03m6osV1dZXWVUGS01uRS1C4nxhLe/xayO25SkLEjQpr3deRRNGIIlOAcFaP7o6So3Xsep4+XaiptUpIQPHbKbulqK6vT1YTxipaRQnnvm7De++ujOhdU33saZM2hZwgQ2jHUNmnSpDDZci8senD34SC/RHASU+d4+sTG0ytwEP4IyUaS4VtipkYKQkWsGYiLLth7085Z/yuvNjWk7ByVulWgJ2I5VhRaahq4Z0Rj2CrwhYid05AVtx67Pt/qCrrqgIz+ihiiMsNmLVCPEwg7lqIvulNIrmNEn0qIMjPN5xikOjq9DDkmKectqwCiFEGRZY8YEiJiEMbEwhMxRn3q1RKNMLYXSwhycpcxeGZCE1Xhwb3pXVaSfWbcuph55ggFrDIM4QFFVNZDF6hPMQJBxMgbf4Cyoiq169MBlsQQRK9ih8T+8BiW07X7s7Noktl29vzWyidTOSUkF0c7H2MXSOFNYSR3b21SrCzUzZbdtN9VRViuOBhPzyHFUE3EGn2eMxhU7L9HO7MbaduhOLOacOK4UGzgSF2Y7m5NV9s/zB3949t/85tnnz52+6503/O2PcexamKzlu9vgF1ifll/l8luf5ORIn0UaewXjsizRztCVSOmsEgmBlG+MxSecSSGI09glWyyf2TGL8iHL0YjydbRNTpQug4pGdDWHMglSRFl08+DKCBXl0JYUBswfMUZTjIC6CVrRJrqUCc1I0HXBZO0jPdSVPWTSV6jyPw7Aq8sC2PIex4sS7oteNYIqB22BBPRsZyZnxoeT10ApIHl4EptzrTg0YTPi52UP2jgwdQ0npiELbyZiRCBE2pZihKQeSSApGoRCSTHOWx2P4KDGuRyjPbgMr3pNHCyooepPT4wxonAjr76NMdR+tL7JC+dVrXWGqnKjEZ3DsFDfpnZd0d1d76N1VRyVjCsa6fYXMpkczD9pn7EHjFks2NhgVF7Y3113FmtIaX+xv15u0LSbdpVnnnzqN/7Vd//d75ys4/Gbbz/9jz/JW95BGCFVX7oIuYljSLY/7QRZyyZFkaK/Qn9N6y+HM8vNVu5rjkqIIbaomGWJRiJzT1UROgxt40fWhRDsRc3hNCyENKSArxs3hq6jLACb4UdtR5HPfVIhtbXjirJZrr+BAc3mjb8ZTfK/R5UmDiQe8sIUd4gPSYZXh63FRT586D3LipQ5WKbD+7JbvszNZCnXoy9/j/YPgGUKLn0Fm+VzwRw+DR0O1JtZ5gsHBfKD92SU9EgYjYZ39A5rhm+kOtlE0nI3iCCHmhbS+/CrWxNNR2tpHZ3BmCApWaRMkBYwd2a0HxduvFbvb7HomLXH3HS+mDGbLXa3Kj1KEbdsXbeLzZWCC/PV0ZrtqK1y4SWqY+vjlb3khQ58bgPO84wusrI6ZftC3sF2bU3pkLhSlYmZhAUPPfHkr/+L5576Tnn86OYH33P6E5+kOIlUNCN8wZi6S6NKQsHOop2sbNTzxoFJLWlBQihz1y+XlJc398eoAmJAjFK5QWFjGMQF3ABuzzfWQGRSIjCugNFKhTCq7PI3BojN4Wrp68iHEcolsKgogMIeKhjLyEmpiM3g2YO2zQEJvB76qB8KbJGX/XDJvZFXePEVkE1/yf08vJs9ZPpKL14y1vuy9/+lB9RLz2f4f+bwK/LyN9jDb375x778oH+lGTOUjyVIirmiIBHqhkn0ofPzThKToDQ1brT73EvToxOCVq7Ad+f3zncburG5yrNn2TjOhb3F1t6oCRw9xg/Os76pxiP5v7hkFxEgJpqWeS1159rI3pyNmMI+hcE0/rOf3v3mvddet3bVP/y7/PQ7GZd0wqIlTRCC0lXiYJ5oIWGttUOxLwwhrv+3HDrkq2709BdX5ZJbdvh2XPTiK8SGi37j4AReT9572F5+/sNFYPkUW77wCj9esX//lrBKGXAdLkQT1WVomoc4oSl0n8mCU1Jubh6hXmBYH4+Prh7h/B4drFYt3rbd6iLQWRrAHJ9sbLbK+Rm+y0A7zdV5cvEkFwIjXsDhxqfH65vJ8dwF6ujaKN2Meuvb937p6Hp51a3Xc+01tJ7nXmBvn+2tPPLUxdjSerqyIMQmpVRWox4MI4ZkEPOyrfLlKidcsVew1xGg9D9EkwjBJFcIVtqY6gxurQNV6dCR8VJ2CeZcmD3z6d+qvv+0lHp2f9d/4csTWHvve8ZrEwltsVvz2FP7n/+zsLMdnL7w2FP1v/29a3/2Z3JHULMWdPISSwuqQYBz5/e++IXdL319b2+Wnn7+/G/97i1HT3DDVaQF7Xy7XVT1LH7zm+b73/uB+K1QbEyunZ669Y5f+k+4+jSqAWriHrS+SSlUVZUgIEYsEl+e7lyxn6hdcePX1CSgM8QZN7JFMwuzWnyDxVI5SNjSFtESdjn/zLNP3Dd/6NHNxO5e3LvvvpPHNs/ceG1cm64nZRGeuv+BP/v9/+f6jSOLsJg/8dTDs/nxd77LF2qnlUnDVEDCKoFIis899sTXvvDF/XsfOOEmXeuf+Nb9qw997+QNpyhGHD1243ve8+TnPvfCC2dX501trJP0/O4Ti93RHWfPc+bkHJ2jLaGBJnSkMJlMIiQsdIguWZt6cEWuVl5J/X5idsWNX1sTtJzhUmUobbNfN34vspEMTefLIqg1QURtxdFT7/hbH+cD29QBn5isccP17ZHNUBWj6KjWr7n77r+/sa6TEu9ptasm7qqTbEwXzZykAxgj9nz9olfd8ca/9Y8/aX/6RaKyeuR96nj3eyjGgYmR7tpf+EfXnHmDuMjxo4ghOrYT5ZjrrsWZPOsyyiwgTSOhm1SjBB4xSBS5CF2am4uvs/bs/8/sihu/ltZgZ9gdqJVQrrfbL4Vm5tgYGUptoe0Su50ZaVW50r7r5+j2MHPaGrOK2qZpuq4tFtEYx/XX6JtuwnkC7IvDYgltZ5LTVJAKxCAahYCDaDc27T338OaOJuJKyopq8vSF2ZEjm1Wq5Oq3ytVvRRdIR54b7wxiWBk1FgtrdKuLLp6LVV2b2FSlFbIEngbkoDnU17eWFa+/WrHtiv0YdsWNX0vLazqDq2yqoi9nvpwDMA/jkalaKdpRWVjZ2Tl3xFbNzjmzmnxoRpqZ7bvJ2pppG0JgMSPN08ZIUgJDEkYrxpi2TUFKIz1LfOwxNs7YcU+nsVqgjsBWYu3I5rIhTkm7CF3qJtN1ksm8ZGeF7YQV5tvm5lCGgHbRpqY0AEkIScIhJtCDorWQBjqeK5582e2KG7+WViQ2F37dWafceeqW558Nn/78Y7/7uQdPHd8YMR9LbeZbt55a+eX/+MOys8XuuXKj2mHmp6vSiBFcUbWLtif+3VwPJu5LUqPTUgnadrENZmXzKqhIZUamhb4ppC1VUVhxngRS+CIjhhixQBrGILFY04Kyp7tXPveNF377W/f9oO7CeNU2sr4di6Dn9xfHpu7Ga1zXMXYYsaB+KWfd74r7bfJPcoTiP2i74savqUVQ1cAR4fYTJx+YPPPCE99/8uyzk0kp7f5Eu5OTYiXdtLPXVHaEcV29YHUF0SCZyEY19Ho6kRBSNMlE8MZhJBqHOKigRFzqiTqWaBwNlFbcMk4OWJoFskAVNGFjJvJOzDqePHf2/ocfefDcdiimozQ+uqdjZLpRXHVyY3XExCHgo49ahF62dvkl+79eNTfKFfvRTH6yU2ZX7Idb7CVMkuVCw7kFtXBuu7MmPP7wd11KR6ZrV588cttNm7s751K60NQX1lYmQwUpBpImrE8moT6KSB5rUTXR2s4Yb1xZbEbKPNWUx6fyYJYu4+MSJN9D2xqk8WiDeBSsw2TM6ePnFvc/+9xOmwzlWhhfL2tHVu3OhKDcfnVOuoNPncgoDSAiE2MWLEGMFxsOHhZX7HLaFTd+TW05rp1Ihs70e9eYulIMqMvzmcJ+t4erJdWytbAxBo1eQpKYUrRRbGCMIxnE4hzGUBjvrDdOqJZ6EWaYvjggaskWD9GWuOh7caaMK9cSLLq7t++NTeMR+V2eNQ+JeYlXyp70tovgcWGgmJXoSQEBMa3YOMyNX7HLa1eS6tfWYljsmfGY5CQR5nXHfDKxiFd0d3cfVlQKu1KsOm2JRoogONEgUbXrNCDReDECqSA51GYlEFSNAUwYhjNlGX7jK03qDWE5SGwykAPNs6J0EPxGMcIAvsEGwNB6RNg6z8YmNmGMR3wIoSNZM8hTpgSRxCvhuq7YZbMrbvyamkSzUpA8SVAtbWYv6zLifW31CL4igk+ZASsi1comwSidU99ZD9GEpFHxChZ1qMkMg5luzEDmJjEcnsIHIWlGRGM12jypJZkRMQ+bUTJIVWb0iERiMKmJSUQLM7KaOFlmQrVIaGNsjHNW9NBU7xDlB5aIK/aTsCtu/NqaIi60Pk/qaDF2Mu4Igdh1aUJheu5MQUaapuqMd5W1ECzSOQ0JL6okoXBeTI1VZDx4jDlQDxwIyYbZrmRYEGsIBEMsiWMXBcWXJQOZ4TCki1hSgxXUxBDwAbxaK4qBUEdTeAhaGBCP1F07cUXvw6mHb8WLHyNX7DLa/wfpmHtRmc+XWgAAAABJRU5ErkJggg==)"
      ],
      "metadata": {
        "id": "sS0fFomQ7Toq"
      }
    },
    {
      "cell_type": "code",
      "source": [
        "mat_a = np.array([[2,3,5],[4,6,7]])\n",
        "mat_b = np.array([[1,2,5],[2,4,-7]])\n",
        "mat_c = np.array([[2,3],[4,6],[7,9]])"
      ],
      "metadata": {
        "id": "wy0XPOW77ZH8"
      },
      "execution_count": 97,
      "outputs": []
    },
    {
      "cell_type": "code",
      "source": [
        "mat_a"
      ],
      "metadata": {
        "id": "XojEssMP7eJr",
        "outputId": "231acf14-5a9c-45be-ab09-892bd133bd76",
        "colab": {
          "base_uri": "https://localhost:8080/"
        }
      },
      "execution_count": 98,
      "outputs": [
        {
          "output_type": "execute_result",
          "data": {
            "text/plain": [
              "array([[2, 3, 5],\n",
              "       [4, 6, 7]])"
            ]
          },
          "metadata": {},
          "execution_count": 98
        }
      ]
    },
    {
      "cell_type": "code",
      "source": [
        "mat_b"
      ],
      "metadata": {
        "id": "46Qg5LTo7f5u",
        "outputId": "6df6198c-3edf-4ec1-f7ff-2d225595a729",
        "colab": {
          "base_uri": "https://localhost:8080/"
        }
      },
      "execution_count": 99,
      "outputs": [
        {
          "output_type": "execute_result",
          "data": {
            "text/plain": [
              "array([[ 1,  2,  5],\n",
              "       [ 2,  4, -7]])"
            ]
          },
          "metadata": {},
          "execution_count": 99
        }
      ]
    },
    {
      "cell_type": "code",
      "source": [
        "mat_c"
      ],
      "metadata": {
        "id": "4Jz9CTCj7kzo",
        "outputId": "145a4daa-8e3c-4604-9b14-b79ad7966998",
        "colab": {
          "base_uri": "https://localhost:8080/"
        }
      },
      "execution_count": 100,
      "outputs": [
        {
          "output_type": "execute_result",
          "data": {
            "text/plain": [
              "array([[2, 3],\n",
              "       [4, 6],\n",
              "       [7, 9]])"
            ]
          },
          "metadata": {},
          "execution_count": 100
        }
      ]
    },
    {
      "cell_type": "markdown",
      "source": [
        "##### ใช้ dot() ในการคูณเมทริกซ์ "
      ],
      "metadata": {
        "id": "72dhLZgo7obH"
      }
    },
    {
      "cell_type": "markdown",
      "source": [
        "\n",
        "a × c , b × c "
      ],
      "metadata": {
        "id": "hr_KeUi07wiQ"
      }
    },
    {
      "cell_type": "code",
      "source": [
        "np.dot(mat_a,mat_c) "
      ],
      "metadata": {
        "id": "pnbYOK5g7pEp",
        "outputId": "bdd321ef-cb50-409a-a8f2-9871d91f5bad",
        "colab": {
          "base_uri": "https://localhost:8080/"
        }
      },
      "execution_count": 101,
      "outputs": [
        {
          "output_type": "execute_result",
          "data": {
            "text/plain": [
              "array([[ 51,  69],\n",
              "       [ 81, 111]])"
            ]
          },
          "metadata": {},
          "execution_count": 101
        }
      ]
    },
    {
      "cell_type": "code",
      "source": [
        "np.dot(mat_b,mat_c)"
      ],
      "metadata": {
        "id": "isJIh4A874Mz",
        "outputId": "8de538d6-241b-4258-8c2a-9eb46c5ee6c9",
        "colab": {
          "base_uri": "https://localhost:8080/"
        }
      },
      "execution_count": 102,
      "outputs": [
        {
          "output_type": "execute_result",
          "data": {
            "text/plain": [
              "array([[ 45,  60],\n",
              "       [-29, -33]])"
            ]
          },
          "metadata": {},
          "execution_count": 102
        }
      ]
    },
    {
      "cell_type": "markdown",
      "source": [
        "c × a , c × b "
      ],
      "metadata": {
        "id": "-WA0YDOo78Vg"
      }
    },
    {
      "cell_type": "code",
      "source": [
        "np.dot(mat_c,mat_a) "
      ],
      "metadata": {
        "id": "RPEjoFvf7-dN",
        "outputId": "4cfbb7ab-add7-41f5-eecb-363e9e95a8d6",
        "colab": {
          "base_uri": "https://localhost:8080/"
        }
      },
      "execution_count": 103,
      "outputs": [
        {
          "output_type": "execute_result",
          "data": {
            "text/plain": [
              "array([[16, 24, 31],\n",
              "       [32, 48, 62],\n",
              "       [50, 75, 98]])"
            ]
          },
          "metadata": {},
          "execution_count": 103
        }
      ]
    },
    {
      "cell_type": "code",
      "source": [
        "mat_X = np.dot(mat_c,mat_b) \n",
        "print(mat_X)"
      ],
      "metadata": {
        "id": "-5TC-h1h7_G4",
        "outputId": "4ab1116c-31f7-40dd-ac1e-d51adcd82eec",
        "colab": {
          "base_uri": "https://localhost:8080/"
        }
      },
      "execution_count": 104,
      "outputs": [
        {
          "output_type": "stream",
          "name": "stdout",
          "text": [
            "[[  8  16 -11]\n",
            " [ 16  32 -22]\n",
            " [ 25  50 -28]]\n"
          ]
        }
      ]
    },
    {
      "cell_type": "code",
      "source": [
        "mat_a * mat_b #คูณตำแหน่งเดียวกัน (ไม่ใช่คุณสมบัติคูณเมทริกซ์) "
      ],
      "metadata": {
        "id": "SWYT_7ou8BMX",
        "outputId": "a4fb1062-6add-4dba-ab21-def7402eb247",
        "colab": {
          "base_uri": "https://localhost:8080/"
        }
      },
      "execution_count": 105,
      "outputs": [
        {
          "output_type": "execute_result",
          "data": {
            "text/plain": [
              "array([[  2,   6,  25],\n",
              "       [  8,  24, -49]])"
            ]
          },
          "metadata": {},
          "execution_count": 105
        }
      ]
    },
    {
      "cell_type": "markdown",
      "source": [
        "### Matrix Slicing"
      ],
      "metadata": {
        "id": "zSlLWUt88F73"
      }
    },
    {
      "cell_type": "code",
      "source": [
        "mat_X[:2,:2] #[ตัดแถวที่ 0-2 ,ตัดหลักที่ 0-2]  *การตัดลดลง 1 ตัว*"
      ],
      "metadata": {
        "id": "pKOqCszT8Gjh",
        "outputId": "ec9ae25e-a4e0-408b-d48d-fc19f937ce39",
        "colab": {
          "base_uri": "https://localhost:8080/"
        }
      },
      "execution_count": 106,
      "outputs": [
        {
          "output_type": "execute_result",
          "data": {
            "text/plain": [
              "array([[ 8, 16],\n",
              "       [16, 32]])"
            ]
          },
          "metadata": {},
          "execution_count": 106
        }
      ]
    },
    {
      "cell_type": "markdown",
      "source": [
        "HW3"
      ],
      "metadata": {
        "id": "Dw51gyZdSaoU"
      }
    },
    {
      "cell_type": "markdown",
      "source": [
        "## Pandas Dataframe (แยกออกเป็น Notebook เฉพาะ)"
      ],
      "metadata": {
        "id": "h_YBwAEv8I3c"
      }
    }
  ]
}