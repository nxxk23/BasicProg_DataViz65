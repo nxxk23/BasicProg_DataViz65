{
  "nbformat": 4,
  "nbformat_minor": 0,
  "metadata": {
    "colab": {
      "name": "Quiz1.ipynb",
      "provenance": [],
      "authorship_tag": "ABX9TyOvq/HoXrSSQlg+hjtO7izS",
      "include_colab_link": true
    },
    "kernelspec": {
      "name": "python3",
      "display_name": "Python 3"
    },
    "language_info": {
      "name": "python"
    }
  },
  "cells": [
    {
      "cell_type": "markdown",
      "metadata": {
        "id": "view-in-github",
        "colab_type": "text"
      },
      "source": [
        "<a href=\"https://colab.research.google.com/github/nxxk23/BasicProg_DataViz65/blob/main/Quiz1.ipynb\" target=\"_parent\"><img src=\"https://colab.research.google.com/assets/colab-badge.svg\" alt=\"Open In Colab\"/></a>"
      ]
    },
    {
      "cell_type": "markdown",
      "source": [
        "Quiz 1 \n",
        "\n",
        "คำนวณเวลาเป็นความต่างของเวลาเป็นวินาทีของช่วงเวลาต่อไปนี้โดยใช้คำสั่ง split() ช่วย และ print ออกมาให้สวยงาม\n",
        "\n",
        "* 09:11:50 - 12:30:15\n",
        "* 13:41:07 - 20:00:18\n",
        "* 21:30:15 - 00:00:00\n",
        "* 00:00:00 - 23:59:59"
      ],
      "metadata": {
        "id": "s9Vq0JQ85yKq"
      }
    },
    {
      "cell_type": "code",
      "source": [
        "A = (9*60*60)+(11*60)+50\n",
        "B = (12*60*60)+(30*60)+15\n",
        "print(f'ความต่างของเวลาตั้งแต่ 09:11:50 ถึง 12:30:15 คือ {B-A} วินาที')"
      ],
      "metadata": {
        "colab": {
          "base_uri": "https://localhost:8080/"
        },
        "id": "rpAD0JY98iGb",
        "outputId": "9d710c89-00f7-4f3e-ff65-a6ee0e0cc1c3"
      },
      "execution_count": 1,
      "outputs": [
        {
          "output_type": "stream",
          "name": "stdout",
          "text": [
            "ความต่างของเวลาตั้งแต่ 09:11:50 ถึง 12:30:15 คือ 11905 วินาที\n"
          ]
        }
      ]
    },
    {
      "cell_type": "code",
      "source": [
        "C = (13*60*60)+(41*60)+7\n",
        "D = (20*60*60)+(0*60)+18\n",
        "print(f'ความต่างของเวลาตั้งแต่ 13:41:07 ถึง 20:00:18 คือ {D-C} วินาที')"
      ],
      "metadata": {
        "colab": {
          "base_uri": "https://localhost:8080/"
        },
        "id": "vDRmx3T089Dw",
        "outputId": "91f344ac-cd5f-44cb-bd4f-cf753a9c8073"
      },
      "execution_count": 3,
      "outputs": [
        {
          "output_type": "stream",
          "name": "stdout",
          "text": [
            "ความต่างของเวลาตั้งแต่ 13:41:07 ถึง 20:00:18 คือ 22751 วินาที\n"
          ]
        }
      ]
    },
    {
      "cell_type": "code",
      "source": [
        "E = (21*60*60)+(30*60)+15\n",
        "F = (24*60*60)+(0*60)+0\n",
        "print(f'ความต่างของเวลาตั้งแต่ 21:30:15 ถึง 00:00:00 คือ {F-E} วินาที')"
      ],
      "metadata": {
        "colab": {
          "base_uri": "https://localhost:8080/"
        },
        "id": "OIB9zh2O9Qhp",
        "outputId": "a0800d95-25cb-47d7-86e3-7cbdcef7a50d"
      },
      "execution_count": 4,
      "outputs": [
        {
          "output_type": "stream",
          "name": "stdout",
          "text": [
            "ความต่างของเวลาตั้งแต่ 21:30:15 ถึง 00:00:00 คือ 8985 วินาที\n"
          ]
        }
      ]
    },
    {
      "cell_type": "code",
      "source": [
        "G = (0*60*60)+(0*60)+0\n",
        "H = (23*60*60)+(59*60)+59\n",
        "print(f'ความต่างของเวลาตั้งแต่ 00:00:00 ถึง 23:59:59 คือ {H-G} วินาที')"
      ],
      "metadata": {
        "colab": {
          "base_uri": "https://localhost:8080/"
        },
        "id": "EcoH6Jho90l7",
        "outputId": "8076d8e6-84ff-4308-d217-f068108cfeb5"
      },
      "execution_count": 5,
      "outputs": [
        {
          "output_type": "stream",
          "name": "stdout",
          "text": [
            "ความต่างของเวลาตั้งแต่ 00:00:00 ถึง 23:59:59 คือ 86399 วินาที\n"
          ]
        }
      ]
    }
  ]
}