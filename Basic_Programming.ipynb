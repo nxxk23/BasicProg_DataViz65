{
  "nbformat": 4,
  "nbformat_minor": 0,
  "metadata": {
    "colab": {
      "name": "Basic Programming.ipynb",
      "provenance": [],
      "authorship_tag": "ABX9TyNUy+zn+D436Mmg4gGsKi56",
      "include_colab_link": true
    },
    "kernelspec": {
      "name": "python3",
      "display_name": "Python 3"
    },
    "language_info": {
      "name": "python"
    }
  },
  "cells": [
    {
      "cell_type": "markdown",
      "metadata": {
        "id": "view-in-github",
        "colab_type": "text"
      },
      "source": [
        "<a href=\"https://colab.research.google.com/github/nxxk23/BasicProg_DataViz65/blob/main/Basic_Programming.ipynb\" target=\"_parent\"><img src=\"https://colab.research.google.com/assets/colab-badge.svg\" alt=\"Open In Colab\"/></a>"
      ]
    },
    {
      "cell_type": "markdown",
      "source": [
        "# Function ($f(x)$ = $y$)"
      ],
      "metadata": {
        "id": "wWlAZgoyQItB"
      }
    },
    {
      "cell_type": "markdown",
      "source": [
        "```python\n",
        "def function_name( input_x ) :\n",
        "    # do something with input_x to get output_y\n",
        "    return output_y\n",
        "```"
      ],
      "metadata": {
        "id": "T3aySXrAQUzg"
      }
    },
    {
      "cell_type": "markdown",
      "source": [
        "$f_1(x) = x^2 + 75$"
      ],
      "metadata": {
        "id": "AnFQmfg7QYP-"
      }
    },
    {
      "cell_type": "code",
      "source": [
        "def function_f1(x):\n",
        "    a = x**2     # ** คือยกกำลัง\n",
        "    y = a +75\n",
        "    return y\n",
        "\n",
        "print('done!') #ไม่เยื้องแสดงว่าไม่อยู่ในฟังก์ชัน"
      ],
      "metadata": {
        "colab": {
          "base_uri": "https://localhost:8080/"
        },
        "id": "w2SbS-BWQcdD",
        "outputId": "5bf8a719-6947-4926-e8da-8dbf3231c4ae"
      },
      "execution_count": 1,
      "outputs": [
        {
          "output_type": "stream",
          "name": "stdout",
          "text": [
            "done!\n"
          ]
        }
      ]
    },
    {
      "cell_type": "code",
      "source": [
        "function_f1(3)"
      ],
      "metadata": {
        "colab": {
          "base_uri": "https://localhost:8080/"
        },
        "id": "emuwco9GQh8Y",
        "outputId": "b9df222e-6950-47bf-c066-c7600fbeb00f"
      },
      "execution_count": 2,
      "outputs": [
        {
          "output_type": "execute_result",
          "data": {
            "text/plain": [
              "84"
            ]
          },
          "metadata": {},
          "execution_count": 2
        }
      ]
    },
    {
      "cell_type": "markdown",
      "source": [
        "function มีส่วนสำคัญทั้งหมวด 4 ส่วน\n",
        "\n",
        "1. บอก python ว่าเราจะเขียนฟังก์ชันก์ ชื่ออะไร def function_name () : (ขาดไม่ได้)\n",
        "2. กำหนดตัวแปรที่จะเป็น input _input_ (ขาดได้)\n",
        "3. ส่วนประมวลผล do_something with _Input_ to get _Output_ (ขาดไม่ได้)\n",
        "4. ส่วน output return _Output_ (ขาดได้)"
      ],
      "metadata": {
        "id": "GjwqE_kyQk05"
      }
    },
    {
      "cell_type": "markdown",
      "source": [
        "### ตัวอย่าง function ที่มีส่วนประกอบครบ"
      ],
      "metadata": {
        "id": "6qBPULibTqwV"
      }
    },
    {
      "cell_type": "code",
      "source": [
        "def function_f1(x) :\n",
        "  a = x**2\n",
        "  y = a+75\n",
        "  return y"
      ],
      "metadata": {
        "id": "zld7XiO1TxqG"
      },
      "execution_count": 3,
      "outputs": []
    },
    {
      "cell_type": "markdown",
      "source": [
        "### ตัวอย่าง function ที่ไม่มี input"
      ],
      "metadata": {
        "id": "PuSa_EYMUG4v"
      }
    },
    {
      "cell_type": "code",
      "source": [
        "def pi_v() :\n",
        "  y = 3.14159265359\n",
        "  return y\n"
      ],
      "metadata": {
        "id": "zJ8oh2HpUSjc"
      },
      "execution_count": 4,
      "outputs": []
    },
    {
      "cell_type": "code",
      "source": [
        "piv = pi_v()\n",
        "circle_area_r2 = piv*(2**2)\n",
        "print(circle_area_r2)"
      ],
      "metadata": {
        "colab": {
          "base_uri": "https://localhost:8080/"
        },
        "id": "pc_8rnJvU2Bl",
        "outputId": "97a4a24a-eeb4-4c3e-d05f-499357585aa0"
      },
      "execution_count": 5,
      "outputs": [
        {
          "output_type": "stream",
          "name": "stdout",
          "text": [
            "12.56637061436\n"
          ]
        }
      ]
    },
    {
      "cell_type": "markdown",
      "source": [
        "### function ไม่มี process ไม่ได้"
      ],
      "metadata": {
        "id": "4chgUs9CVSEF"
      }
    },
    {
      "cell_type": "code",
      "source": [
        "def function_a():"
      ],
      "metadata": {
        "colab": {
          "base_uri": "https://localhost:8080/",
          "height": 130
        },
        "id": "3kxXdvoNVVOW",
        "outputId": "3848912f-ec88-48f0-909a-068e0865e177"
      },
      "execution_count": 6,
      "outputs": [
        {
          "output_type": "error",
          "ename": "SyntaxError",
          "evalue": "ignored",
          "traceback": [
            "\u001b[0;36m  File \u001b[0;32m\"<ipython-input-6-07a0750214a8>\"\u001b[0;36m, line \u001b[0;32m1\u001b[0m\n\u001b[0;31m    def function_a():\u001b[0m\n\u001b[0m                     ^\u001b[0m\n\u001b[0;31mSyntaxError\u001b[0m\u001b[0;31m:\u001b[0m unexpected EOF while parsing\n"
          ]
        }
      ]
    },
    {
      "cell_type": "markdown",
      "source": [
        "### ตัวอย่าง function ที่ไม่มี output"
      ],
      "metadata": {
        "id": "3pzaDpA3V085"
      }
    },
    {
      "cell_type": "code",
      "source": [
        "def print_name_id(name,id):\n",
        "  print(f'ชื่อ {name} รหัสประจำตัว {id}')"
      ],
      "metadata": {
        "id": "4S_SCbtGV3hj"
      },
      "execution_count": 11,
      "outputs": []
    },
    {
      "cell_type": "code",
      "source": [
        "print_name_id('นารากร','633020553-6')"
      ],
      "metadata": {
        "colab": {
          "base_uri": "https://localhost:8080/"
        },
        "id": "OhQlNG6HWEbe",
        "outputId": "ce26f5f8-442c-488e-c38b-98c2e9a0fef5"
      },
      "execution_count": 12,
      "outputs": [
        {
          "output_type": "stream",
          "name": "stdout",
          "text": [
            "ชื่อ นารากร รหัสประจำตัว 633020553-6\n"
          ]
        }
      ]
    },
    {
      "cell_type": "code",
      "source": [
        "a = print_name_id('นารากร','633020553-6')"
      ],
      "metadata": {
        "colab": {
          "base_uri": "https://localhost:8080/"
        },
        "id": "gdzpDtwQbBWJ",
        "outputId": "4f202c98-8ab5-473e-972a-653281fb6190"
      },
      "execution_count": 13,
      "outputs": [
        {
          "output_type": "stream",
          "name": "stdout",
          "text": [
            "ชื่อ นารากร รหัสประจำตัว 633020553-6\n"
          ]
        }
      ]
    },
    {
      "cell_type": "code",
      "source": [
        "a"
      ],
      "metadata": {
        "id": "cp5u7rOmbFIK"
      },
      "execution_count": 14,
      "outputs": []
    },
    {
      "cell_type": "markdown",
      "source": [
        "ตัวอย่าง funtion print"
      ],
      "metadata": {
        "id": "XCrHmgssbLMs"
      }
    },
    {
      "cell_type": "code",
      "source": [
        "print('นารากร')\n",
        "print('633020553-6')"
      ],
      "metadata": {
        "colab": {
          "base_uri": "https://localhost:8080/"
        },
        "id": "ak6RvS45bPsD",
        "outputId": "c8182dee-9c6e-4cff-b1fe-88985c924f84"
      },
      "execution_count": 15,
      "outputs": [
        {
          "output_type": "stream",
          "name": "stdout",
          "text": [
            "นารากร\n",
            "633020553-6\n"
          ]
        }
      ]
    },
    {
      "cell_type": "code",
      "source": [
        "print('นารากร',end='->')\n",
        "print('633020553-6')"
      ],
      "metadata": {
        "colab": {
          "base_uri": "https://localhost:8080/"
        },
        "id": "dtJbKTG_baiY",
        "outputId": "3ca4fb5a-9260-418c-9a9a-a1eea4dbea15"
      },
      "execution_count": 16,
      "outputs": [
        {
          "output_type": "stream",
          "name": "stdout",
          "text": [
            "นารากร->633020553-6\n"
          ]
        }
      ]
    },
    {
      "cell_type": "code",
      "source": [
        "print('นารากร','633020553-6')"
      ],
      "metadata": {
        "colab": {
          "base_uri": "https://localhost:8080/"
        },
        "id": "VlkEg2xgbkSs",
        "outputId": "4ca41291-f6a6-47c2-a6b8-847d03fd0943"
      },
      "execution_count": 17,
      "outputs": [
        {
          "output_type": "stream",
          "name": "stdout",
          "text": [
            "นารากร 633020553-6\n"
          ]
        }
      ]
    },
    {
      "cell_type": "code",
      "source": [
        "print('นารากร','633020553-6',sep=' & ')"
      ],
      "metadata": {
        "colab": {
          "base_uri": "https://localhost:8080/"
        },
        "id": "9VqwT4sFbqxy",
        "outputId": "911e0408-a77a-48bc-e1ad-728a6bdfd422"
      },
      "execution_count": 18,
      "outputs": [
        {
          "output_type": "stream",
          "name": "stdout",
          "text": [
            "นารากร & 633020553-6\n"
          ]
        }
      ]
    },
    {
      "cell_type": "markdown",
      "source": [
        "### input ของ function แบ่งเป็น 2 ชนิด (จำเป็นต้องใส่ กับ ไม่จำเป็นต้องใส่)"
      ],
      "metadata": {
        "id": "2PQG5WLubzLN"
      }
    },
    {
      "cell_type": "markdown",
      "source": [
        "ตัวอย่าง function print_grade() มี input 3 ตัว จำเป็นต้องใส่ 2 ตัว คือ name กับ id และไม่จำเป็นต้องใส่ 1 ตัว คือเกรด ซึ่งมีค่า default เป็น F"
      ],
      "metadata": {
        "id": "nUVRGCqFcp1m"
      }
    },
    {
      "cell_type": "code",
      "source": [
        "def print_grade(name,id,grade = 'F') :\n",
        "  print(f'รหัสประจำตัว {id} ชื่อ {name}')\n",
        "  print(f'ได้เกรด {grade}')"
      ],
      "metadata": {
        "id": "OCl_vwMgcBra"
      },
      "execution_count": 21,
      "outputs": []
    },
    {
      "cell_type": "code",
      "source": [
        "print_grade('นารากร วรกุล','633020553-6')"
      ],
      "metadata": {
        "colab": {
          "base_uri": "https://localhost:8080/"
        },
        "id": "C1FoimQKc69w",
        "outputId": "9ac5688e-88db-455f-eb61-eaccf74a3ac8"
      },
      "execution_count": 22,
      "outputs": [
        {
          "output_type": "stream",
          "name": "stdout",
          "text": [
            "รหัสประจำตัว 633020553-6 ชื่อ นารากร วรกุล\n",
            "ได้เกรด F\n"
          ]
        }
      ]
    },
    {
      "cell_type": "code",
      "source": [
        "print_grade('นารากร วรกุล','633020553-6','A')"
      ],
      "metadata": {
        "colab": {
          "base_uri": "https://localhost:8080/"
        },
        "id": "KcrFr3gPdHXL",
        "outputId": "632340a2-fe1f-4097-a5d7-2436cbbec485"
      },
      "execution_count": 23,
      "outputs": [
        {
          "output_type": "stream",
          "name": "stdout",
          "text": [
            "รหัสประจำตัว 633020553-6 ชื่อ นารากร วรกุล\n",
            "ได้เกรด A\n"
          ]
        }
      ]
    },
    {
      "cell_type": "code",
      "source": [
        "print_grade(id='633020553-6',name='นารากร วรกุล',grade='A')"
      ],
      "metadata": {
        "id": "XrCXM144dOgS",
        "colab": {
          "base_uri": "https://localhost:8080/"
        },
        "outputId": "2fbb7896-0e61-4081-fdc0-e9aa71e0be24"
      },
      "execution_count": 24,
      "outputs": [
        {
          "output_type": "stream",
          "name": "stdout",
          "text": [
            "รหัสประจำตัว 633020553-6 ชื่อ นารากร วรกุล\n",
            "ได้เกรด A\n"
          ]
        }
      ]
    },
    {
      "cell_type": "markdown",
      "source": [
        "# Looping"
      ],
      "metadata": {
        "id": "B72PpqTCQn4h"
      }
    },
    {
      "cell_type": "markdown",
      "source": [
        "# Conditional Statment (if)"
      ],
      "metadata": {
        "id": "kELyteR-QriF"
      }
    }
  ]
}