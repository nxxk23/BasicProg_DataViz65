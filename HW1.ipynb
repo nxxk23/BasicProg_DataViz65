{
  "nbformat": 4,
  "nbformat_minor": 0,
  "metadata": {
    "colab": {
      "name": "HW1.ipynb",
      "provenance": [],
      "authorship_tag": "ABX9TyNYg9W7nk70HJ9e049tL3wp",
      "include_colab_link": true
    },
    "kernelspec": {
      "name": "python3",
      "display_name": "Python 3"
    },
    "language_info": {
      "name": "python"
    }
  },
  "cells": [
    {
      "cell_type": "markdown",
      "metadata": {
        "id": "view-in-github",
        "colab_type": "text"
      },
      "source": [
        "<a href=\"https://colab.research.google.com/github/nxxk23/BasicProg_DataViz65/blob/main/HW1.ipynb\" target=\"_parent\"><img src=\"https://colab.research.google.com/assets/colab-badge.svg\" alt=\"Open In Colab\"/></a>"
      ]
    },
    {
      "cell_type": "markdown",
      "source": [
        "HW1\n",
        "\n",
        "เขียน function แสดงความต่างของเวลา (Quiz1) โดย input อยู่ในรูปแบบ '09:11:50 - 12:30:15'\n",
        "\n",
        "และทดลองรัน\n",
        "\n",
        "\n",
        "*   '09:11:50 - 12:30:15'\n",
        "*   '13:41:07 - 20:00:18'\n",
        "*   '00:00:00 - 23:59:59'"
      ],
      "metadata": {
        "id": "qOaP_4rxMGNV"
      }
    },
    {
      "cell_type": "code",
      "source": [
        "def time1(a1,a2,a3,b1,b2,b3):\n",
        "    x = ((b1*3600) + (b2*60) + b3) - ((a1*3600) + (a2*60) + a3)\n",
        "    return x\n",
        "print(f'ความต่างของเวลาตั้งแต่ 09:11:50 - 12:30:15 มีค่าเท่ากับ {time1(9,11,50,12,30,15):,} วินาที')"
      ],
      "metadata": {
        "colab": {
          "base_uri": "https://localhost:8080/"
        },
        "id": "Bj9lcLmEMIzq",
        "outputId": "77fd2c18-aa8d-4e92-b6d1-edd2a4cb3881"
      },
      "execution_count": 1,
      "outputs": [
        {
          "output_type": "stream",
          "name": "stdout",
          "text": [
            "ความต่างของเวลาตั้งแต่ 09:11:50 - 12:30:15 มีค่าเท่ากับ 11,905 วินาที\n"
          ]
        }
      ]
    },
    {
      "cell_type": "code",
      "source": [
        "def time2(c1,c2,c3,d1,d2,d3):\n",
        "    y = ((d1*3600) + (d2*60) + d3) - ((c1*3600) + (c2*60) + c3)\n",
        "    return y\n",
        "print(f'ความต่างของเวลาตั้งแต่ 13:41:07 - 20:00:18 มีค่าเท่ากับ {time2(13,41,7,20,0,18):,} วินาที')"
      ],
      "metadata": {
        "colab": {
          "base_uri": "https://localhost:8080/"
        },
        "id": "1_cWzY7gUWQ-",
        "outputId": "5d7b7064-39f0-45d1-dd94-2dbba9b2f54c"
      },
      "execution_count": 2,
      "outputs": [
        {
          "output_type": "stream",
          "name": "stdout",
          "text": [
            "ความต่างของเวลาตั้งแต่ 13:41:07 - 20:00:18 มีค่าเท่ากับ 22,751 วินาที\n"
          ]
        }
      ]
    },
    {
      "cell_type": "code",
      "source": [
        "def time3(e1,e2,e3,f1,f2,f3):\n",
        "    z = ((f1*3600) + (f2*60) + f3) - ((e1*3600) + (e2*60) + e3)\n",
        "    return z\n",
        "print(f'ความต่างของเวลาตั้งแต่ 00:00:00 - 23:59:59 มีค่าเท่ากับ {time2(0,0,0,23,59,59):,} วินาที')"
      ],
      "metadata": {
        "colab": {
          "base_uri": "https://localhost:8080/"
        },
        "id": "IuIx0HXWUqWN",
        "outputId": "39eaf626-cf24-48e2-f90a-3b93ed9912bc"
      },
      "execution_count": 3,
      "outputs": [
        {
          "output_type": "stream",
          "name": "stdout",
          "text": [
            "ความต่างของเวลาตั้งแต่ 00:00:00 - 23:59:59 มีค่าเท่ากับ 86,399 วินาที\n"
          ]
        }
      ]
    }
  ]
}