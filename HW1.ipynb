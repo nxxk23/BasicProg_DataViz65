{
  "nbformat": 4,
  "nbformat_minor": 0,
  "metadata": {
    "colab": {
      "name": "HW1.ipynb",
      "provenance": [],
      "authorship_tag": "ABX9TyO9fAZHpmjtaaHrqabwVVqb",
      "include_colab_link": true
    },
    "kernelspec": {
      "name": "python3",
      "display_name": "Python 3"
    },
    "language_info": {
      "name": "python"
    }
  },
  "cells": [
    {
      "cell_type": "markdown",
      "metadata": {
        "id": "view-in-github",
        "colab_type": "text"
      },
      "source": [
        "<a href=\"https://colab.research.google.com/github/nxxk23/BasicProg_DataViz65/blob/main/HW1.ipynb\" target=\"_parent\"><img src=\"https://colab.research.google.com/assets/colab-badge.svg\" alt=\"Open In Colab\"/></a>"
      ]
    },
    {
      "cell_type": "markdown",
      "source": [
        "HW1\n",
        "\n",
        "เขียน function แสดงความต่างของเวลา (Quiz1) โดย input อยู่ในรูปแบบ '09:11:50 - 12:30:15'\n",
        "\n",
        "และทดลองรัน\n",
        "\n",
        "\n",
        "*   '09:11:50 - 12:30:15'\n",
        "*   '13:41:07 - 20:00:18'\n",
        "*   '00:00:00 - 23:59:59'"
      ],
      "metadata": {
        "id": "qOaP_4rxMGNV"
      }
    },
    {
      "cell_type": "code",
      "source": [
        "def time1(a1,a2,a3,b1,b2,b3):\n",
        "    x = ((b1*3600) + (b2*60) + b3) - ((a1*3600) + (a2*60) + a3)\n",
        "    return x\n",
        "print(f'ความต่างของเวลาตั้งแต่ 09:11:50 - 12:30:15 มีค่าเท่ากับ {time1(9,11,50,12,30,15):,} วินาที')"
      ],
      "metadata": {
        "colab": {
          "base_uri": "https://localhost:8080/"
        },
        "id": "Bj9lcLmEMIzq",
        "outputId": "0a030074-262e-45c6-8397-98e86524eebe"
      },
      "execution_count": 12,
      "outputs": [
        {
          "output_type": "stream",
          "name": "stdout",
          "text": [
            "ความต่างของเวลาตั้งแต่ 09:11:50 - 12:30:15 มีค่าเท่ากับ 11,905 วินาที\n"
          ]
        }
      ]
    },
    {
      "cell_type": "code",
      "source": [
        "def time2(a1,a2,a3,b1,b2,b3):\n",
        "    y = ((b1*3600) + (b2*60) + b3) - ((a1*3600) + (a2*60) + a3)\n",
        "    return y\n",
        "print(f'ความต่างของเวลาตั้งแต่ 13:41:07 - 20:00:18 มีค่าเท่ากับ {time2(13,41,7,20,0,18):,} วินาที')"
      ],
      "metadata": {
        "colab": {
          "base_uri": "https://localhost:8080/"
        },
        "id": "1_cWzY7gUWQ-",
        "outputId": "3362c2a7-31a6-492d-d892-b36b1aa150cf"
      },
      "execution_count": 13,
      "outputs": [
        {
          "output_type": "stream",
          "name": "stdout",
          "text": [
            "ความต่างของเวลาตั้งแต่ 13:41:07 - 20:00:18 มีค่าเท่ากับ 22,751 วินาที\n"
          ]
        }
      ]
    },
    {
      "cell_type": "code",
      "source": [
        "def time2(a1,a2,a3,b1,b2,b3):\n",
        "    z = ((b1*3600) + (b2*60) + b3) - ((a1*3600) + (a2*60) + a3)\n",
        "    return z\n",
        "print(f'ความต่างของเวลาตั้งแต่ 00:00:00 - 23:59:59 มีค่าเท่ากับ {time2(0,0,0,23,59,59):,} วินาที')"
      ],
      "metadata": {
        "colab": {
          "base_uri": "https://localhost:8080/"
        },
        "id": "IuIx0HXWUqWN",
        "outputId": "fe5d09bf-1d16-430d-8457-71dd7a1a5a20"
      },
      "execution_count": 14,
      "outputs": [
        {
          "output_type": "stream",
          "name": "stdout",
          "text": [
            "ความต่างของเวลาตั้งแต่ 00:00:00 - 23:59:59 มีค่าเท่ากับ 86,399 วินาที\n"
          ]
        }
      ]
    }
  ]
}