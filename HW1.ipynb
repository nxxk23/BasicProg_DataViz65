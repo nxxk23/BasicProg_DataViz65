{
  "nbformat": 4,
  "nbformat_minor": 0,
  "metadata": {
    "colab": {
      "name": "HW1.ipynb",
      "provenance": [],
      "authorship_tag": "ABX9TyMY7adbseJRWj+yt5PHsdQ1",
      "include_colab_link": true
    },
    "kernelspec": {
      "name": "python3",
      "display_name": "Python 3"
    },
    "language_info": {
      "name": "python"
    }
  },
  "cells": [
    {
      "cell_type": "markdown",
      "metadata": {
        "id": "view-in-github",
        "colab_type": "text"
      },
      "source": [
        "<a href=\"https://colab.research.google.com/github/nxxk23/BasicProg_DataViz65/blob/main/HW1.ipynb\" target=\"_parent\"><img src=\"https://colab.research.google.com/assets/colab-badge.svg\" alt=\"Open In Colab\"/></a>"
      ]
    },
    {
      "cell_type": "markdown",
      "source": [
        "##HW1\n",
        "\n",
        "เขียน function แสดงความต่างของเวลา (Quiz1) โดย input อยู่ในรูปแบบ '09:11:50 - 12:30:15'\n",
        "\n",
        "และทดลองรัน\n",
        "\n",
        "\n",
        "*   '09:11:50 - 12:30:15'\n",
        "*   '13:41:07 - 20:00:18'\n",
        "*   '00:00:00 - 23:59:59'"
      ],
      "metadata": {
        "id": "qOaP_4rxMGNV"
      }
    },
    {
      "cell_type": "code",
      "source": [
        "def time1(a1,a2,a3,b1,b2,b3):\n",
        "    x = ((b1*3600) + (b2*60) + b3) - ((a1*3600) + (a2*60) + a3)\n",
        "    return x\n",
        "print(f'ความต่างของเวลาตั้งแต่ 09:11:50 - 12:30:15 มีค่าเท่ากับ {time1(9,11,50,12,30,15):,} วินาที')"
      ],
      "metadata": {
        "colab": {
          "base_uri": "https://localhost:8080/"
        },
        "id": "Bj9lcLmEMIzq",
        "outputId": "77fd2c18-aa8d-4e92-b6d1-edd2a4cb3881"
      },
      "execution_count": null,
      "outputs": [
        {
          "output_type": "stream",
          "name": "stdout",
          "text": [
            "ความต่างของเวลาตั้งแต่ 09:11:50 - 12:30:15 มีค่าเท่ากับ 11,905 วินาที\n"
          ]
        }
      ]
    },
    {
      "cell_type": "code",
      "source": [
        "def time2(c1,c2,c3,d1,d2,d3):\n",
        "    y = ((d1*3600) + (d2*60) + d3) - ((c1*3600) + (c2*60) + c3)\n",
        "    return y\n",
        "print(f'ความต่างของเวลาตั้งแต่ 13:41:07 - 20:00:18 มีค่าเท่ากับ {time2(13,41,7,20,0,18):,} วินาที')"
      ],
      "metadata": {
        "colab": {
          "base_uri": "https://localhost:8080/"
        },
        "id": "1_cWzY7gUWQ-",
        "outputId": "5d7b7064-39f0-45d1-dd94-2dbba9b2f54c"
      },
      "execution_count": null,
      "outputs": [
        {
          "output_type": "stream",
          "name": "stdout",
          "text": [
            "ความต่างของเวลาตั้งแต่ 13:41:07 - 20:00:18 มีค่าเท่ากับ 22,751 วินาที\n"
          ]
        }
      ]
    },
    {
      "cell_type": "code",
      "source": [
        "def time3(e1,e2,e3,f1,f2,f3):\n",
        "    z = ((f1*3600) + (f2*60) + f3) - ((e1*3600) + (e2*60) + e3)\n",
        "    return z\n",
        "print(f'ความต่างของเวลาตั้งแต่ 00:00:00 - 23:59:59 มีค่าเท่ากับ {time2(0,0,0,23,59,59):,} วินาที')"
      ],
      "metadata": {
        "colab": {
          "base_uri": "https://localhost:8080/"
        },
        "id": "IuIx0HXWUqWN",
        "outputId": "39eaf626-cf24-48e2-f90a-3b93ed9912bc"
      },
      "execution_count": null,
      "outputs": [
        {
          "output_type": "stream",
          "name": "stdout",
          "text": [
            "ความต่างของเวลาตั้งแต่ 00:00:00 - 23:59:59 มีค่าเท่ากับ 86,399 วินาที\n"
          ]
        }
      ]
    },
    {
      "cell_type": "markdown",
      "source": [
        "###เฉลย"
      ],
      "metadata": {
        "id": "dbURC8y-UrLP"
      }
    },
    {
      "cell_type": "code",
      "source": [
        "input = '09:11:50 - 12:30:15'\n",
        "input"
      ],
      "metadata": {
        "id": "MqPXX8o1Uvk1",
        "outputId": "dcc2c015-7f9f-46bd-e6ba-c70ca9d6e5f9",
        "colab": {
          "base_uri": "https://localhost:8080/",
          "height": 35
        }
      },
      "execution_count": 1,
      "outputs": [
        {
          "output_type": "execute_result",
          "data": {
            "text/plain": [
              "'09:11:50 - 12:30:15'"
            ],
            "application/vnd.google.colaboratory.intrinsic+json": {
              "type": "string"
            }
          },
          "metadata": {},
          "execution_count": 1
        }
      ]
    },
    {
      "cell_type": "code",
      "source": [
        "input_split = input.split(' - ')\n",
        "input_split"
      ],
      "metadata": {
        "id": "9LnmcfhCU4Pr",
        "outputId": "a9fcabc6-eb82-4aa4-d432-0e4d9c9ee217",
        "colab": {
          "base_uri": "https://localhost:8080/"
        }
      },
      "execution_count": 2,
      "outputs": [
        {
          "output_type": "execute_result",
          "data": {
            "text/plain": [
              "['09:11:50', '12:30:15']"
            ]
          },
          "metadata": {},
          "execution_count": 2
        }
      ]
    },
    {
      "cell_type": "code",
      "source": [
        "starttimeSP = input_split[0].split(':')\n",
        "endtimeSP = input_split[-1].split(':')\n",
        "print(starttimeSP,endtimeSP,sep='\\n')"
      ],
      "metadata": {
        "id": "7iFs-6F-VEW6",
        "outputId": "28d58107-b5fe-483d-c044-ccc76bfbbe12",
        "colab": {
          "base_uri": "https://localhost:8080/"
        }
      },
      "execution_count": 3,
      "outputs": [
        {
          "output_type": "stream",
          "name": "stdout",
          "text": [
            "['09', '11', '50']\n",
            "['12', '30', '15']\n"
          ]
        }
      ]
    },
    {
      "cell_type": "code",
      "source": [
        "def calculate_time(input) :\n",
        "  input_split = input.split('-')\n",
        "  starttimeSP = input_split[0].split(':')\n",
        "  endtimeSP = input_split[-1].split(':')\n",
        "\n",
        "  starttime = 3600*int(starttimeSP[0]) + 60*int(starttimeSP[1]) + int(starttimeSP[2])\n",
        "  endtime = 3600*int(endtimeSP[0]) + 60*int(endtimeSP[1]) + int(endtimeSP[2])\n",
        "\n",
        "  print(f'ความต่างของเวลาตั้งแต่ {input_split[0]} ถึง {input_split[1]} มีค่าเท่ากับ {endtime-starttime:,} วินาที')"
      ],
      "metadata": {
        "id": "zFpMV8EPVj63"
      },
      "execution_count": 4,
      "outputs": []
    },
    {
      "cell_type": "code",
      "source": [
        "calculate_time('09:11:50 - 12:30:15')"
      ],
      "metadata": {
        "id": "9ruHyFjUW7sl",
        "outputId": "41e13f46-c671-470d-c291-841a403546e8",
        "colab": {
          "base_uri": "https://localhost:8080/"
        }
      },
      "execution_count": 5,
      "outputs": [
        {
          "output_type": "stream",
          "name": "stdout",
          "text": [
            "ความต่างของเวลาตั้งแต่ 09:11:50  ถึง  12:30:15 มีค่าเท่ากับ 11,905 วินาที\n"
          ]
        }
      ]
    },
    {
      "cell_type": "code",
      "source": [
        "calculate_time('13:41:07 - 20:00:18')"
      ],
      "metadata": {
        "id": "7HquHnEAXD28",
        "outputId": "b99eea47-d1ca-4aef-9da4-062c757748c9",
        "colab": {
          "base_uri": "https://localhost:8080/"
        }
      },
      "execution_count": 6,
      "outputs": [
        {
          "output_type": "stream",
          "name": "stdout",
          "text": [
            "ความต่างของเวลาตั้งแต่ 13:41:07  ถึง  20:00:18 มีค่าเท่ากับ 22,751 วินาที\n"
          ]
        }
      ]
    },
    {
      "cell_type": "code",
      "source": [
        "calculate_time('00:00:00 - 23:59:59')"
      ],
      "metadata": {
        "id": "z98NkcrxXEai",
        "outputId": "0f00e0fb-a497-4b1c-a9b9-a2b5df1531d0",
        "colab": {
          "base_uri": "https://localhost:8080/"
        }
      },
      "execution_count": 7,
      "outputs": [
        {
          "output_type": "stream",
          "name": "stdout",
          "text": [
            "ความต่างของเวลาตั้งแต่ 00:00:00  ถึง  23:59:59 มีค่าเท่ากับ 86,399 วินาที\n"
          ]
        }
      ]
    }
  ]
}