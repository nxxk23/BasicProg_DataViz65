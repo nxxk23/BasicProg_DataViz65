{
  "nbformat": 4,
  "nbformat_minor": 0,
  "metadata": {
    "colab": {
      "name": "Introduction.ipynb",
      "provenance": [],
      "authorship_tag": "ABX9TyPj9FLXZMn+9Iql4EVRGsZi",
      "include_colab_link": true
    },
    "kernelspec": {
      "name": "python3",
      "display_name": "Python 3"
    },
    "language_info": {
      "name": "python"
    }
  },
  "cells": [
    {
      "cell_type": "markdown",
      "metadata": {
        "id": "view-in-github",
        "colab_type": "text"
      },
      "source": [
        "<a href=\"https://colab.research.google.com/github/nxxk23/BasicProg_DataViz65/blob/main/Introduction.ipynb\" target=\"_parent\"><img src=\"https://colab.research.google.com/assets/colab-badge.svg\" alt=\"Open In Colab\"/></a>"
      ]
    },
    {
      "cell_type": "markdown",
      "source": [
        "นารากร วรกุล (5536)"
      ],
      "metadata": {
        "id": "GseKp2xSJ8a9"
      }
    },
    {
      "cell_type": "markdown",
      "source": [
        "# Markdown"
      ],
      "metadata": {
        "id": "4zZCQ4CiIc4D"
      }
    },
    {
      "cell_type": "markdown",
      "source": [
        "[https://markdownguide.org/cheat-sheet/](https://)"
      ],
      "metadata": {
        "id": "e4yMBFqnKO3z"
      }
    },
    {
      "cell_type": "markdown",
      "source": [
        "## heading2"
      ],
      "metadata": {
        "id": "mYQOannGIuAr"
      }
    },
    {
      "cell_type": "code",
      "source": [
        "print('Narakorn')"
      ],
      "metadata": {
        "colab": {
          "base_uri": "https://localhost:8080/"
        },
        "id": "uHQ9szyBIz09",
        "outputId": "49898aa2-be35-40a2-9748-31b5ead4c8e1"
      },
      "execution_count": 2,
      "outputs": [
        {
          "output_type": "stream",
          "name": "stdout",
          "text": [
            "Narakorn\n"
          ]
        }
      ]
    }
  ]
}